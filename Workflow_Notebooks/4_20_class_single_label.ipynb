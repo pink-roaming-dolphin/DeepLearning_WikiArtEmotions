{
  "nbformat": 4,
  "nbformat_minor": 5,
  "metadata": {
    "kernelspec": {
      "display_name": "Python 3 (ipykernel)",
      "language": "python",
      "name": "python3"
    },
    "language_info": {
      "codemirror_mode": {
        "name": "ipython",
        "version": 3
      },
      "file_extension": ".py",
      "mimetype": "text/x-python",
      "name": "python",
      "nbconvert_exporter": "python",
      "pygments_lexer": "ipython3",
      "version": "3.8.5"
    },
    "colab": {
      "name": "4_20_class_single_label.ipynb",
      "provenance": [],
      "collapsed_sections": [],
      "machine_shape": "hm"
    },
    "accelerator": "GPU"
  },
  "cells": [
    {
      "cell_type": "code",
      "metadata": {
        "colab": {
          "base_uri": "https://localhost:8080/"
        },
        "id": "EXqay_7il6ni",
        "outputId": "d60cec9a-b66d-483e-961c-c3f65cee8653"
      },
      "source": [
        "from google.colab import drive\n",
        "drive.mount('/content/drive')"
      ],
      "id": "EXqay_7il6ni",
      "execution_count": null,
      "outputs": [
        {
          "output_type": "stream",
          "name": "stdout",
          "text": [
            "Mounted at /content/drive\n"
          ]
        }
      ]
    },
    {
      "cell_type": "code",
      "metadata": {
        "id": "ad0be769"
      },
      "source": [
        "import pandas as pd\n",
        "import numpy as np\n",
        "\n",
        "import pathlib\n",
        "import matplotlib.pyplot as plt\n",
        "\n",
        "from glob import glob\n",
        "import os \n",
        "\n",
        "import tensorflow as tf\n",
        "from tensorflow import keras\n",
        "from tensorflow.keras import layers\n",
        "from tensorflow.keras.models import Sequential\n",
        "from tensorflow.keras.preprocessing.image import ImageDataGenerator\n",
        "\n",
        "from tensorflow.keras.callbacks import EarlyStopping\n",
        "from tensorflow.keras.layers import Dense, Conv2D, MaxPool2D, Flatten, Dropout, Activation\n",
        "# from keras.callbacks import EarlyStopping\n",
        "# from keras.layers import Dense, Conv2D, MaxPool2D, Flatten, Dropout, Activation\n",
        "\n",
        "from tensorflow.keras.applications import mobilenet_v2\n",
        "from tensorflow.keras.models import Model\n",
        "from tensorflow.keras.callbacks import ReduceLROnPlateau"
      ],
      "id": "ad0be769",
      "execution_count": null,
      "outputs": []
    },
    {
      "cell_type": "code",
      "metadata": {
        "id": "800ae0df"
      },
      "source": [
        "from tensorflow.keras.applications import VGG16\n",
        "from tensorflow.keras.layers import InputLayer"
      ],
      "id": "800ae0df",
      "execution_count": null,
      "outputs": []
    },
    {
      "cell_type": "markdown",
      "metadata": {
        "id": "7c7c5490"
      },
      "source": [
        "## Check & Load Data from Directory"
      ],
      "id": "7c7c5490"
    },
    {
      "cell_type": "code",
      "metadata": {
        "id": "YxNuDibDrasc"
      },
      "source": [
        "dir = 'drive/MyDrive/DL/dataset_images' "
      ],
      "id": "YxNuDibDrasc",
      "execution_count": null,
      "outputs": []
    },
    {
      "cell_type": "code",
      "metadata": {
        "id": "064b99d7"
      },
      "source": [
        "data_dir = pathlib.Path(\"drive/MyDrive/DL/dataset_images\")"
      ],
      "id": "064b99d7",
      "execution_count": null,
      "outputs": []
    },
    {
      "cell_type": "code",
      "metadata": {
        "colab": {
          "base_uri": "https://localhost:8080/"
        },
        "id": "4b57419c",
        "outputId": "2cfb9263-17b4-4297-8b3e-fda31bfa24e1"
      },
      "source": [
        "image_count = len(list(data_dir.glob('**/*.png')))\n",
        "print(image_count)"
      ],
      "id": "4b57419c",
      "execution_count": null,
      "outputs": [
        {
          "output_type": "stream",
          "name": "stdout",
          "text": [
            "4119\n"
          ]
        }
      ]
    },
    {
      "cell_type": "code",
      "metadata": {
        "id": "8147d0fb"
      },
      "source": [
        "df = pd.read_csv(\"drive/MyDrive/DL/path_prob.csv\")"
      ],
      "id": "8147d0fb",
      "execution_count": null,
      "outputs": []
    },
    {
      "cell_type": "code",
      "metadata": {
        "id": "7315dcd0",
        "colab": {
          "base_uri": "https://localhost:8080/",
          "height": 143
        },
        "outputId": "eed922c1-2c2f-435f-b38c-420b1147c9f3"
      },
      "source": [
        "df.head(3)"
      ],
      "id": "7315dcd0",
      "execution_count": null,
      "outputs": [
        {
          "output_type": "execute_result",
          "data": {
            "text/html": [
              "<div>\n",
              "<style scoped>\n",
              "    .dataframe tbody tr th:only-of-type {\n",
              "        vertical-align: middle;\n",
              "    }\n",
              "\n",
              "    .dataframe tbody tr th {\n",
              "        vertical-align: top;\n",
              "    }\n",
              "\n",
              "    .dataframe thead th {\n",
              "        text-align: right;\n",
              "    }\n",
              "</style>\n",
              "<table border=\"1\" class=\"dataframe\">\n",
              "  <thead>\n",
              "    <tr style=\"text-align: right;\">\n",
              "      <th></th>\n",
              "      <th>Unnamed: 0</th>\n",
              "      <th>ID</th>\n",
              "      <th>emotion</th>\n",
              "      <th>path</th>\n",
              "    </tr>\n",
              "  </thead>\n",
              "  <tbody>\n",
              "    <tr>\n",
              "      <th>0</th>\n",
              "      <td>0</td>\n",
              "      <td>58c6237dedc2c9c7dc0de1ae</td>\n",
              "      <td>happiness</td>\n",
              "      <td>dataset_images/58c6237dedc2c9c7dc0de1ae.png</td>\n",
              "    </tr>\n",
              "    <tr>\n",
              "      <th>1</th>\n",
              "      <td>1</td>\n",
              "      <td>577280dfedc2cb3880f28e76</td>\n",
              "      <td>anticipation</td>\n",
              "      <td>dataset_images/577280dfedc2cb3880f28e76.png</td>\n",
              "    </tr>\n",
              "    <tr>\n",
              "      <th>2</th>\n",
              "      <td>2</td>\n",
              "      <td>57727f2dedc2cb3880ed5fa9</td>\n",
              "      <td>happiness</td>\n",
              "      <td>dataset_images/57727f2dedc2cb3880ed5fa9.png</td>\n",
              "    </tr>\n",
              "  </tbody>\n",
              "</table>\n",
              "</div>"
            ],
            "text/plain": [
              "   Unnamed: 0  ...                                         path\n",
              "0           0  ...  dataset_images/58c6237dedc2c9c7dc0de1ae.png\n",
              "1           1  ...  dataset_images/577280dfedc2cb3880f28e76.png\n",
              "2           2  ...  dataset_images/57727f2dedc2cb3880ed5fa9.png\n",
              "\n",
              "[3 rows x 4 columns]"
            ]
          },
          "metadata": {},
          "execution_count": 10
        }
      ]
    },
    {
      "cell_type": "code",
      "metadata": {
        "id": "x1X_2lCLmbtM"
      },
      "source": [
        "df.path = \"drive/MyDrive/DL/\" + df.path\n",
        "df"
      ],
      "id": "x1X_2lCLmbtM",
      "execution_count": null,
      "outputs": []
    },
    {
      "cell_type": "code",
      "metadata": {
        "colab": {
          "base_uri": "https://localhost:8080/"
        },
        "id": "PntTJoEAqzdL",
        "outputId": "b504acb4-8ac2-4f33-f525-259c73b60402"
      },
      "source": [
        "df.emotion.value_counts()"
      ],
      "id": "PntTJoEAqzdL",
      "execution_count": null,
      "outputs": [
        {
          "output_type": "execute_result",
          "data": {
            "text/plain": [
              "happiness           1102\n",
              "surprise             822\n",
              "anticipation         520\n",
              "trust                478\n",
              "fear                 358\n",
              "sadness              226\n",
              "humility             184\n",
              "love                 114\n",
              "disgust              101\n",
              "optimism              62\n",
              "arrogance             52\n",
              "anger                 36\n",
              "gratitude             14\n",
              "pessimism             10\n",
              "disagreeableness       7\n",
              "shame                  7\n",
              "agreeableness          5\n",
              "neutral                5\n",
              "shyness                2\n",
              "Name: emotion, dtype: int64"
            ]
          },
          "metadata": {},
          "execution_count": 66
        }
      ]
    },
    {
      "cell_type": "code",
      "metadata": {
        "id": "Tipu2sQUrKqL"
      },
      "source": [
        "frequent_emotions = [\"happiness\", 'surprise', 'anticipation', 'trust', 'fear', 'sadness', \\\n",
        "                     'humility', 'love', 'disgust', 'optimism']"
      ],
      "id": "Tipu2sQUrKqL",
      "execution_count": null,
      "outputs": []
    },
    {
      "cell_type": "code",
      "metadata": {
        "id": "iIp1PqGaq66Q"
      },
      "source": [
        "df = df[(df.emotion == \"happiness\") | (df.emotion == \"surprise\")| (df.emotion == \"anticipation\")| (df.emotion == \"trust\")\\\n",
        "   | (df.emotion == \"fear\")| (df.emotion == \"sadness\")| (df.emotion == \"humility\")| (df.emotion == \"love\")\\\n",
        "   | (df.emotion == \"disgust\")| (df.emotion == \"optimism\")]"
      ],
      "id": "iIp1PqGaq66Q",
      "execution_count": null,
      "outputs": []
    },
    {
      "cell_type": "markdown",
      "metadata": {
        "id": "b1d04427"
      },
      "source": [
        "## Modeling "
      ],
      "id": "b1d04427"
    },
    {
      "cell_type": "markdown",
      "metadata": {
        "id": "0b9a238f"
      },
      "source": [
        "We will first set the parameters that we will be using throughout the modeling process and then run the following models: \n",
        "1. Baseline \n",
        "2. Using Convolutions\n",
        "3. Data Augmentation (with the Convolutions) \n",
        "4. A second way of Data Augmentation (implemented with Convolutions) \n",
        "5. Transfer Learning \n",
        "6. Transfer Learning with Data Augmentation \n",
        "7. Transfer Learning with Data Augmentation Getting Rid of Dense Layers but adding more Dropouts as well as regularization in the Layers\n",
        "8. Another similar model \n",
        "9. Try VGG16 architecture \n",
        "10. VGG16 with CNN's on top "
      ],
      "id": "0b9a238f"
    },
    {
      "cell_type": "markdown",
      "metadata": {
        "id": "19800c29"
      },
      "source": [
        "### Set parameters"
      ],
      "id": "19800c29"
    },
    {
      "cell_type": "markdown",
      "metadata": {
        "id": "dc1981d4"
      },
      "source": [
        "Let's set some of the parameters we will be using. \n",
        "\n",
        "- The image size we will resize all images to at the beginning of our training process. \n",
        "- We will set the number of epochs to a certain number so that we can keep tweaking it later. \n",
        "- Batch size will be 32. \n",
        "- The emotions we will be working with. \n",
        "- We will split the data into 3: train - validation - test (60% - 20% - 20%) "
      ],
      "id": "dc1981d4"
    },
    {
      "cell_type": "code",
      "metadata": {
        "id": "f6ad2104"
      },
      "source": [
        "img_height = 180\n",
        "img_width = 180"
      ],
      "id": "f6ad2104",
      "execution_count": null,
      "outputs": []
    },
    {
      "cell_type": "code",
      "metadata": {
        "id": "0774c553"
      },
      "source": [
        "epochs = 100\n",
        "batch_size = 32"
      ],
      "id": "0774c553",
      "execution_count": null,
      "outputs": []
    },
    {
      "cell_type": "code",
      "metadata": {
        "id": "9693c1e0"
      },
      "source": [
        "val_set_start = int((7.5)*image_count//10)\n",
        "test_set_start = int(9*image_count//10)"
      ],
      "id": "9693c1e0",
      "execution_count": null,
      "outputs": []
    },
    {
      "cell_type": "code",
      "metadata": {
        "colab": {
          "base_uri": "https://localhost:8080/"
        },
        "id": "MiH_9Lz_oBC7",
        "outputId": "fc081758-ba8b-4c22-d5dc-05d5ba330904"
      },
      "source": [
        "test_set_start"
      ],
      "id": "MiH_9Lz_oBC7",
      "execution_count": null,
      "outputs": [
        {
          "output_type": "execute_result",
          "data": {
            "text/plain": [
              "3707"
            ]
          },
          "metadata": {},
          "execution_count": 64
        }
      ]
    },
    {
      "cell_type": "code",
      "metadata": {
        "colab": {
          "base_uri": "https://localhost:8080/"
        },
        "id": "858e10a1",
        "outputId": "ffe4283e-2bcd-48be-cfd0-97b24bd2fb2d"
      },
      "source": [
        "datagen=ImageDataGenerator(rescale=1./255.)\n",
        "test_datagen=ImageDataGenerator(rescale=1./255.)\n",
        "\n",
        "train_generator=datagen.flow_from_dataframe(\n",
        "                                        dataframe = df[:val_set_start],\n",
        "                                        x_col = \"path\",\n",
        "                                        y_col = \"emotion\",\n",
        "                                        batch_size = 32,\n",
        "                                        interpolation = 'bilinear',\n",
        "                                        seed = 42,\n",
        "                                        shuffle = True,\n",
        "                                        class_mode = \"categorical\",\n",
        "                                        target_size = (img_height, img_width))\n",
        "\n",
        "valid_generator=test_datagen.flow_from_dataframe(\n",
        "                                            dataframe = df[(val_set_start):(test_set_start)],\n",
        "                                            x_col = \"path\",\n",
        "                                            y_col = \"emotion\",\n",
        "                                            batch_size = 32,\n",
        "                                            # # interpolation = 'bilinear',\n",
        "                                            # seed = 42,\n",
        "                                            shuffle = False,\n",
        "                                            class_mode = \"categorical\",\n",
        "                                            target_size = (img_height, img_width))\n",
        "\n",
        "test_generator=test_datagen.flow_from_dataframe(\n",
        "                                            dataframe = df[test_set_start:],\n",
        "                                            x_col = \"path\",\n",
        "                                            y_col = \"emotion\",\n",
        "                                            batch_size = 32,\n",
        "                                            interpolation = 'bilinear',\n",
        "                                            seed = 42,\n",
        "                                            shuffle = False,\n",
        "                                            class_mode = \"categorical\",\n",
        "                                            target_size = (img_height, img_width))"
      ],
      "id": "858e10a1",
      "execution_count": null,
      "outputs": [
        {
          "output_type": "stream",
          "name": "stdout",
          "text": [
            "Found 3089 validated image filenames belonging to 10 classes.\n",
            "Found 618 validated image filenames belonging to 10 classes.\n",
            "Found 260 validated image filenames belonging to 10 classes.\n"
          ]
        }
      ]
    },
    {
      "cell_type": "code",
      "metadata": {
        "colab": {
          "base_uri": "https://localhost:8080/"
        },
        "id": "cp2AY9AXgN-j",
        "outputId": "19722303-c890-402a-e0c6-5bf4b3f7a815"
      },
      "source": [
        "class_names = train_generator.class_indices\n",
        "print(class_names)"
      ],
      "id": "cp2AY9AXgN-j",
      "execution_count": null,
      "outputs": [
        {
          "output_type": "stream",
          "name": "stdout",
          "text": [
            "{'anticipation': 0, 'disgust': 1, 'fear': 2, 'happiness': 3, 'humility': 4, 'love': 5, 'optimism': 6, 'sadness': 7, 'surprise': 8, 'trust': 9}\n"
          ]
        }
      ]
    },
    {
      "cell_type": "code",
      "metadata": {
        "scrolled": true,
        "colab": {
          "base_uri": "https://localhost:8080/"
        },
        "id": "f81e2dc2",
        "outputId": "b2632245-5ce2-4aad-cb19-618fb2b2c40e"
      },
      "source": [
        "images, labels = next(train_generator)\n",
        "print(images.dtype, images.shape)\n",
        "print(labels.dtype, labels.shape)"
      ],
      "id": "f81e2dc2",
      "execution_count": null,
      "outputs": [
        {
          "output_type": "stream",
          "name": "stdout",
          "text": [
            "float32 (32, 180, 180, 3)\n",
            "float32 (32, 10)\n"
          ]
        }
      ]
    },
    {
      "cell_type": "code",
      "metadata": {
        "colab": {
          "base_uri": "https://localhost:8080/"
        },
        "id": "4fa9b680",
        "outputId": "d549353a-17ab-4380-c7e4-41bf122a787d"
      },
      "source": [
        "num_classes = len(class_names)\n",
        "num_classes"
      ],
      "id": "4fa9b680",
      "execution_count": null,
      "outputs": [
        {
          "output_type": "execute_result",
          "data": {
            "text/plain": [
              "10"
            ]
          },
          "metadata": {},
          "execution_count": 88
        }
      ]
    },
    {
      "cell_type": "code",
      "metadata": {
        "id": "388ab39f"
      },
      "source": [
        "STEP_SIZE_TRAIN=train_generator.n//train_generator.batch_size\n",
        "STEP_SIZE_VALID=valid_generator.n//valid_generator.batch_size\n",
        "STEP_SIZE_TEST=test_generator.n//test_generator.batch_size\n"
      ],
      "id": "388ab39f",
      "execution_count": null,
      "outputs": []
    },
    {
      "cell_type": "markdown",
      "metadata": {
        "id": "22e5b486"
      },
      "source": [
        "### 1. Baseline"
      ],
      "id": "22e5b486"
    },
    {
      "cell_type": "markdown",
      "metadata": {
        "id": "a52938ee"
      },
      "source": [
        "We will make three generators according to the above split. \n",
        "\n",
        "The number of classes will be the number of emotions examined. We know from our EDA that there is a class imbalance between the classses but as we are doing multi-labels we will go with this for now. \n",
        "\n",
        "We will then make a baseline model with 20 nodes and plot to see how train & validation accuracy and losses change over epochs. "
      ],
      "id": "a52938ee"
    },
    {
      "cell_type": "code",
      "metadata": {
        "id": "997bc07f"
      },
      "source": [
        "model = Sequential([\n",
        "    keras.layers.InputLayer(input_shape=(img_height, img_width,3)),\n",
        "    keras.layers.Dense(units = 20, activation = 'relu'), \n",
        "    keras.layers.Flatten(),\n",
        "    keras.layers.Dense(units = num_classes, activation = 'softmax') \n",
        "])"
      ],
      "id": "997bc07f",
      "execution_count": null,
      "outputs": []
    },
    {
      "cell_type": "code",
      "metadata": {
        "collapsed": true,
        "id": "dd02242a",
        "colab": {
          "base_uri": "https://localhost:8080/"
        },
        "outputId": "4090681e-dcd0-4ab8-91a4-ed920b389be5"
      },
      "source": [
        "model.compile(optimizer='adam',loss=\"categorical_crossentropy\",metrics=[\"accuracy\"])\n",
        "model.summary()"
      ],
      "id": "dd02242a",
      "execution_count": null,
      "outputs": [
        {
          "output_type": "stream",
          "name": "stdout",
          "text": [
            "Model: \"sequential_8\"\n",
            "_________________________________________________________________\n",
            " Layer (type)                Output Shape              Param #   \n",
            "=================================================================\n",
            " dense_17 (Dense)            (None, 180, 180, 20)      80        \n",
            "                                                                 \n",
            " flatten_8 (Flatten)         (None, 648000)            0         \n",
            "                                                                 \n",
            " dense_18 (Dense)            (None, 10)                6480010   \n",
            "                                                                 \n",
            "=================================================================\n",
            "Total params: 6,480,090\n",
            "Trainable params: 6,480,090\n",
            "Non-trainable params: 0\n",
            "_________________________________________________________________\n"
          ]
        }
      ]
    },
    {
      "cell_type": "markdown",
      "metadata": {
        "id": "e672fd68"
      },
      "source": [
        "We will use Early Stopping because we know from earlier tries that this model does overfit. "
      ],
      "id": "e672fd68"
    },
    {
      "cell_type": "code",
      "metadata": {
        "collapsed": true,
        "id": "bcb1630c",
        "colab": {
          "base_uri": "https://localhost:8080/"
        },
        "outputId": "43b6e87f-96d2-4545-bf08-d1a62aba0683"
      },
      "source": [
        "history_baseline = model.fit(train_generator,\n",
        "                    # steps_per_epoch=STEP_SIZE_TRAIN,\n",
        "                    steps_per_epoch = 25, \n",
        "                    validation_data=valid_generator,\n",
        "                    validation_steps=STEP_SIZE_VALID,\n",
        "                    epochs=epochs,\n",
        "                    callbacks = EarlyStopping(monitor='val_loss', \\\n",
        "                                              mode='min', verbose=1, patience = 8,\\\n",
        "                                             restore_best_weights=True)\n",
        ")"
      ],
      "id": "bcb1630c",
      "execution_count": null,
      "outputs": [
        {
          "output_type": "stream",
          "name": "stdout",
          "text": [
            "Epoch 1/100\n",
            "25/25 [==============================] - 304s 12s/step - loss: 61.2937 - accuracy: 0.1988 - val_loss: 25.7853 - val_accuracy: 0.2747\n",
            "Epoch 2/100\n",
            "25/25 [==============================] - 74s 3s/step - loss: 14.6898 - accuracy: 0.2300 - val_loss: 11.1056 - val_accuracy: 0.2681\n",
            "Epoch 3/100\n",
            "25/25 [==============================] - 62s 3s/step - loss: 7.2762 - accuracy: 0.2587 - val_loss: 7.5236 - val_accuracy: 0.3059\n",
            "Epoch 4/100\n",
            "25/25 [==============================] - 58s 2s/step - loss: 5.8525 - accuracy: 0.2788 - val_loss: 7.1661 - val_accuracy: 0.1859\n",
            "Epoch 5/100\n",
            "25/25 [==============================] - 50s 2s/step - loss: 6.0651 - accuracy: 0.3363 - val_loss: 4.9380 - val_accuracy: 0.2533\n",
            "Epoch 6/100\n",
            "25/25 [==============================] - 45s 2s/step - loss: 3.7749 - accuracy: 0.3450 - val_loss: 4.9282 - val_accuracy: 0.1645\n",
            "Epoch 7/100\n",
            "25/25 [==============================] - 44s 2s/step - loss: 5.8472 - accuracy: 0.3338 - val_loss: 4.8048 - val_accuracy: 0.1974\n",
            "Epoch 8/100\n",
            "25/25 [==============================] - 43s 2s/step - loss: 4.7985 - accuracy: 0.2925 - val_loss: 4.3278 - val_accuracy: 0.1941\n",
            "Epoch 9/100\n",
            "25/25 [==============================] - 40s 2s/step - loss: 3.1836 - accuracy: 0.3638 - val_loss: 5.1055 - val_accuracy: 0.2928\n",
            "Epoch 10/100\n",
            "25/25 [==============================] - 37s 2s/step - loss: 2.9842 - accuracy: 0.3490 - val_loss: 4.5811 - val_accuracy: 0.2664\n",
            "Epoch 11/100\n",
            "25/25 [==============================] - 38s 2s/step - loss: 2.7308 - accuracy: 0.4187 - val_loss: 4.3810 - val_accuracy: 0.2516\n",
            "Epoch 12/100\n",
            "25/25 [==============================] - 36s 1s/step - loss: 2.5356 - accuracy: 0.4338 - val_loss: 3.9846 - val_accuracy: 0.2977\n",
            "Epoch 13/100\n",
            "25/25 [==============================] - 37s 1s/step - loss: 2.5457 - accuracy: 0.4318 - val_loss: 3.7165 - val_accuracy: 0.2763\n",
            "Epoch 14/100\n",
            "25/25 [==============================] - 33s 1s/step - loss: 1.9690 - accuracy: 0.5000 - val_loss: 3.8024 - val_accuracy: 0.3405\n",
            "Epoch 15/100\n",
            "25/25 [==============================] - 39s 2s/step - loss: 1.9589 - accuracy: 0.4625 - val_loss: 3.6692 - val_accuracy: 0.2615\n",
            "Epoch 16/100\n",
            "25/25 [==============================] - 36s 1s/step - loss: 1.7585 - accuracy: 0.5238 - val_loss: 4.6426 - val_accuracy: 0.2220\n",
            "Epoch 17/100\n",
            "25/25 [==============================] - 33s 1s/step - loss: 2.5032 - accuracy: 0.4375 - val_loss: 3.5128 - val_accuracy: 0.2467\n",
            "Epoch 18/100\n",
            "25/25 [==============================] - 33s 1s/step - loss: 1.8754 - accuracy: 0.5299 - val_loss: 3.1889 - val_accuracy: 0.3125\n",
            "Epoch 19/100\n",
            "25/25 [==============================] - 34s 1s/step - loss: 1.5235 - accuracy: 0.5783 - val_loss: 4.0307 - val_accuracy: 0.2056\n",
            "Epoch 20/100\n",
            "25/25 [==============================] - 36s 1s/step - loss: 1.6763 - accuracy: 0.5763 - val_loss: 3.3196 - val_accuracy: 0.2747\n",
            "Epoch 21/100\n",
            "25/25 [==============================] - 35s 1s/step - loss: 1.3896 - accuracy: 0.6000 - val_loss: 3.2919 - val_accuracy: 0.3109\n",
            "Epoch 22/100\n",
            "25/25 [==============================] - 34s 1s/step - loss: 1.2957 - accuracy: 0.6350 - val_loss: 3.3090 - val_accuracy: 0.3257\n",
            "Epoch 23/100\n",
            "25/25 [==============================] - 35s 1s/step - loss: 1.2948 - accuracy: 0.6475 - val_loss: 2.8405 - val_accuracy: 0.2878\n",
            "Epoch 24/100\n",
            "25/25 [==============================] - 33s 1s/step - loss: 1.0539 - accuracy: 0.6975 - val_loss: 2.9405 - val_accuracy: 0.2895\n",
            "Epoch 25/100\n",
            "25/25 [==============================] - 33s 1s/step - loss: 0.9959 - accuracy: 0.7013 - val_loss: 3.4542 - val_accuracy: 0.2878\n",
            "Epoch 26/100\n",
            "25/25 [==============================] - 33s 1s/step - loss: 1.1919 - accuracy: 0.6650 - val_loss: 3.2991 - val_accuracy: 0.2763\n",
            "Epoch 27/100\n",
            "25/25 [==============================] - 35s 1s/step - loss: 1.1085 - accuracy: 0.6726 - val_loss: 3.4321 - val_accuracy: 0.3109\n",
            "Epoch 28/100\n",
            "25/25 [==============================] - 36s 1s/step - loss: 1.0229 - accuracy: 0.7100 - val_loss: 3.1395 - val_accuracy: 0.3224\n",
            "Epoch 29/100\n",
            "25/25 [==============================] - 35s 1s/step - loss: 1.1977 - accuracy: 0.6837 - val_loss: 3.1296 - val_accuracy: 0.2812\n",
            "Epoch 30/100\n",
            "25/25 [==============================] - 32s 1s/step - loss: 1.0798 - accuracy: 0.6675 - val_loss: 3.1514 - val_accuracy: 0.3454\n",
            "Epoch 31/100\n",
            "25/25 [==============================] - ETA: 0s - loss: 1.0736 - accuracy: 0.6750Restoring model weights from the end of the best epoch: 23.\n",
            "25/25 [==============================] - 34s 1s/step - loss: 1.0736 - accuracy: 0.6750 - val_loss: 3.2132 - val_accuracy: 0.2632\n",
            "Epoch 00031: early stopping\n"
          ]
        }
      ]
    },
    {
      "cell_type": "code",
      "metadata": {
        "id": "73db0629",
        "colab": {
          "base_uri": "https://localhost:8080/",
          "height": 499
        },
        "outputId": "b7987158-b293-4b53-f0ca-54a039cbc0d4"
      },
      "source": [
        "number_of_epochs_it_ran = len(history_baseline.history['loss'])\n",
        "\n",
        "acc = history_baseline.history['accuracy']\n",
        "val_acc = history_baseline.history['val_accuracy']\n",
        "\n",
        "loss = history_baseline.history['loss']\n",
        "val_loss = history_baseline.history['val_loss']\n",
        "\n",
        "epochs_range = range(number_of_epochs_it_ran)\n",
        "\n",
        "plt.figure(figsize=(8, 8))\n",
        "plt.subplot(1, 2, 1)\n",
        "plt.plot(epochs_range, acc, label='Training Accuracy')\n",
        "plt.plot(epochs_range, val_acc, label='Validation Accuracy')\n",
        "plt.legend(loc='lower right')\n",
        "plt.title('Training and Validation Accuracy')\n",
        "\n",
        "plt.subplot(1, 2, 2)\n",
        "plt.plot(epochs_range, loss, label='Training Loss')\n",
        "plt.plot(epochs_range, val_loss, label='Validation Loss')\n",
        "plt.legend(loc='upper right')\n",
        "plt.title('Training and Validation Loss')\n",
        "plt.show()"
      ],
      "id": "73db0629",
      "execution_count": null,
      "outputs": [
        {
          "output_type": "display_data",
          "data": {
            "image/png": "[encoded data removed]",
            "text/plain": [
              "<Figure size 576x576 with 2 Axes>"
            ]
          },
          "metadata": {
            "needs_background": "light"
          }
        }
      ]
    },
    {
      "cell_type": "markdown",
      "metadata": {
        "id": "8b559082"
      },
      "source": [
        "### 2. Using Convolutions"
      ],
      "id": "8b559082"
    },
    {
      "cell_type": "markdown",
      "metadata": {
        "id": "e02b0da2"
      },
      "source": [
        "Let's first try making our own convolutions. "
      ],
      "id": "e02b0da2"
    },
    {
      "cell_type": "code",
      "metadata": {
        "id": "3e5448a5"
      },
      "source": [
        "model = Sequential()\n",
        "\n",
        "\n",
        "model.add(Conv2D(32, (3, 3), padding='same',\n",
        "                 input_shape=(img_height, img_width,3)))\n",
        "model.add(Activation('relu'))\n",
        "model.add(Conv2D(32, (3, 3)))\n",
        "model.add(Activation('relu'))\n",
        "model.add(MaxPool2D(pool_size=(2, 2)))\n",
        "model.add(Dropout(0.25))\n",
        "model.add(Conv2D(64, (3, 3), padding='same'))\n",
        "model.add(Activation('relu'))\n",
        "model.add(Conv2D(64, (3, 3)))\n",
        "model.add(Activation('relu'))\n",
        "model.add(MaxPool2D(pool_size=(2, 2)))\n",
        "model.add(Dropout(0.25))\n",
        "model.add(Flatten())\n",
        "model.add(Dense(512))\n",
        "model.add(Activation('relu'))\n",
        "model.add(Dropout(0.5))\n",
        "model.add(Dense(num_classes, activation='softmax'))"
      ],
      "id": "3e5448a5",
      "execution_count": null,
      "outputs": []
    },
    {
      "cell_type": "code",
      "metadata": {
        "collapsed": true,
        "id": "4b856c76",
        "outputId": "74a4d4f6-1ba0-4f69-8885-089220947440"
      },
      "source": [
        "model.compile(optimizer='adam',loss=\"categorical_crossentropy\",metrics=[\"accuracy\"])\n",
        "model.summary()"
      ],
      "id": "4b856c76",
      "execution_count": null,
      "outputs": [
        {
          "name": "stdout",
          "output_type": "stream",
          "text": [
            "Model: \"sequential_2\"\n",
            "_________________________________________________________________\n",
            "Layer (type)                 Output Shape              Param #   \n",
            "=================================================================\n",
            "conv2d_4 (Conv2D)            (None, 180, 180, 32)      896       \n",
            "_________________________________________________________________\n",
            "activation_5 (Activation)    (None, 180, 180, 32)      0         \n",
            "_________________________________________________________________\n",
            "conv2d_5 (Conv2D)            (None, 178, 178, 32)      9248      \n",
            "_________________________________________________________________\n",
            "activation_6 (Activation)    (None, 178, 178, 32)      0         \n",
            "_________________________________________________________________\n",
            "max_pooling2d_2 (MaxPooling2 (None, 89, 89, 32)        0         \n",
            "_________________________________________________________________\n",
            "dropout_3 (Dropout)          (None, 89, 89, 32)        0         \n",
            "_________________________________________________________________\n",
            "conv2d_6 (Conv2D)            (None, 89, 89, 64)        18496     \n",
            "_________________________________________________________________\n",
            "activation_7 (Activation)    (None, 89, 89, 64)        0         \n",
            "_________________________________________________________________\n",
            "conv2d_7 (Conv2D)            (None, 87, 87, 64)        36928     \n",
            "_________________________________________________________________\n",
            "activation_8 (Activation)    (None, 87, 87, 64)        0         \n",
            "_________________________________________________________________\n",
            "max_pooling2d_3 (MaxPooling2 (None, 43, 43, 64)        0         \n",
            "_________________________________________________________________\n",
            "dropout_4 (Dropout)          (None, 43, 43, 64)        0         \n",
            "_________________________________________________________________\n",
            "flatten_2 (Flatten)          (None, 118336)            0         \n",
            "_________________________________________________________________\n",
            "dense_4 (Dense)              (None, 512)               60588544  \n",
            "_________________________________________________________________\n",
            "activation_9 (Activation)    (None, 512)               0         \n",
            "_________________________________________________________________\n",
            "dropout_5 (Dropout)          (None, 512)               0         \n",
            "_________________________________________________________________\n",
            "dense_5 (Dense)              (None, 14)                7182      \n",
            "=================================================================\n",
            "Total params: 60,661,294\n",
            "Trainable params: 60,661,294\n",
            "Non-trainable params: 0\n",
            "_________________________________________________________________\n"
          ]
        }
      ]
    },
    {
      "cell_type": "code",
      "metadata": {
        "id": "bb644a57"
      },
      "source": [
        "STEP_SIZE_TRAIN=train_generator.n//train_generator.batch_size\n",
        "STEP_SIZE_VALID=valid_generator.n//valid_generator.batch_size\n",
        "STEP_SIZE_TEST=test_generator.n//test_generator.batch_size"
      ],
      "id": "bb644a57",
      "execution_count": null,
      "outputs": []
    },
    {
      "cell_type": "code",
      "metadata": {
        "collapsed": true,
        "id": "c8429520",
        "outputId": "668534b9-a42f-430d-fdd7-05c43b9560c3"
      },
      "source": [
        "history_cnn = model.fit(train_generator,\n",
        "                    steps_per_epoch=STEP_SIZE_TRAIN,\n",
        "                    validation_data=valid_generator,\n",
        "                    validation_steps=STEP_SIZE_VALID,\n",
        "                    epochs=epochs,\n",
        "                    callbacks = EarlyStopping(monitor='val_loss', \\\n",
        "                                              mode='min', verbose=1, patience = 20,\\\n",
        "                                             restore_best_weights=True)\n",
        ")"
      ],
      "id": "c8429520",
      "execution_count": null,
      "outputs": [
        {
          "name": "stdout",
          "output_type": "stream",
          "text": [
            "Epoch 1/100\n",
            "77/77 [==============================] - 355s 5s/step - loss: 0.2314 - accuracy: 0.1517 - val_loss: 0.1930 - val_accuracy: 0.1900\n",
            "Epoch 2/100\n",
            "77/77 [==============================] - 361s 5s/step - loss: 0.1765 - accuracy: 0.1825 - val_loss: 0.1949 - val_accuracy: 0.1912\n",
            "Epoch 3/100\n",
            "77/77 [==============================] - 345s 4s/step - loss: 0.1709 - accuracy: 0.2046 - val_loss: 0.1852 - val_accuracy: 0.2250\n",
            "Epoch 4/100\n",
            "77/77 [==============================] - 357s 5s/step - loss: 0.1698 - accuracy: 0.2165 - val_loss: 0.1815 - val_accuracy: 0.2150\n",
            "Epoch 5/100\n",
            "77/77 [==============================] - 353s 5s/step - loss: 0.1643 - accuracy: 0.2288 - val_loss: 0.1819 - val_accuracy: 0.2150\n",
            "Epoch 6/100\n",
            "77/77 [==============================] - 349s 5s/step - loss: 0.1601 - accuracy: 0.2382 - val_loss: 0.1805 - val_accuracy: 0.2075\n",
            "Epoch 7/100\n",
            "77/77 [==============================] - 295s 4s/step - loss: 0.1515 - accuracy: 0.2542 - val_loss: 0.1885 - val_accuracy: 0.2200\n",
            "Epoch 8/100\n",
            "77/77 [==============================] - 294s 4s/step - loss: 0.1378 - accuracy: 0.2903 - val_loss: 0.1947 - val_accuracy: 0.2013\n",
            "Epoch 9/100\n",
            "77/77 [==============================] - 292s 4s/step - loss: 0.1171 - accuracy: 0.3411 - val_loss: 0.2172 - val_accuracy: 0.1863\n",
            "Epoch 10/100\n",
            "77/77 [==============================] - 299s 4s/step - loss: 0.0988 - accuracy: 0.3813 - val_loss: 0.2451 - val_accuracy: 0.2100\n",
            "Epoch 11/100\n",
            "77/77 [==============================] - 295s 4s/step - loss: 0.0779 - accuracy: 0.4153 - val_loss: 0.2890 - val_accuracy: 0.1775\n",
            "Epoch 12/100\n",
            "77/77 [==============================] - 295s 4s/step - loss: 0.0640 - accuracy: 0.4362 - val_loss: 0.3147 - val_accuracy: 0.1787\n",
            "Epoch 13/100\n",
            "77/77 [==============================] - 305s 4s/step - loss: 0.0488 - accuracy: 0.4559 - val_loss: 0.3686 - val_accuracy: 0.1937\n",
            "Epoch 14/100\n",
            "77/77 [==============================] - 292s 4s/step - loss: 0.0408 - accuracy: 0.4658 - val_loss: 0.3811 - val_accuracy: 0.1825\n",
            "Epoch 15/100\n",
            "77/77 [==============================] - 294s 4s/step - loss: 0.0347 - accuracy: 0.4908 - val_loss: 0.4420 - val_accuracy: 0.1762\n",
            "Epoch 16/100\n",
            "77/77 [==============================] - 291s 4s/step - loss: 0.0312 - accuracy: 0.4842 - val_loss: 0.4149 - val_accuracy: 0.1813\n",
            "Epoch 17/100\n",
            "77/77 [==============================] - 291s 4s/step - loss: 0.0234 - accuracy: 0.4932 - val_loss: 0.5037 - val_accuracy: 0.1625\n",
            "Epoch 18/100\n",
            "77/77 [==============================] - 294s 4s/step - loss: 0.0205 - accuracy: 0.4953 - val_loss: 0.5765 - val_accuracy: 0.1725\n",
            "Epoch 19/100\n",
            "77/77 [==============================] - 292s 4s/step - loss: 0.0199 - accuracy: 0.5031 - val_loss: 0.5370 - val_accuracy: 0.1900\n",
            "Epoch 20/100\n",
            "77/77 [==============================] - 293s 4s/step - loss: 0.0207 - accuracy: 0.4984 - val_loss: 0.5571 - val_accuracy: 0.1713\n",
            "Epoch 21/100\n",
            "77/77 [==============================] - 293s 4s/step - loss: 0.0196 - accuracy: 0.4977 - val_loss: 0.5093 - val_accuracy: 0.1700\n",
            "Epoch 22/100\n",
            "77/77 [==============================] - 289s 4s/step - loss: 0.0155 - accuracy: 0.5035 - val_loss: 0.5551 - val_accuracy: 0.1787\n",
            "Epoch 23/100\n",
            "77/77 [==============================] - 292s 4s/step - loss: 0.0139 - accuracy: 0.5080 - val_loss: 0.5008 - val_accuracy: 0.1575\n",
            "Epoch 24/100\n",
            "77/77 [==============================] - 295s 4s/step - loss: 0.0130 - accuracy: 0.4965 - val_loss: 0.5555 - val_accuracy: 0.1675\n",
            "Epoch 25/100\n",
            "77/77 [==============================] - 300s 4s/step - loss: 0.0127 - accuracy: 0.5002 - val_loss: 0.6480 - val_accuracy: 0.1800\n",
            "Epoch 26/100\n",
            "77/77 [==============================] - 289s 4s/step - loss: 0.0150 - accuracy: 0.5047 - val_loss: 0.5405 - val_accuracy: 0.1863\n",
            "Restoring model weights from the end of the best epoch.\n",
            "Epoch 00026: early stopping\n"
          ]
        }
      ]
    },
    {
      "cell_type": "code",
      "metadata": {
        "id": "5e2024b9",
        "outputId": "8c973855-72ff-40bf-b222-29362cdc2c79"
      },
      "source": [
        "number_of_epochs_it_ran = len(history_cnn.history['loss'])\n",
        "\n",
        "acc = history_cnn.history['accuracy']\n",
        "val_acc = history_cnn.history['val_accuracy']\n",
        "\n",
        "loss = history_cnn.history['loss']\n",
        "val_loss = history_cnn.history['val_loss']\n",
        "\n",
        "epochs_range = range(number_of_epochs_it_ran)\n",
        "\n",
        "plt.figure(figsize=(8, 8))\n",
        "plt.subplot(1, 2, 1)\n",
        "plt.plot(epochs_range, acc, label='Training Accuracy')\n",
        "plt.plot(epochs_range, val_acc, label='Validation Accuracy')\n",
        "plt.legend(loc='lower right')\n",
        "plt.title('Training and Validation Accuracy')\n",
        "\n",
        "plt.subplot(1, 2, 2)\n",
        "plt.plot(epochs_range, loss, label='Training Loss')\n",
        "plt.plot(epochs_range, val_loss, label='Validation Loss')\n",
        "plt.legend(loc='upper right')\n",
        "plt.title('Training and Validation Loss')\n",
        "plt.show()"
      ],
      "id": "5e2024b9",
      "execution_count": null,
      "outputs": [
        {
          "data": {
            "image/png": "[encoded data removed]",
            "text/plain": [
              "<Figure size 576x576 with 2 Axes>"
            ]
          },
          "metadata": {
            "needs_background": "light"
          },
          "output_type": "display_data"
        }
      ]
    },
    {
      "cell_type": "markdown",
      "metadata": {
        "id": "04e7b7b6"
      },
      "source": [
        "### 3. Data Augmentation"
      ],
      "id": "04e7b7b6"
    },
    {
      "cell_type": "markdown",
      "metadata": {
        "id": "368439cf"
      },
      "source": [
        "Now let's try the same convolutions we looked at but do it with augmented data. "
      ],
      "id": "368439cf"
    },
    {
      "cell_type": "code",
      "metadata": {
        "id": "04969942"
      },
      "source": [
        "train_generator.reset()\n",
        "valid_generator.reset()\n",
        "test_generator.reset()"
      ],
      "id": "04969942",
      "execution_count": null,
      "outputs": []
    },
    {
      "cell_type": "code",
      "metadata": {
        "id": "b0e16120"
      },
      "source": [
        "data_augmentation = keras.Sequential(\n",
        "  [\n",
        "    layers.RandomFlip(\"horizontal\",\n",
        "                      input_shape=(img_height,\n",
        "                                  img_width,\n",
        "                                  3)),\n",
        "    layers.RandomRotation(0.1),\n",
        "    layers.RandomZoom(0.1),\n",
        "  ]\n",
        ")"
      ],
      "id": "b0e16120",
      "execution_count": null,
      "outputs": []
    },
    {
      "cell_type": "code",
      "metadata": {
        "id": "ea7de6bc"
      },
      "source": [
        "model = Sequential([\n",
        "    data_augmentation, \n",
        "    layers.Conv2D(32, (3, 3), padding='same', activation = 'relu'), \n",
        "    layers.Conv2D(64, (3, 3), padding='same', activation = 'relu'), \n",
        "    layers.MaxPooling2D(pool_size=(2, 2)), \n",
        "    layers.Dropout(0.25), \n",
        "    layers.Conv2D(64, (3, 3), padding='same', activation = 'relu'), \n",
        "    layers.Conv2D(64, (3, 3), padding='same', activation = 'relu'), \n",
        "    layers.MaxPooling2D(pool_size=(2, 2)), \n",
        "    layers.Dropout(0.25), \n",
        "    layers.Flatten(),\n",
        "    layers.Dense(512, activation = 'relu'), \n",
        "    layers.Dropout(0.5), \n",
        "    layers.Dense(num_classes, activation='softmax')])"
      ],
      "id": "ea7de6bc",
      "execution_count": null,
      "outputs": []
    },
    {
      "cell_type": "code",
      "metadata": {
        "collapsed": true,
        "id": "4b4adea2",
        "outputId": "852b1439-78a6-4bc9-bdc5-dfe743e0e4b4"
      },
      "source": [
        "model.compile(optimizer='adam',\n",
        "              loss='categorical_crossentropy',\n",
        "              metrics=['accuracy'])\n",
        "model.summary()"
      ],
      "id": "4b4adea2",
      "execution_count": null,
      "outputs": [
        {
          "name": "stdout",
          "output_type": "stream",
          "text": [
            "Model: \"sequential_4\"\n",
            "_________________________________________________________________\n",
            "Layer (type)                 Output Shape              Param #   \n",
            "=================================================================\n",
            "sequential_3 (Sequential)    (None, 180, 180, 3)       0         \n",
            "_________________________________________________________________\n",
            "conv2d_8 (Conv2D)            (None, 180, 180, 32)      896       \n",
            "_________________________________________________________________\n",
            "conv2d_9 (Conv2D)            (None, 180, 180, 64)      18496     \n",
            "_________________________________________________________________\n",
            "max_pooling2d_4 (MaxPooling2 (None, 90, 90, 64)        0         \n",
            "_________________________________________________________________\n",
            "dropout_6 (Dropout)          (None, 90, 90, 64)        0         \n",
            "_________________________________________________________________\n",
            "conv2d_10 (Conv2D)           (None, 90, 90, 64)        36928     \n",
            "_________________________________________________________________\n",
            "conv2d_11 (Conv2D)           (None, 90, 90, 64)        36928     \n",
            "_________________________________________________________________\n",
            "max_pooling2d_5 (MaxPooling2 (None, 45, 45, 64)        0         \n",
            "_________________________________________________________________\n",
            "dropout_7 (Dropout)          (None, 45, 45, 64)        0         \n",
            "_________________________________________________________________\n",
            "flatten_3 (Flatten)          (None, 129600)            0         \n",
            "_________________________________________________________________\n",
            "dense_6 (Dense)              (None, 512)               66355712  \n",
            "_________________________________________________________________\n",
            "dropout_8 (Dropout)          (None, 512)               0         \n",
            "_________________________________________________________________\n",
            "dense_7 (Dense)              (None, 14)                7182      \n",
            "=================================================================\n",
            "Total params: 66,456,142\n",
            "Trainable params: 66,456,142\n",
            "Non-trainable params: 0\n",
            "_________________________________________________________________\n"
          ]
        }
      ]
    },
    {
      "cell_type": "code",
      "metadata": {
        "collapsed": true,
        "id": "2d62df2e",
        "outputId": "a7f0cf0e-9ecc-4091-f407-fba7c5c8b5a6"
      },
      "source": [
        "history_aug = model.fit(train_generator,\n",
        "                    steps_per_epoch=STEP_SIZE_TRAIN,\n",
        "                    validation_data=valid_generator,\n",
        "                    validation_steps=STEP_SIZE_VALID,\n",
        "                    epochs=epochs,\n",
        "                    callbacks = EarlyStopping(monitor='val_loss', \\\n",
        "                                              mode='min', verbose=1, patience = 20,\\\n",
        "                                             restore_best_weights=True)\n",
        ")"
      ],
      "id": "2d62df2e",
      "execution_count": null,
      "outputs": [
        {
          "name": "stdout",
          "output_type": "stream",
          "text": [
            "Epoch 1/100\n",
            "77/77 [==============================] - 666s 9s/step - loss: 0.2000 - accuracy: 0.1636 - val_loss: 0.1952 - val_accuracy: 0.2225\n",
            "Epoch 2/100\n",
            "77/77 [==============================] - 453s 6s/step - loss: 0.1746 - accuracy: 0.1866 - val_loss: 0.1797 - val_accuracy: 0.2275\n",
            "Epoch 3/100\n",
            "77/77 [==============================] - 449s 6s/step - loss: 0.1718 - accuracy: 0.2013 - val_loss: 0.1840 - val_accuracy: 0.1887\n",
            "Epoch 4/100\n",
            "77/77 [==============================] - 513s 7s/step - loss: 0.1681 - accuracy: 0.2083 - val_loss: 0.1773 - val_accuracy: 0.2013\n",
            "Epoch 5/100\n",
            "77/77 [==============================] - 495s 6s/step - loss: 0.1689 - accuracy: 0.2050 - val_loss: 0.1803 - val_accuracy: 0.2250\n",
            "Epoch 6/100\n",
            "77/77 [==============================] - 476s 6s/step - loss: 0.1674 - accuracy: 0.2103 - val_loss: 0.1783 - val_accuracy: 0.2175\n",
            "Epoch 7/100\n",
            "77/77 [==============================] - 439s 6s/step - loss: 0.1671 - accuracy: 0.2103 - val_loss: 0.1767 - val_accuracy: 0.2212\n",
            "Epoch 8/100\n",
            "77/77 [==============================] - 424s 5s/step - loss: 0.1666 - accuracy: 0.2099 - val_loss: 0.1843 - val_accuracy: 0.1925\n",
            "Epoch 9/100\n",
            "77/77 [==============================] - 494s 6s/step - loss: 0.1647 - accuracy: 0.2128 - val_loss: 0.1801 - val_accuracy: 0.2262\n",
            "Epoch 10/100\n",
            "77/77 [==============================] - 430s 6s/step - loss: 0.1672 - accuracy: 0.2107 - val_loss: 0.1767 - val_accuracy: 0.2212\n",
            "Epoch 11/100\n",
            "77/77 [==============================] - 441s 6s/step - loss: 0.1642 - accuracy: 0.2173 - val_loss: 0.1766 - val_accuracy: 0.2262\n",
            "Epoch 12/100\n",
            "77/77 [==============================] - 779s 10s/step - loss: 0.1643 - accuracy: 0.2202 - val_loss: 0.1773 - val_accuracy: 0.2262\n",
            "Epoch 13/100\n",
            "77/77 [==============================] - 1011s 13s/step - loss: 0.1644 - accuracy: 0.2177 - val_loss: 0.1754 - val_accuracy: 0.2362\n",
            "Epoch 14/100\n",
            "77/77 [==============================] - 525s 7s/step - loss: 0.1623 - accuracy: 0.2230 - val_loss: 0.1786 - val_accuracy: 0.2175\n",
            "Epoch 15/100\n",
            "77/77 [==============================] - 571s 7s/step - loss: 0.1633 - accuracy: 0.2251 - val_loss: 0.1758 - val_accuracy: 0.2163\n",
            "Epoch 16/100\n",
            "77/77 [==============================] - 465s 6s/step - loss: 0.1629 - accuracy: 0.2267 - val_loss: 0.1815 - val_accuracy: 0.2237\n",
            "Epoch 17/100\n",
            "77/77 [==============================] - 422s 5s/step - loss: 0.1603 - accuracy: 0.2280 - val_loss: 0.1805 - val_accuracy: 0.2338\n",
            "Epoch 18/100\n",
            "77/77 [==============================] - 413s 5s/step - loss: 0.1617 - accuracy: 0.2317 - val_loss: 0.1785 - val_accuracy: 0.2313\n",
            "Epoch 19/100\n",
            "77/77 [==============================] - 402s 5s/step - loss: 0.1611 - accuracy: 0.2189 - val_loss: 0.1740 - val_accuracy: 0.2338\n",
            "Epoch 20/100\n",
            "77/77 [==============================] - 401s 5s/step - loss: 0.1619 - accuracy: 0.2210 - val_loss: 0.1790 - val_accuracy: 0.2200\n",
            "Epoch 21/100\n",
            "77/77 [==============================] - 398s 5s/step - loss: 0.1611 - accuracy: 0.2296 - val_loss: 0.1823 - val_accuracy: 0.2387\n",
            "Epoch 22/100\n",
            "77/77 [==============================] - 401s 5s/step - loss: 0.1585 - accuracy: 0.2202 - val_loss: 0.1776 - val_accuracy: 0.2275\n",
            "Epoch 23/100\n",
            "77/77 [==============================] - 419s 5s/step - loss: 0.1598 - accuracy: 0.2271 - val_loss: 0.1872 - val_accuracy: 0.2175\n",
            "Epoch 24/100\n",
            "77/77 [==============================] - 401s 5s/step - loss: 0.1596 - accuracy: 0.2304 - val_loss: 0.1778 - val_accuracy: 0.2250\n",
            "Epoch 25/100\n",
            "77/77 [==============================] - 407s 5s/step - loss: 0.1593 - accuracy: 0.2337 - val_loss: 0.1851 - val_accuracy: 0.2175\n",
            "Epoch 26/100\n",
            "77/77 [==============================] - 396s 5s/step - loss: 0.1588 - accuracy: 0.2300 - val_loss: 0.1794 - val_accuracy: 0.1912\n",
            "Epoch 27/100\n",
            "77/77 [==============================] - 397s 5s/step - loss: 0.1565 - accuracy: 0.2362 - val_loss: 0.1787 - val_accuracy: 0.2275\n",
            "Epoch 28/100\n",
            "77/77 [==============================] - 394s 5s/step - loss: 0.1583 - accuracy: 0.2399 - val_loss: 0.1821 - val_accuracy: 0.2175\n",
            "Epoch 29/100\n",
            "77/77 [==============================] - 393s 5s/step - loss: 0.1584 - accuracy: 0.2349 - val_loss: 0.1793 - val_accuracy: 0.2212\n",
            "Epoch 30/100\n",
            "77/77 [==============================] - 398s 5s/step - loss: 0.1570 - accuracy: 0.2435 - val_loss: 0.1875 - val_accuracy: 0.1912\n",
            "Epoch 31/100\n",
            "77/77 [==============================] - 396s 5s/step - loss: 0.1561 - accuracy: 0.2394 - val_loss: 0.1801 - val_accuracy: 0.2212\n",
            "Epoch 32/100\n",
            "77/77 [==============================] - 397s 5s/step - loss: 0.1555 - accuracy: 0.2358 - val_loss: 0.1795 - val_accuracy: 0.2225\n",
            "Epoch 33/100\n",
            "77/77 [==============================] - 426s 6s/step - loss: 0.1556 - accuracy: 0.2341 - val_loss: 0.1838 - val_accuracy: 0.2250\n",
            "Epoch 34/100\n",
            "77/77 [==============================] - 429s 6s/step - loss: 0.1565 - accuracy: 0.2325 - val_loss: 0.1903 - val_accuracy: 0.2163\n",
            "Epoch 35/100\n",
            "77/77 [==============================] - 411s 5s/step - loss: 0.1547 - accuracy: 0.2444 - val_loss: 0.1799 - val_accuracy: 0.2062\n",
            "Epoch 36/100\n",
            "77/77 [==============================] - 564s 7s/step - loss: 0.1541 - accuracy: 0.2263 - val_loss: 0.1825 - val_accuracy: 0.2313\n",
            "Epoch 37/100\n",
            "77/77 [==============================] - 408s 5s/step - loss: 0.1554 - accuracy: 0.2440 - val_loss: 0.1844 - val_accuracy: 0.1963\n",
            "Epoch 38/100\n",
            "77/77 [==============================] - 416s 5s/step - loss: 0.1526 - accuracy: 0.2419 - val_loss: 0.1855 - val_accuracy: 0.2125\n",
            "Epoch 39/100\n",
            "77/77 [==============================] - 483s 6s/step - loss: 0.1531 - accuracy: 0.2472 - val_loss: 0.1964 - val_accuracy: 0.1912\n",
            "Restoring model weights from the end of the best epoch.\n",
            "Epoch 00039: early stopping\n"
          ]
        }
      ]
    },
    {
      "cell_type": "code",
      "metadata": {
        "id": "d0981147",
        "outputId": "c4949300-16e3-4210-a470-f50d279d4429"
      },
      "source": [
        "number_of_epochs_it_ran = len(history_aug.history['loss'])\n",
        "\n",
        "acc = history_aug.history['accuracy']\n",
        "val_acc = history_aug.history['val_accuracy']\n",
        "\n",
        "loss = history_aug.history['loss']\n",
        "val_loss = history_aug.history['val_loss']\n",
        "\n",
        "epochs_range = range(number_of_epochs_it_ran)\n",
        "\n",
        "plt.figure(figsize=(8, 8))\n",
        "plt.subplot(1, 2, 1)\n",
        "plt.plot(epochs_range, acc, label='Training Accuracy')\n",
        "plt.plot(epochs_range, val_acc, label='Validation Accuracy')\n",
        "plt.legend(loc='lower right')\n",
        "plt.title('Training and Validation Accuracy')\n",
        "\n",
        "plt.subplot(1, 2, 2)\n",
        "plt.plot(epochs_range, loss, label='Training Loss')\n",
        "plt.plot(epochs_range, val_loss, label='Validation Loss')\n",
        "plt.legend(loc='upper right')\n",
        "plt.title('Training and Validation Loss')\n",
        "plt.show()"
      ],
      "id": "d0981147",
      "execution_count": null,
      "outputs": [
        {
          "data": {
            "image/png": "[encoded data removed]",
            "text/plain": [
              "<Figure size 576x576 with 2 Axes>"
            ]
          },
          "metadata": {
            "needs_background": "light"
          },
          "output_type": "display_data"
        }
      ]
    },
    {
      "cell_type": "markdown",
      "metadata": {
        "id": "15bcb6ae"
      },
      "source": [
        "### 4. Second Way: Data Augmentation"
      ],
      "id": "15bcb6ae"
    },
    {
      "cell_type": "markdown",
      "metadata": {
        "id": "e15a1e6f"
      },
      "source": [
        "A second way of data augmentation. Data augmentation is important as we are overfitting badly so we have to figure out ways to deal with this. "
      ],
      "id": "e15a1e6f"
    },
    {
      "cell_type": "code",
      "metadata": {
        "id": "cbf34730",
        "outputId": "4d5d0a9f-9d84-41c5-9288-4f1db8694f37"
      },
      "source": [
        "datagen = ImageDataGenerator(\n",
        "        rotation_range=40,\n",
        "        width_shift_range=0.2,\n",
        "        height_shift_range=0.2,\n",
        "        rescale=1./255,\n",
        "        shear_range=0.2,\n",
        "        zoom_range=0.2,\n",
        "        horizontal_flip=True,\n",
        "        fill_mode='nearest')\n",
        "\n",
        "train_generator=datagen.flow_from_dataframe(\n",
        "                                        dataframe = df[:val_set_start],\n",
        "                                        x_col = \"path\",\n",
        "                                        y_col = \"emotion\",\n",
        "                                        batch_size = 32,\n",
        "                                        interpolation = 'bilinear',\n",
        "                                        seed = 42,\n",
        "                                        shuffle = True,\n",
        "                                        class_mode = \"categorical\",\n",
        "                                        target_size = (img_height, img_width))\n",
        "\n",
        "valid_generator=test_datagen.flow_from_dataframe(\n",
        "                                            dataframe = df[(val_set_start):(test_set_start)],\n",
        "                                            x_col = \"path\",\n",
        "                                            y_col = \"emotion\",\n",
        "                                            batch_size = 32,\n",
        "                                            interpolation = 'bilinear',\n",
        "                                            seed = 42,\n",
        "                                            shuffle = True,\n",
        "                                            class_mode = \"categorical\",\n",
        "                                            target_size = (img_height, img_width))\n",
        "\n",
        "test_generator=test_datagen.flow_from_dataframe(\n",
        "                                            dataframe = df[test_set_start:],\n",
        "                                            x_col = \"path\",\n",
        "                                            y_col = emotions,\n",
        "                                            batch_size = 32,\n",
        "                                            interpolation = 'bilinear',    \n",
        "                                            seed = 42,\n",
        "                                            shuffle = True,\n",
        "                                            class_mode = \"categorical\",\n",
        "                                            target_size = (img_height, img_width))"
      ],
      "id": "cbf34730",
      "execution_count": null,
      "outputs": [
        {
          "name": "stdout",
          "output_type": "stream",
          "text": [
            "Found 2471 validated image filenames.\n",
            "Found 824 validated image filenames.\n",
            "Found 810 validated image filenames.\n"
          ]
        }
      ]
    },
    {
      "cell_type": "code",
      "metadata": {
        "id": "117a901b"
      },
      "source": [
        "model = Sequential()\n",
        "\n",
        "model.add(Conv2D(32, (3, 3), padding='same',\n",
        "                 input_shape=(img_height, img_width,3)))\n",
        "model.add(Activation('relu'))\n",
        "model.add(Conv2D(32, (3, 3)))\n",
        "model.add(Activation('relu'))\n",
        "model.add(MaxPool2D(pool_size=(2, 2)))\n",
        "model.add(Dropout(0.25))\n",
        "model.add(Conv2D(64, (3, 3), padding='same'))\n",
        "model.add(Activation('relu'))\n",
        "model.add(Conv2D(64, (3, 3)))\n",
        "model.add(Activation('relu'))\n",
        "model.add(MaxPool2D(pool_size=(2, 2)))\n",
        "model.add(Dropout(0.25))\n",
        "model.add(Flatten())\n",
        "model.add(Dense(512))\n",
        "model.add(Activation('relu'))\n",
        "model.add(Dropout(0.5))\n",
        "model.add(Dense(num_classes, activation='softmax'))"
      ],
      "id": "117a901b",
      "execution_count": null,
      "outputs": []
    },
    {
      "cell_type": "code",
      "metadata": {
        "collapsed": true,
        "id": "084ea870",
        "outputId": "dd46624a-2476-43ac-aafb-74c206f787dc"
      },
      "source": [
        "model.compile(optimizer='adam',loss=\"categorical_crossentropy\",metrics=[\"accuracy\"])\n",
        "model.summary()"
      ],
      "id": "084ea870",
      "execution_count": null,
      "outputs": [
        {
          "name": "stdout",
          "output_type": "stream",
          "text": [
            "Model: \"sequential_5\"\n",
            "_________________________________________________________________\n",
            "Layer (type)                 Output Shape              Param #   \n",
            "=================================================================\n",
            "conv2d_12 (Conv2D)           (None, 180, 180, 32)      896       \n",
            "_________________________________________________________________\n",
            "activation_10 (Activation)   (None, 180, 180, 32)      0         \n",
            "_________________________________________________________________\n",
            "conv2d_13 (Conv2D)           (None, 178, 178, 32)      9248      \n",
            "_________________________________________________________________\n",
            "activation_11 (Activation)   (None, 178, 178, 32)      0         \n",
            "_________________________________________________________________\n",
            "max_pooling2d_6 (MaxPooling2 (None, 89, 89, 32)        0         \n",
            "_________________________________________________________________\n",
            "dropout_9 (Dropout)          (None, 89, 89, 32)        0         \n",
            "_________________________________________________________________\n",
            "conv2d_14 (Conv2D)           (None, 89, 89, 64)        18496     \n",
            "_________________________________________________________________\n",
            "activation_12 (Activation)   (None, 89, 89, 64)        0         \n",
            "_________________________________________________________________\n",
            "conv2d_15 (Conv2D)           (None, 87, 87, 64)        36928     \n",
            "_________________________________________________________________\n",
            "activation_13 (Activation)   (None, 87, 87, 64)        0         \n",
            "_________________________________________________________________\n",
            "max_pooling2d_7 (MaxPooling2 (None, 43, 43, 64)        0         \n",
            "_________________________________________________________________\n",
            "dropout_10 (Dropout)         (None, 43, 43, 64)        0         \n",
            "_________________________________________________________________\n",
            "flatten_4 (Flatten)          (None, 118336)            0         \n",
            "_________________________________________________________________\n",
            "dense_8 (Dense)              (None, 512)               60588544  \n",
            "_________________________________________________________________\n",
            "activation_14 (Activation)   (None, 512)               0         \n",
            "_________________________________________________________________\n",
            "dropout_11 (Dropout)         (None, 512)               0         \n",
            "_________________________________________________________________\n",
            "dense_9 (Dense)              (None, 14)                7182      \n",
            "=================================================================\n",
            "Total params: 60,661,294\n",
            "Trainable params: 60,661,294\n",
            "Non-trainable params: 0\n",
            "_________________________________________________________________\n"
          ]
        }
      ]
    },
    {
      "cell_type": "code",
      "metadata": {
        "id": "9066ace3"
      },
      "source": [
        "STEP_SIZE_TRAIN=train_generator.n//train_generator.batch_size\n",
        "STEP_SIZE_VALID=valid_generator.n//valid_generator.batch_size\n",
        "STEP_SIZE_TEST=test_generator.n//test_generator.batch_size"
      ],
      "id": "9066ace3",
      "execution_count": null,
      "outputs": []
    },
    {
      "cell_type": "code",
      "metadata": {
        "collapsed": true,
        "id": "2aee96e0",
        "outputId": "dbbebd82-fb61-4aa1-e2e7-e9d993086e25"
      },
      "source": [
        "history_aug2 = model.fit(train_generator,\n",
        "                    steps_per_epoch=STEP_SIZE_TRAIN,\n",
        "                    validation_data=valid_generator,\n",
        "                    validation_steps=STEP_SIZE_VALID,\n",
        "                    epochs=epochs, \n",
        "                    callbacks = EarlyStopping(monitor='val_loss', \\\n",
        "                                              mode='min', verbose=1, patience = 8,\\\n",
        "                                             restore_best_weights=True)\n",
        "\n",
        ")"
      ],
      "id": "2aee96e0",
      "execution_count": null,
      "outputs": [
        {
          "name": "stdout",
          "output_type": "stream",
          "text": [
            "Epoch 1/100\n",
            "77/77 [==============================] - 383s 5s/step - loss: 0.2078 - accuracy: 0.1574 - val_loss: 0.1845 - val_accuracy: 0.2138\n",
            "Epoch 2/100\n",
            "77/77 [==============================] - 376s 5s/step - loss: 0.1751 - accuracy: 0.1895 - val_loss: 0.1820 - val_accuracy: 0.2175\n",
            "Epoch 3/100\n",
            "77/77 [==============================] - 398s 5s/step - loss: 0.1743 - accuracy: 0.1948 - val_loss: 0.1807 - val_accuracy: 0.2188\n",
            "Epoch 4/100\n",
            "77/77 [==============================] - 379s 5s/step - loss: 0.1700 - accuracy: 0.2017 - val_loss: 0.1791 - val_accuracy: 0.2237\n",
            "Epoch 5/100\n",
            "77/77 [==============================] - 396s 5s/step - loss: 0.1702 - accuracy: 0.1972 - val_loss: 0.1798 - val_accuracy: 0.2200\n",
            "Epoch 6/100\n",
            "77/77 [==============================] - 391s 5s/step - loss: 0.1704 - accuracy: 0.2021 - val_loss: 0.1807 - val_accuracy: 0.2000\n",
            "Epoch 7/100\n",
            "77/77 [==============================] - 449s 6s/step - loss: 0.1679 - accuracy: 0.2066 - val_loss: 0.1799 - val_accuracy: 0.2125\n",
            "Epoch 8/100\n",
            "77/77 [==============================] - 406s 5s/step - loss: 0.1681 - accuracy: 0.2169 - val_loss: 0.1778 - val_accuracy: 0.2300\n",
            "Epoch 9/100\n",
            "77/77 [==============================] - 396s 5s/step - loss: 0.1664 - accuracy: 0.2165 - val_loss: 0.1786 - val_accuracy: 0.2150\n",
            "Epoch 10/100\n",
            "77/77 [==============================] - 503s 7s/step - loss: 0.1677 - accuracy: 0.2153 - val_loss: 0.1784 - val_accuracy: 0.2138\n",
            "Epoch 11/100\n",
            "77/77 [==============================] - 470s 6s/step - loss: 0.1653 - accuracy: 0.2185 - val_loss: 0.1805 - val_accuracy: 0.2325\n",
            "Epoch 12/100\n",
            "77/77 [==============================] - 424s 5s/step - loss: 0.1656 - accuracy: 0.2136 - val_loss: 0.1769 - val_accuracy: 0.2313\n",
            "Epoch 13/100\n",
            "77/77 [==============================] - 410s 5s/step - loss: 0.1651 - accuracy: 0.2214 - val_loss: 0.1808 - val_accuracy: 0.1700\n",
            "Epoch 14/100\n",
            "77/77 [==============================] - 393s 5s/step - loss: 0.1662 - accuracy: 0.2169 - val_loss: 0.1798 - val_accuracy: 0.2275\n",
            "Epoch 15/100\n",
            "77/77 [==============================] - 415s 5s/step - loss: 0.1650 - accuracy: 0.2071 - val_loss: 0.1798 - val_accuracy: 0.2163\n",
            "Epoch 16/100\n",
            "77/77 [==============================] - 414s 5s/step - loss: 0.1644 - accuracy: 0.2226 - val_loss: 0.1785 - val_accuracy: 0.2275\n",
            "Epoch 17/100\n",
            "77/77 [==============================] - 461s 6s/step - loss: 0.1635 - accuracy: 0.2116 - val_loss: 0.1782 - val_accuracy: 0.2338\n",
            "Epoch 18/100\n",
            "77/77 [==============================] - 427s 6s/step - loss: 0.1637 - accuracy: 0.2181 - val_loss: 0.1767 - val_accuracy: 0.2375\n",
            "Epoch 19/100\n",
            "77/77 [==============================] - 431s 6s/step - loss: 0.1647 - accuracy: 0.2259 - val_loss: 0.1778 - val_accuracy: 0.2212\n",
            "Epoch 20/100\n",
            "77/77 [==============================] - 418s 5s/step - loss: 0.1629 - accuracy: 0.2226 - val_loss: 0.1803 - val_accuracy: 0.2325\n",
            "Epoch 21/100\n",
            "77/77 [==============================] - 385s 5s/step - loss: 0.1636 - accuracy: 0.2194 - val_loss: 0.1766 - val_accuracy: 0.2200\n",
            "Epoch 22/100\n",
            "77/77 [==============================] - 387s 5s/step - loss: 0.1640 - accuracy: 0.2185 - val_loss: 0.1769 - val_accuracy: 0.2275\n",
            "Epoch 23/100\n",
            "77/77 [==============================] - 410s 5s/step - loss: 0.1643 - accuracy: 0.2255 - val_loss: 0.1742 - val_accuracy: 0.2350\n",
            "Epoch 24/100\n",
            "77/77 [==============================] - 350s 5s/step - loss: 0.1633 - accuracy: 0.2255 - val_loss: 0.1791 - val_accuracy: 0.2050\n",
            "Epoch 25/100\n",
            "77/77 [==============================] - 431s 6s/step - loss: 0.1632 - accuracy: 0.2247 - val_loss: 0.1743 - val_accuracy: 0.2288\n",
            "Epoch 26/100\n",
            "77/77 [==============================] - 389s 5s/step - loss: 0.1617 - accuracy: 0.2296 - val_loss: 0.1768 - val_accuracy: 0.2362\n",
            "Epoch 27/100\n",
            "77/77 [==============================] - 416s 5s/step - loss: 0.1624 - accuracy: 0.2206 - val_loss: 0.1754 - val_accuracy: 0.2412\n",
            "Epoch 28/100\n",
            "77/77 [==============================] - 473s 6s/step - loss: 0.1636 - accuracy: 0.2329 - val_loss: 0.1734 - val_accuracy: 0.2262\n",
            "Epoch 29/100\n",
            "77/77 [==============================] - 420s 6s/step - loss: 0.1619 - accuracy: 0.2259 - val_loss: 0.1789 - val_accuracy: 0.2250\n",
            "Epoch 30/100\n",
            "77/77 [==============================] - 566s 7s/step - loss: 0.1631 - accuracy: 0.2206 - val_loss: 0.1791 - val_accuracy: 0.2300\n",
            "Epoch 31/100\n",
            "77/77 [==============================] - 334s 4s/step - loss: 0.1612 - accuracy: 0.2292 - val_loss: 0.1799 - val_accuracy: 0.2300\n",
            "Epoch 32/100\n",
            "77/77 [==============================] - 320s 4s/step - loss: 0.1617 - accuracy: 0.2288 - val_loss: 0.1752 - val_accuracy: 0.2325\n",
            "Epoch 33/100\n",
            "77/77 [==============================] - 356s 5s/step - loss: 0.1614 - accuracy: 0.2382 - val_loss: 0.1754 - val_accuracy: 0.2313\n",
            "Epoch 34/100\n",
            "77/77 [==============================] - 348s 4s/step - loss: 0.1608 - accuracy: 0.2288 - val_loss: 0.1757 - val_accuracy: 0.2350\n",
            "Epoch 35/100\n",
            "77/77 [==============================] - 380s 5s/step - loss: 0.1602 - accuracy: 0.2271 - val_loss: 0.1744 - val_accuracy: 0.2188\n",
            "Epoch 36/100\n",
            "77/77 [==============================] - 346s 4s/step - loss: 0.1613 - accuracy: 0.2267 - val_loss: 0.1736 - val_accuracy: 0.2375\n",
            "Restoring model weights from the end of the best epoch.\n",
            "Epoch 00036: early stopping\n"
          ]
        }
      ]
    },
    {
      "cell_type": "code",
      "metadata": {
        "id": "eee5740c",
        "outputId": "cbef4c3e-c6a6-4cfd-91c6-f5f1f8bd6799"
      },
      "source": [
        "number_of_epochs_it_ran = len(history_aug2.history['loss'])\n",
        "\n",
        "acc = history_aug2.history['accuracy']\n",
        "val_acc = history_aug2.history['val_accuracy']\n",
        "\n",
        "loss = history_aug2.history['loss']\n",
        "val_loss = history_aug2.history['val_loss']\n",
        "\n",
        "epochs_range = range(number_of_epochs_it_ran)\n",
        "\n",
        "plt.figure(figsize=(8, 8))\n",
        "plt.subplot(1, 2, 1)\n",
        "plt.plot(epochs_range, acc, label='Training Accuracy')\n",
        "plt.plot(epochs_range, val_acc, label='Validation Accuracy')\n",
        "plt.legend(loc='lower right')\n",
        "plt.title('Training and Validation Accuracy')\n",
        "\n",
        "plt.subplot(1, 2, 2)\n",
        "plt.plot(epochs_range, loss, label='Training Loss')\n",
        "plt.plot(epochs_range, val_loss, label='Validation Loss')\n",
        "plt.legend(loc='upper right')\n",
        "plt.title('Training and Validation Loss')\n",
        "plt.show()"
      ],
      "id": "eee5740c",
      "execution_count": null,
      "outputs": [
        {
          "data": {
            "image/png": "[encoded data removed]",
            "text/plain": [
              "<Figure size 576x576 with 2 Axes>"
            ]
          },
          "metadata": {
            "needs_background": "light"
          },
          "output_type": "display_data"
        }
      ]
    },
    {
      "cell_type": "markdown",
      "metadata": {
        "id": "639a951a"
      },
      "source": [
        "### 5. Transfer Learning"
      ],
      "id": "639a951a"
    },
    {
      "cell_type": "markdown",
      "metadata": {
        "id": "bf397a69"
      },
      "source": [
        "OK maybe our own convolutions are not working for us. Let's borrow from the giants. \\\n",
        "MobileNetV2 is what we will resort to first. "
      ],
      "id": "bf397a69"
    },
    {
      "cell_type": "code",
      "metadata": {
        "id": "25aa298a",
        "outputId": "5dfbe250-4a38-46ae-d449-a6a4b589aeec"
      },
      "source": [
        "datagen=ImageDataGenerator(rescale=1./255.)\n",
        "test_datagen=ImageDataGenerator(rescale=1./255.)\n",
        "\n",
        "train_generator=datagen.flow_from_dataframe(\n",
        "                                        dataframe = df[:val_set_start],\n",
        "                                        x_col = \"path\",\n",
        "                                        y_col = \"emotion\",\n",
        "                                        batch_size = 32,\n",
        "                                        interpolation = 'bilinear',\n",
        "                                        seed = 42,\n",
        "                                        shuffle = True,\n",
        "                                        class_mode = \"categorical\",\n",
        "                                        target_size = (img_height, img_width))\n",
        "\n",
        "valid_generator=test_datagen.flow_from_dataframe(\n",
        "                                            dataframe = df[(val_set_start):(test_set_start)],\n",
        "                                            x_col = \"path\",\n",
        "                                            y_col = \"emotion\",\n",
        "                                            batch_size = 32,\n",
        "                                            interpolation = 'bilinear',\n",
        "                                            seed = 42,\n",
        "                                            shuffle = True,\n",
        "                                            class_mode = \"categorical\",\n",
        "                                            target_size = (img_height, img_width))\n",
        "\n",
        "test_generator=test_datagen.flow_from_dataframe(\n",
        "                                            dataframe = df[test_set_start:],\n",
        "                                            x_col = \"path\",\n",
        "                                            y_col = \"emotion\",\n",
        "                                            batch_size = 32,\n",
        "                                            interpolation = 'bilinear',\n",
        "                                            seed = 42,\n",
        "                                            shuffle = True,\n",
        "                                            class_mode = \"categorical\",\n",
        "                                            target_size = (img_height, img_width))"
      ],
      "id": "25aa298a",
      "execution_count": null,
      "outputs": [
        {
          "name": "stdout",
          "output_type": "stream",
          "text": [
            "Found 2471 validated image filenames.\n",
            "Found 824 validated image filenames.\n",
            "Found 810 validated image filenames.\n"
          ]
        }
      ]
    },
    {
      "cell_type": "code",
      "metadata": {
        "id": "aca22c80",
        "outputId": "306cc2de-28ad-4582-e8b8-f93c55bf3460"
      },
      "source": [
        "base_model = mobilenet_v2.MobileNetV2\\\n",
        "                (weights='imagenet', include_top=False, input_shape=(img_height, img_width,3)) \n",
        "\n",
        "for layer in base_model.layers:\n",
        "    layer.trainable = False   \n"
      ],
      "id": "aca22c80",
      "execution_count": null,
      "outputs": [
        {
          "name": "stdout",
          "output_type": "stream",
          "text": [
            "WARNING:tensorflow:`input_shape` is undefined or non-square, or `rows` is not in [96, 128, 160, 192, 224]. Weights for input shape (224, 224) will be loaded as the default.\n"
          ]
        }
      ]
    },
    {
      "cell_type": "code",
      "metadata": {
        "collapsed": true,
        "id": "04d5ebec",
        "outputId": "4bf04823-c9b8-440d-e0f6-9ce9d6732a76"
      },
      "source": [
        "x = base_model.output\n",
        "x = Flatten()(x) \n",
        "x = Dense(512, activation='relu')(x) \n",
        "x = Dense(50, activation='relu')(x)\n",
        "predictions = Dense(num_classes, activation='softmax')(x) \n",
        "\n",
        "model = Model(inputs=base_model.input, outputs=predictions)\n",
        "model.compile(optimizer='adam', loss='categorical_crossentropy', metrics=['accuracy'])\n",
        "model.summary()"
      ],
      "id": "04d5ebec",
      "execution_count": null,
      "outputs": [
        {
          "name": "stdout",
          "output_type": "stream",
          "text": [
            "Model: \"model\"\n",
            "__________________________________________________________________________________________________\n",
            "Layer (type)                    Output Shape         Param #     Connected to                     \n",
            "==================================================================================================\n",
            "input_3 (InputLayer)            [(None, 180, 180, 3) 0                                            \n",
            "__________________________________________________________________________________________________\n",
            "Conv1 (Conv2D)                  (None, 90, 90, 32)   864         input_3[0][0]                    \n",
            "__________________________________________________________________________________________________\n",
            "bn_Conv1 (BatchNormalization)   (None, 90, 90, 32)   128         Conv1[0][0]                      \n",
            "__________________________________________________________________________________________________\n",
            "Conv1_relu (ReLU)               (None, 90, 90, 32)   0           bn_Conv1[0][0]                   \n",
            "__________________________________________________________________________________________________\n",
            "expanded_conv_depthwise (Depthw (None, 90, 90, 32)   288         Conv1_relu[0][0]                 \n",
            "__________________________________________________________________________________________________\n",
            "expanded_conv_depthwise_BN (Bat (None, 90, 90, 32)   128         expanded_conv_depthwise[0][0]    \n",
            "__________________________________________________________________________________________________\n",
            "expanded_conv_depthwise_relu (R (None, 90, 90, 32)   0           expanded_conv_depthwise_BN[0][0] \n",
            "__________________________________________________________________________________________________\n",
            "expanded_conv_project (Conv2D)  (None, 90, 90, 16)   512         expanded_conv_depthwise_relu[0][0\n",
            "__________________________________________________________________________________________________\n",
            "expanded_conv_project_BN (Batch (None, 90, 90, 16)   64          expanded_conv_project[0][0]      \n",
            "__________________________________________________________________________________________________\n",
            "block_1_expand (Conv2D)         (None, 90, 90, 96)   1536        expanded_conv_project_BN[0][0]   \n",
            "__________________________________________________________________________________________________\n",
            "block_1_expand_BN (BatchNormali (None, 90, 90, 96)   384         block_1_expand[0][0]             \n",
            "__________________________________________________________________________________________________\n",
            "block_1_expand_relu (ReLU)      (None, 90, 90, 96)   0           block_1_expand_BN[0][0]          \n",
            "__________________________________________________________________________________________________\n",
            "block_1_pad (ZeroPadding2D)     (None, 91, 91, 96)   0           block_1_expand_relu[0][0]        \n",
            "__________________________________________________________________________________________________\n",
            "block_1_depthwise (DepthwiseCon (None, 45, 45, 96)   864         block_1_pad[0][0]                \n",
            "__________________________________________________________________________________________________\n",
            "block_1_depthwise_BN (BatchNorm (None, 45, 45, 96)   384         block_1_depthwise[0][0]          \n",
            "__________________________________________________________________________________________________\n",
            "block_1_depthwise_relu (ReLU)   (None, 45, 45, 96)   0           block_1_depthwise_BN[0][0]       \n",
            "__________________________________________________________________________________________________\n",
            "block_1_project (Conv2D)        (None, 45, 45, 24)   2304        block_1_depthwise_relu[0][0]     \n",
            "__________________________________________________________________________________________________\n",
            "block_1_project_BN (BatchNormal (None, 45, 45, 24)   96          block_1_project[0][0]            \n",
            "__________________________________________________________________________________________________\n",
            "block_2_expand (Conv2D)         (None, 45, 45, 144)  3456        block_1_project_BN[0][0]         \n",
            "__________________________________________________________________________________________________\n",
            "block_2_expand_BN (BatchNormali (None, 45, 45, 144)  576         block_2_expand[0][0]             \n",
            "__________________________________________________________________________________________________\n",
            "block_2_expand_relu (ReLU)      (None, 45, 45, 144)  0           block_2_expand_BN[0][0]          \n",
            "__________________________________________________________________________________________________\n",
            "block_2_depthwise (DepthwiseCon (None, 45, 45, 144)  1296        block_2_expand_relu[0][0]        \n",
            "__________________________________________________________________________________________________\n",
            "block_2_depthwise_BN (BatchNorm (None, 45, 45, 144)  576         block_2_depthwise[0][0]          \n",
            "__________________________________________________________________________________________________\n",
            "block_2_depthwise_relu (ReLU)   (None, 45, 45, 144)  0           block_2_depthwise_BN[0][0]       \n",
            "__________________________________________________________________________________________________\n",
            "block_2_project (Conv2D)        (None, 45, 45, 24)   3456        block_2_depthwise_relu[0][0]     \n",
            "__________________________________________________________________________________________________\n",
            "block_2_project_BN (BatchNormal (None, 45, 45, 24)   96          block_2_project[0][0]            \n",
            "__________________________________________________________________________________________________\n",
            "block_2_add (Add)               (None, 45, 45, 24)   0           block_1_project_BN[0][0]         \n",
            "                                                                 block_2_project_BN[0][0]         \n",
            "__________________________________________________________________________________________________\n",
            "block_3_expand (Conv2D)         (None, 45, 45, 144)  3456        block_2_add[0][0]                \n",
            "__________________________________________________________________________________________________\n",
            "block_3_expand_BN (BatchNormali (None, 45, 45, 144)  576         block_3_expand[0][0]             \n",
            "__________________________________________________________________________________________________\n",
            "block_3_expand_relu (ReLU)      (None, 45, 45, 144)  0           block_3_expand_BN[0][0]          \n",
            "__________________________________________________________________________________________________\n",
            "block_3_pad (ZeroPadding2D)     (None, 47, 47, 144)  0           block_3_expand_relu[0][0]        \n",
            "__________________________________________________________________________________________________\n",
            "block_3_depthwise (DepthwiseCon (None, 23, 23, 144)  1296        block_3_pad[0][0]                \n",
            "__________________________________________________________________________________________________\n",
            "block_3_depthwise_BN (BatchNorm (None, 23, 23, 144)  576         block_3_depthwise[0][0]          \n",
            "__________________________________________________________________________________________________\n",
            "block_3_depthwise_relu (ReLU)   (None, 23, 23, 144)  0           block_3_depthwise_BN[0][0]       \n",
            "__________________________________________________________________________________________________\n",
            "block_3_project (Conv2D)        (None, 23, 23, 32)   4608        block_3_depthwise_relu[0][0]     \n",
            "__________________________________________________________________________________________________\n",
            "block_3_project_BN (BatchNormal (None, 23, 23, 32)   128         block_3_project[0][0]            \n",
            "__________________________________________________________________________________________________\n",
            "block_4_expand (Conv2D)         (None, 23, 23, 192)  6144        block_3_project_BN[0][0]         \n",
            "__________________________________________________________________________________________________\n",
            "block_4_expand_BN (BatchNormali (None, 23, 23, 192)  768         block_4_expand[0][0]             \n",
            "__________________________________________________________________________________________________\n",
            "block_4_expand_relu (ReLU)      (None, 23, 23, 192)  0           block_4_expand_BN[0][0]          \n",
            "__________________________________________________________________________________________________\n",
            "block_4_depthwise (DepthwiseCon (None, 23, 23, 192)  1728        block_4_expand_relu[0][0]        \n",
            "__________________________________________________________________________________________________\n",
            "block_4_depthwise_BN (BatchNorm (None, 23, 23, 192)  768         block_4_depthwise[0][0]          \n",
            "__________________________________________________________________________________________________\n",
            "block_4_depthwise_relu (ReLU)   (None, 23, 23, 192)  0           block_4_depthwise_BN[0][0]       \n",
            "__________________________________________________________________________________________________\n",
            "block_4_project (Conv2D)        (None, 23, 23, 32)   6144        block_4_depthwise_relu[0][0]     \n",
            "__________________________________________________________________________________________________\n",
            "block_4_project_BN (BatchNormal (None, 23, 23, 32)   128         block_4_project[0][0]            \n",
            "__________________________________________________________________________________________________\n",
            "block_4_add (Add)               (None, 23, 23, 32)   0           block_3_project_BN[0][0]         \n",
            "                                                                 block_4_project_BN[0][0]         \n",
            "__________________________________________________________________________________________________\n",
            "block_5_expand (Conv2D)         (None, 23, 23, 192)  6144        block_4_add[0][0]                \n",
            "__________________________________________________________________________________________________\n",
            "block_5_expand_BN (BatchNormali (None, 23, 23, 192)  768         block_5_expand[0][0]             \n",
            "__________________________________________________________________________________________________\n",
            "block_5_expand_relu (ReLU)      (None, 23, 23, 192)  0           block_5_expand_BN[0][0]          \n",
            "__________________________________________________________________________________________________\n",
            "block_5_depthwise (DepthwiseCon (None, 23, 23, 192)  1728        block_5_expand_relu[0][0]        \n",
            "__________________________________________________________________________________________________\n",
            "block_5_depthwise_BN (BatchNorm (None, 23, 23, 192)  768         block_5_depthwise[0][0]          \n",
            "__________________________________________________________________________________________________\n",
            "block_5_depthwise_relu (ReLU)   (None, 23, 23, 192)  0           block_5_depthwise_BN[0][0]       \n",
            "__________________________________________________________________________________________________\n",
            "block_5_project (Conv2D)        (None, 23, 23, 32)   6144        block_5_depthwise_relu[0][0]     \n",
            "__________________________________________________________________________________________________\n",
            "block_5_project_BN (BatchNormal (None, 23, 23, 32)   128         block_5_project[0][0]            \n",
            "__________________________________________________________________________________________________\n",
            "block_5_add (Add)               (None, 23, 23, 32)   0           block_4_add[0][0]                \n",
            "                                                                 block_5_project_BN[0][0]         \n",
            "__________________________________________________________________________________________________\n",
            "block_6_expand (Conv2D)         (None, 23, 23, 192)  6144        block_5_add[0][0]                \n",
            "__________________________________________________________________________________________________\n",
            "block_6_expand_BN (BatchNormali (None, 23, 23, 192)  768         block_6_expand[0][0]             \n",
            "__________________________________________________________________________________________________\n",
            "block_6_expand_relu (ReLU)      (None, 23, 23, 192)  0           block_6_expand_BN[0][0]          \n",
            "__________________________________________________________________________________________________\n",
            "block_6_pad (ZeroPadding2D)     (None, 25, 25, 192)  0           block_6_expand_relu[0][0]        \n",
            "__________________________________________________________________________________________________\n",
            "block_6_depthwise (DepthwiseCon (None, 12, 12, 192)  1728        block_6_pad[0][0]                \n",
            "__________________________________________________________________________________________________\n",
            "block_6_depthwise_BN (BatchNorm (None, 12, 12, 192)  768         block_6_depthwise[0][0]          \n",
            "__________________________________________________________________________________________________\n",
            "block_6_depthwise_relu (ReLU)   (None, 12, 12, 192)  0           block_6_depthwise_BN[0][0]       \n",
            "__________________________________________________________________________________________________\n",
            "block_6_project (Conv2D)        (None, 12, 12, 64)   12288       block_6_depthwise_relu[0][0]     \n",
            "__________________________________________________________________________________________________\n",
            "block_6_project_BN (BatchNormal (None, 12, 12, 64)   256         block_6_project[0][0]            \n",
            "__________________________________________________________________________________________________\n",
            "block_7_expand (Conv2D)         (None, 12, 12, 384)  24576       block_6_project_BN[0][0]         \n",
            "__________________________________________________________________________________________________\n",
            "block_7_expand_BN (BatchNormali (None, 12, 12, 384)  1536        block_7_expand[0][0]             \n",
            "__________________________________________________________________________________________________\n",
            "block_7_expand_relu (ReLU)      (None, 12, 12, 384)  0           block_7_expand_BN[0][0]          \n",
            "__________________________________________________________________________________________________\n",
            "block_7_depthwise (DepthwiseCon (None, 12, 12, 384)  3456        block_7_expand_relu[0][0]        \n",
            "__________________________________________________________________________________________________\n",
            "block_7_depthwise_BN (BatchNorm (None, 12, 12, 384)  1536        block_7_depthwise[0][0]          \n",
            "__________________________________________________________________________________________________\n",
            "block_7_depthwise_relu (ReLU)   (None, 12, 12, 384)  0           block_7_depthwise_BN[0][0]       \n",
            "__________________________________________________________________________________________________\n",
            "block_7_project (Conv2D)        (None, 12, 12, 64)   24576       block_7_depthwise_relu[0][0]     \n",
            "__________________________________________________________________________________________________\n",
            "block_7_project_BN (BatchNormal (None, 12, 12, 64)   256         block_7_project[0][0]            \n",
            "__________________________________________________________________________________________________\n",
            "block_7_add (Add)               (None, 12, 12, 64)   0           block_6_project_BN[0][0]         \n",
            "                                                                 block_7_project_BN[0][0]         \n",
            "__________________________________________________________________________________________________\n",
            "block_8_expand (Conv2D)         (None, 12, 12, 384)  24576       block_7_add[0][0]                \n",
            "__________________________________________________________________________________________________\n",
            "block_8_expand_BN (BatchNormali (None, 12, 12, 384)  1536        block_8_expand[0][0]             \n",
            "__________________________________________________________________________________________________\n",
            "block_8_expand_relu (ReLU)      (None, 12, 12, 384)  0           block_8_expand_BN[0][0]          \n",
            "__________________________________________________________________________________________________\n",
            "block_8_depthwise (DepthwiseCon (None, 12, 12, 384)  3456        block_8_expand_relu[0][0]        \n",
            "__________________________________________________________________________________________________\n",
            "block_8_depthwise_BN (BatchNorm (None, 12, 12, 384)  1536        block_8_depthwise[0][0]          \n",
            "__________________________________________________________________________________________________\n",
            "block_8_depthwise_relu (ReLU)   (None, 12, 12, 384)  0           block_8_depthwise_BN[0][0]       \n",
            "__________________________________________________________________________________________________\n",
            "block_8_project (Conv2D)        (None, 12, 12, 64)   24576       block_8_depthwise_relu[0][0]     \n",
            "__________________________________________________________________________________________________\n",
            "block_8_project_BN (BatchNormal (None, 12, 12, 64)   256         block_8_project[0][0]            \n",
            "__________________________________________________________________________________________________\n",
            "block_8_add (Add)               (None, 12, 12, 64)   0           block_7_add[0][0]                \n",
            "                                                                 block_8_project_BN[0][0]         \n",
            "__________________________________________________________________________________________________\n",
            "block_9_expand (Conv2D)         (None, 12, 12, 384)  24576       block_8_add[0][0]                \n",
            "__________________________________________________________________________________________________\n",
            "block_9_expand_BN (BatchNormali (None, 12, 12, 384)  1536        block_9_expand[0][0]             \n",
            "__________________________________________________________________________________________________\n",
            "block_9_expand_relu (ReLU)      (None, 12, 12, 384)  0           block_9_expand_BN[0][0]          \n",
            "__________________________________________________________________________________________________\n",
            "block_9_depthwise (DepthwiseCon (None, 12, 12, 384)  3456        block_9_expand_relu[0][0]        \n",
            "__________________________________________________________________________________________________\n",
            "block_9_depthwise_BN (BatchNorm (None, 12, 12, 384)  1536        block_9_depthwise[0][0]          \n",
            "__________________________________________________________________________________________________\n",
            "block_9_depthwise_relu (ReLU)   (None, 12, 12, 384)  0           block_9_depthwise_BN[0][0]       \n",
            "__________________________________________________________________________________________________\n",
            "block_9_project (Conv2D)        (None, 12, 12, 64)   24576       block_9_depthwise_relu[0][0]     \n",
            "__________________________________________________________________________________________________\n",
            "block_9_project_BN (BatchNormal (None, 12, 12, 64)   256         block_9_project[0][0]            \n",
            "__________________________________________________________________________________________________\n",
            "block_9_add (Add)               (None, 12, 12, 64)   0           block_8_add[0][0]                \n",
            "                                                                 block_9_project_BN[0][0]         \n",
            "__________________________________________________________________________________________________\n",
            "block_10_expand (Conv2D)        (None, 12, 12, 384)  24576       block_9_add[0][0]                \n",
            "__________________________________________________________________________________________________\n",
            "block_10_expand_BN (BatchNormal (None, 12, 12, 384)  1536        block_10_expand[0][0]            \n",
            "__________________________________________________________________________________________________\n",
            "block_10_expand_relu (ReLU)     (None, 12, 12, 384)  0           block_10_expand_BN[0][0]         \n",
            "__________________________________________________________________________________________________\n",
            "block_10_depthwise (DepthwiseCo (None, 12, 12, 384)  3456        block_10_expand_relu[0][0]       \n",
            "__________________________________________________________________________________________________\n",
            "block_10_depthwise_BN (BatchNor (None, 12, 12, 384)  1536        block_10_depthwise[0][0]         \n",
            "__________________________________________________________________________________________________\n",
            "block_10_depthwise_relu (ReLU)  (None, 12, 12, 384)  0           block_10_depthwise_BN[0][0]      \n",
            "__________________________________________________________________________________________________\n",
            "block_10_project (Conv2D)       (None, 12, 12, 96)   36864       block_10_depthwise_relu[0][0]    \n",
            "__________________________________________________________________________________________________\n",
            "block_10_project_BN (BatchNorma (None, 12, 12, 96)   384         block_10_project[0][0]           \n",
            "__________________________________________________________________________________________________\n",
            "block_11_expand (Conv2D)        (None, 12, 12, 576)  55296       block_10_project_BN[0][0]        \n",
            "__________________________________________________________________________________________________\n",
            "block_11_expand_BN (BatchNormal (None, 12, 12, 576)  2304        block_11_expand[0][0]            \n",
            "__________________________________________________________________________________________________\n",
            "block_11_expand_relu (ReLU)     (None, 12, 12, 576)  0           block_11_expand_BN[0][0]         \n",
            "__________________________________________________________________________________________________\n",
            "block_11_depthwise (DepthwiseCo (None, 12, 12, 576)  5184        block_11_expand_relu[0][0]       \n",
            "__________________________________________________________________________________________________\n",
            "block_11_depthwise_BN (BatchNor (None, 12, 12, 576)  2304        block_11_depthwise[0][0]         \n",
            "__________________________________________________________________________________________________\n",
            "block_11_depthwise_relu (ReLU)  (None, 12, 12, 576)  0           block_11_depthwise_BN[0][0]      \n",
            "__________________________________________________________________________________________________\n",
            "block_11_project (Conv2D)       (None, 12, 12, 96)   55296       block_11_depthwise_relu[0][0]    \n",
            "__________________________________________________________________________________________________\n",
            "block_11_project_BN (BatchNorma (None, 12, 12, 96)   384         block_11_project[0][0]           \n",
            "__________________________________________________________________________________________________\n",
            "block_11_add (Add)              (None, 12, 12, 96)   0           block_10_project_BN[0][0]        \n",
            "                                                                 block_11_project_BN[0][0]        \n",
            "__________________________________________________________________________________________________\n",
            "block_12_expand (Conv2D)        (None, 12, 12, 576)  55296       block_11_add[0][0]               \n",
            "__________________________________________________________________________________________________\n",
            "block_12_expand_BN (BatchNormal (None, 12, 12, 576)  2304        block_12_expand[0][0]            \n",
            "__________________________________________________________________________________________________\n",
            "block_12_expand_relu (ReLU)     (None, 12, 12, 576)  0           block_12_expand_BN[0][0]         \n",
            "__________________________________________________________________________________________________\n",
            "block_12_depthwise (DepthwiseCo (None, 12, 12, 576)  5184        block_12_expand_relu[0][0]       \n",
            "__________________________________________________________________________________________________\n",
            "block_12_depthwise_BN (BatchNor (None, 12, 12, 576)  2304        block_12_depthwise[0][0]         \n",
            "__________________________________________________________________________________________________\n",
            "block_12_depthwise_relu (ReLU)  (None, 12, 12, 576)  0           block_12_depthwise_BN[0][0]      \n",
            "__________________________________________________________________________________________________\n",
            "block_12_project (Conv2D)       (None, 12, 12, 96)   55296       block_12_depthwise_relu[0][0]    \n",
            "__________________________________________________________________________________________________\n",
            "block_12_project_BN (BatchNorma (None, 12, 12, 96)   384         block_12_project[0][0]           \n",
            "__________________________________________________________________________________________________\n",
            "block_12_add (Add)              (None, 12, 12, 96)   0           block_11_add[0][0]               \n",
            "                                                                 block_12_project_BN[0][0]        \n",
            "__________________________________________________________________________________________________\n",
            "block_13_expand (Conv2D)        (None, 12, 12, 576)  55296       block_12_add[0][0]               \n",
            "__________________________________________________________________________________________________\n",
            "block_13_expand_BN (BatchNormal (None, 12, 12, 576)  2304        block_13_expand[0][0]            \n",
            "__________________________________________________________________________________________________\n",
            "block_13_expand_relu (ReLU)     (None, 12, 12, 576)  0           block_13_expand_BN[0][0]         \n",
            "__________________________________________________________________________________________________\n",
            "block_13_pad (ZeroPadding2D)    (None, 13, 13, 576)  0           block_13_expand_relu[0][0]       \n",
            "__________________________________________________________________________________________________\n",
            "block_13_depthwise (DepthwiseCo (None, 6, 6, 576)    5184        block_13_pad[0][0]               \n",
            "__________________________________________________________________________________________________\n",
            "block_13_depthwise_BN (BatchNor (None, 6, 6, 576)    2304        block_13_depthwise[0][0]         \n",
            "__________________________________________________________________________________________________\n",
            "block_13_depthwise_relu (ReLU)  (None, 6, 6, 576)    0           block_13_depthwise_BN[0][0]      \n",
            "__________________________________________________________________________________________________\n",
            "block_13_project (Conv2D)       (None, 6, 6, 160)    92160       block_13_depthwise_relu[0][0]    \n",
            "__________________________________________________________________________________________________\n",
            "block_13_project_BN (BatchNorma (None, 6, 6, 160)    640         block_13_project[0][0]           \n",
            "__________________________________________________________________________________________________\n",
            "block_14_expand (Conv2D)        (None, 6, 6, 960)    153600      block_13_project_BN[0][0]        \n",
            "__________________________________________________________________________________________________\n",
            "block_14_expand_BN (BatchNormal (None, 6, 6, 960)    3840        block_14_expand[0][0]            \n",
            "__________________________________________________________________________________________________\n",
            "block_14_expand_relu (ReLU)     (None, 6, 6, 960)    0           block_14_expand_BN[0][0]         \n",
            "__________________________________________________________________________________________________\n",
            "block_14_depthwise (DepthwiseCo (None, 6, 6, 960)    8640        block_14_expand_relu[0][0]       \n",
            "__________________________________________________________________________________________________\n",
            "block_14_depthwise_BN (BatchNor (None, 6, 6, 960)    3840        block_14_depthwise[0][0]         \n",
            "__________________________________________________________________________________________________\n",
            "block_14_depthwise_relu (ReLU)  (None, 6, 6, 960)    0           block_14_depthwise_BN[0][0]      \n",
            "__________________________________________________________________________________________________\n",
            "block_14_project (Conv2D)       (None, 6, 6, 160)    153600      block_14_depthwise_relu[0][0]    \n",
            "__________________________________________________________________________________________________\n",
            "block_14_project_BN (BatchNorma (None, 6, 6, 160)    640         block_14_project[0][0]           \n",
            "__________________________________________________________________________________________________\n",
            "block_14_add (Add)              (None, 6, 6, 160)    0           block_13_project_BN[0][0]        \n",
            "                                                                 block_14_project_BN[0][0]        \n",
            "__________________________________________________________________________________________________\n",
            "block_15_expand (Conv2D)        (None, 6, 6, 960)    153600      block_14_add[0][0]               \n",
            "__________________________________________________________________________________________________\n",
            "block_15_expand_BN (BatchNormal (None, 6, 6, 960)    3840        block_15_expand[0][0]            \n",
            "__________________________________________________________________________________________________\n",
            "block_15_expand_relu (ReLU)     (None, 6, 6, 960)    0           block_15_expand_BN[0][0]         \n",
            "__________________________________________________________________________________________________\n",
            "block_15_depthwise (DepthwiseCo (None, 6, 6, 960)    8640        block_15_expand_relu[0][0]       \n",
            "__________________________________________________________________________________________________\n",
            "block_15_depthwise_BN (BatchNor (None, 6, 6, 960)    3840        block_15_depthwise[0][0]         \n",
            "__________________________________________________________________________________________________\n",
            "block_15_depthwise_relu (ReLU)  (None, 6, 6, 960)    0           block_15_depthwise_BN[0][0]      \n",
            "__________________________________________________________________________________________________\n",
            "block_15_project (Conv2D)       (None, 6, 6, 160)    153600      block_15_depthwise_relu[0][0]    \n",
            "__________________________________________________________________________________________________\n",
            "block_15_project_BN (BatchNorma (None, 6, 6, 160)    640         block_15_project[0][0]           \n",
            "__________________________________________________________________________________________________\n",
            "block_15_add (Add)              (None, 6, 6, 160)    0           block_14_add[0][0]               \n",
            "                                                                 block_15_project_BN[0][0]        \n",
            "__________________________________________________________________________________________________\n",
            "block_16_expand (Conv2D)        (None, 6, 6, 960)    153600      block_15_add[0][0]               \n",
            "__________________________________________________________________________________________________\n",
            "block_16_expand_BN (BatchNormal (None, 6, 6, 960)    3840        block_16_expand[0][0]            \n",
            "__________________________________________________________________________________________________\n",
            "block_16_expand_relu (ReLU)     (None, 6, 6, 960)    0           block_16_expand_BN[0][0]         \n",
            "__________________________________________________________________________________________________\n",
            "block_16_depthwise (DepthwiseCo (None, 6, 6, 960)    8640        block_16_expand_relu[0][0]       \n",
            "__________________________________________________________________________________________________\n",
            "block_16_depthwise_BN (BatchNor (None, 6, 6, 960)    3840        block_16_depthwise[0][0]         \n",
            "__________________________________________________________________________________________________\n",
            "block_16_depthwise_relu (ReLU)  (None, 6, 6, 960)    0           block_16_depthwise_BN[0][0]      \n",
            "__________________________________________________________________________________________________\n",
            "block_16_project (Conv2D)       (None, 6, 6, 320)    307200      block_16_depthwise_relu[0][0]    \n",
            "__________________________________________________________________________________________________\n",
            "block_16_project_BN (BatchNorma (None, 6, 6, 320)    1280        block_16_project[0][0]           \n",
            "__________________________________________________________________________________________________\n",
            "Conv_1 (Conv2D)                 (None, 6, 6, 1280)   409600      block_16_project_BN[0][0]        \n",
            "__________________________________________________________________________________________________\n",
            "Conv_1_bn (BatchNormalization)  (None, 6, 6, 1280)   5120        Conv_1[0][0]                     \n",
            "__________________________________________________________________________________________________\n",
            "out_relu (ReLU)                 (None, 6, 6, 1280)   0           Conv_1_bn[0][0]                  \n",
            "__________________________________________________________________________________________________\n",
            "flatten_6 (Flatten)             (None, 46080)        0           out_relu[0][0]                   \n",
            "__________________________________________________________________________________________________\n",
            "dense_12 (Dense)                (None, 512)          23593472    flatten_6[0][0]                  \n",
            "__________________________________________________________________________________________________\n",
            "dense_13 (Dense)                (None, 50)           25650       dense_12[0][0]                   \n",
            "__________________________________________________________________________________________________\n",
            "dense_14 (Dense)                (None, 14)           714         dense_13[0][0]                   \n",
            "==================================================================================================\n",
            "Total params: 25,877,820\n",
            "Trainable params: 23,619,836\n",
            "Non-trainable params: 2,257,984\n",
            "__________________________________________________________________________________________________\n"
          ]
        }
      ]
    },
    {
      "cell_type": "code",
      "metadata": {
        "collapsed": true,
        "id": "1e2a8c83",
        "outputId": "c9d4b53a-3e0a-4480-d012-7c5ee9922ec6"
      },
      "source": [
        "history_transfer = model.fit(train_generator,\n",
        "                    steps_per_epoch=STEP_SIZE_TRAIN,\n",
        "                    validation_data=valid_generator,\n",
        "                    validation_steps=STEP_SIZE_VALID,\n",
        "                    epochs=epochs,\n",
        "                    callbacks = EarlyStopping(monitor='val_loss', \\\n",
        "                                              mode='min', verbose=1, patience = 8,\\\n",
        "                                             restore_best_weights=True)\n",
        ")"
      ],
      "id": "1e2a8c83",
      "execution_count": null,
      "outputs": [
        {
          "name": "stdout",
          "output_type": "stream",
          "text": [
            "Epoch 1/100\n",
            "77/77 [==============================] - 170s 2s/step - loss: 0.8022 - accuracy: 0.1464 - val_loss: 0.4344 - val_accuracy: 0.2237\n",
            "Epoch 2/100\n",
            "77/77 [==============================] - 125s 2s/step - loss: 0.1652 - accuracy: 0.3374 - val_loss: 0.3307 - val_accuracy: 0.2500\n",
            "Epoch 3/100\n",
            "77/77 [==============================] - 137s 2s/step - loss: 0.0974 - accuracy: 0.4207 - val_loss: 0.3221 - val_accuracy: 0.2163\n",
            "Epoch 4/100\n",
            "77/77 [==============================] - 151s 2s/step - loss: 0.0620 - accuracy: 0.4637 - val_loss: 0.3378 - val_accuracy: 0.2488\n",
            "Epoch 5/100\n",
            "77/77 [==============================] - 132s 2s/step - loss: 0.0530 - accuracy: 0.4777 - val_loss: 0.4128 - val_accuracy: 0.2387\n",
            "Epoch 6/100\n",
            "77/77 [==============================] - 127s 2s/step - loss: 0.0396 - accuracy: 0.4867 - val_loss: 0.4066 - val_accuracy: 0.2587\n",
            "Epoch 7/100\n",
            "77/77 [==============================] - 122s 2s/step - loss: 0.0332 - accuracy: 0.4883 - val_loss: 0.4377 - val_accuracy: 0.2387\n",
            "Epoch 8/100\n",
            "77/77 [==============================] - 122s 2s/step - loss: 0.0311 - accuracy: 0.4900 - val_loss: 0.5017 - val_accuracy: 0.2212\n",
            "Epoch 9/100\n",
            "77/77 [==============================] - 123s 2s/step - loss: 0.0237 - accuracy: 0.4895 - val_loss: 0.4721 - val_accuracy: 0.2475\n",
            "Epoch 10/100\n",
            "77/77 [==============================] - 123s 2s/step - loss: 0.0167 - accuracy: 0.4916 - val_loss: 0.4940 - val_accuracy: 0.2275\n",
            "Epoch 11/100\n",
            "77/77 [==============================] - 131s 2s/step - loss: 0.0186 - accuracy: 0.4949 - val_loss: 0.5063 - val_accuracy: 0.2512\n",
            "Restoring model weights from the end of the best epoch.\n",
            "Epoch 00011: early stopping\n"
          ]
        }
      ]
    },
    {
      "cell_type": "code",
      "metadata": {
        "id": "a2e6bc02",
        "outputId": "121e4350-4261-4e7d-8971-391cb8f8ce42"
      },
      "source": [
        "number_of_epochs_it_ran = len(history_transfer.history['loss'])\n",
        "\n",
        "acc = history_transfer.history['accuracy']\n",
        "val_acc = history_transfer.history['val_accuracy']\n",
        "\n",
        "loss = history_transfer.history['loss']\n",
        "val_loss = history_transfer.history['val_loss']\n",
        "\n",
        "epochs_range = range(number_of_epochs_it_ran)\n",
        "\n",
        "plt.figure(figsize=(8, 8))\n",
        "plt.subplot(1, 2, 1)\n",
        "plt.plot(epochs_range, acc, label='Training Accuracy')\n",
        "plt.plot(epochs_range, val_acc, label='Validation Accuracy')\n",
        "plt.legend(loc='lower right')\n",
        "plt.title('Training and Validation Accuracy')\n",
        "\n",
        "plt.subplot(1, 2, 2)\n",
        "plt.plot(epochs_range, loss, label='Training Loss')\n",
        "plt.plot(epochs_range, val_loss, label='Validation Loss')\n",
        "plt.legend(loc='upper right')\n",
        "plt.title('Training and Validation Loss')\n",
        "plt.show()"
      ],
      "id": "a2e6bc02",
      "execution_count": null,
      "outputs": [
        {
          "data": {
            "image/png": "[encoded data removed]",
            "text/plain": [
              "<Figure size 576x576 with 2 Axes>"
            ]
          },
          "metadata": {
            "needs_background": "light"
          },
          "output_type": "display_data"
        }
      ]
    },
    {
      "cell_type": "markdown",
      "metadata": {
        "id": "2a9bff6f"
      },
      "source": [
        "Still overfitting out of this world. "
      ],
      "id": "2a9bff6f"
    },
    {
      "cell_type": "markdown",
      "metadata": {
        "id": "7df10eff"
      },
      "source": [
        "### 6. Transfer Learning with Data Augmentation"
      ],
      "id": "7df10eff"
    },
    {
      "cell_type": "markdown",
      "metadata": {
        "id": "548b0b70"
      },
      "source": [
        "OK, one more resort: try transfer with augmented data. "
      ],
      "id": "548b0b70"
    },
    {
      "cell_type": "code",
      "metadata": {
        "id": "85822a21",
        "outputId": "c8d81286-4aed-452f-e8c6-eefa835340d4"
      },
      "source": [
        "datagen = ImageDataGenerator(\n",
        "        rotation_range=40,\n",
        "        width_shift_range=0.2,\n",
        "        height_shift_range=0.2,\n",
        "        rescale=1./255,\n",
        "        shear_range=0.2,\n",
        "        zoom_range=0.2,\n",
        "        horizontal_flip=True,\n",
        "        fill_mode='nearest')\n",
        "\n",
        "train_generator=datagen.flow_from_dataframe(\n",
        "                                        dataframe = df[:val_set_start],\n",
        "                                        x_col = \"path\",\n",
        "                                        y_col = \"emotion\",\n",
        "                                        batch_size = 32,\n",
        "                                        interpolation = 'bilinear',\n",
        "                                        seed = 42,\n",
        "                                        shuffle = True,\n",
        "                                        class_mode = \"categorical\",\n",
        "                                        target_size = (img_height, img_width))\n",
        "\n",
        "valid_generator=test_datagen.flow_from_dataframe(\n",
        "                                            dataframe = df[(val_set_start):(test_set_start)],\n",
        "                                            x_col = \"path\",\n",
        "                                            y_col = \"emotion\",\n",
        "                                            batch_size = 32,\n",
        "                                            interpolation = 'bilinear',\n",
        "                                            seed = 42,\n",
        "                                            shuffle = True,\n",
        "                                            class_mode = \"categorical\",\n",
        "                                            target_size = (img_height, img_width))\n",
        "\n",
        "test_generator=test_datagen.flow_from_dataframe(\n",
        "                                            dataframe = df[test_set_start:],\n",
        "                                            x_col = \"path\",\n",
        "                                            y_col = \"emotion\",\n",
        "                                            batch_size = 32,\n",
        "                                            interpolation = 'bilinear',\n",
        "                                            seed = 42,\n",
        "                                            shuffle = True,\n",
        "                                            class_mode = \"categorical\",\n",
        "                                            target_size = (img_height, img_width))"
      ],
      "id": "85822a21",
      "execution_count": null,
      "outputs": [
        {
          "name": "stdout",
          "output_type": "stream",
          "text": [
            "Found 2471 validated image filenames.\n",
            "Found 824 validated image filenames.\n",
            "Found 810 validated image filenames.\n"
          ]
        }
      ]
    },
    {
      "cell_type": "code",
      "metadata": {
        "id": "c884cd8c",
        "outputId": "460b49b0-f921-4068-c2f3-fb99dca1220a"
      },
      "source": [
        "base_model = mobilenet_v2.MobileNetV2\\\n",
        "                (weights='imagenet', include_top=False, input_shape=(img_height, img_width,3)) \n",
        "\n",
        "for layer in base_model.layers:\n",
        "    layer.trainable = False   \n"
      ],
      "id": "c884cd8c",
      "execution_count": null,
      "outputs": [
        {
          "name": "stdout",
          "output_type": "stream",
          "text": [
            "WARNING:tensorflow:`input_shape` is undefined or non-square, or `rows` is not in [96, 128, 160, 192, 224]. Weights for input shape (224, 224) will be loaded as the default.\n"
          ]
        }
      ]
    },
    {
      "cell_type": "code",
      "metadata": {
        "collapsed": true,
        "id": "ae3e75cb",
        "outputId": "ab0a3052-e07d-4a15-a96b-3b5c9acf76ff"
      },
      "source": [
        "# Establish new fully connected block\n",
        "x = base_model.output\n",
        "x = Flatten()(x) # flatten from convolution tensor output \n",
        "x = Dense(512, activation='relu')(x) # number of layers and units are hyperparameters, as usual\n",
        "x = Dense(50, activation='relu')(x)\n",
        "predictions = Dense(num_classes, activation='softmax')(x) # should match # of classes predicted\n",
        "\n",
        "# define formal model object to train and compile it as usual\n",
        "model = Model(inputs=base_model.input, outputs=predictions)\n",
        "model.compile(optimizer='adam', loss='categorical_crossentropy', metrics=['accuracy'])\n",
        "model.summary()"
      ],
      "id": "ae3e75cb",
      "execution_count": null,
      "outputs": [
        {
          "name": "stdout",
          "output_type": "stream",
          "text": [
            "Model: \"model_1\"\n",
            "__________________________________________________________________________________________________\n",
            "Layer (type)                    Output Shape         Param #     Connected to                     \n",
            "==================================================================================================\n",
            "input_4 (InputLayer)            [(None, 180, 180, 3) 0                                            \n",
            "__________________________________________________________________________________________________\n",
            "Conv1 (Conv2D)                  (None, 90, 90, 32)   864         input_4[0][0]                    \n",
            "__________________________________________________________________________________________________\n",
            "bn_Conv1 (BatchNormalization)   (None, 90, 90, 32)   128         Conv1[0][0]                      \n",
            "__________________________________________________________________________________________________\n",
            "Conv1_relu (ReLU)               (None, 90, 90, 32)   0           bn_Conv1[0][0]                   \n",
            "__________________________________________________________________________________________________\n",
            "expanded_conv_depthwise (Depthw (None, 90, 90, 32)   288         Conv1_relu[0][0]                 \n",
            "__________________________________________________________________________________________________\n",
            "expanded_conv_depthwise_BN (Bat (None, 90, 90, 32)   128         expanded_conv_depthwise[0][0]    \n",
            "__________________________________________________________________________________________________\n",
            "expanded_conv_depthwise_relu (R (None, 90, 90, 32)   0           expanded_conv_depthwise_BN[0][0] \n",
            "__________________________________________________________________________________________________\n",
            "expanded_conv_project (Conv2D)  (None, 90, 90, 16)   512         expanded_conv_depthwise_relu[0][0\n",
            "__________________________________________________________________________________________________\n",
            "expanded_conv_project_BN (Batch (None, 90, 90, 16)   64          expanded_conv_project[0][0]      \n",
            "__________________________________________________________________________________________________\n",
            "block_1_expand (Conv2D)         (None, 90, 90, 96)   1536        expanded_conv_project_BN[0][0]   \n",
            "__________________________________________________________________________________________________\n",
            "block_1_expand_BN (BatchNormali (None, 90, 90, 96)   384         block_1_expand[0][0]             \n",
            "__________________________________________________________________________________________________\n",
            "block_1_expand_relu (ReLU)      (None, 90, 90, 96)   0           block_1_expand_BN[0][0]          \n",
            "__________________________________________________________________________________________________\n",
            "block_1_pad (ZeroPadding2D)     (None, 91, 91, 96)   0           block_1_expand_relu[0][0]        \n",
            "__________________________________________________________________________________________________\n",
            "block_1_depthwise (DepthwiseCon (None, 45, 45, 96)   864         block_1_pad[0][0]                \n",
            "__________________________________________________________________________________________________\n",
            "block_1_depthwise_BN (BatchNorm (None, 45, 45, 96)   384         block_1_depthwise[0][0]          \n",
            "__________________________________________________________________________________________________\n",
            "block_1_depthwise_relu (ReLU)   (None, 45, 45, 96)   0           block_1_depthwise_BN[0][0]       \n",
            "__________________________________________________________________________________________________\n",
            "block_1_project (Conv2D)        (None, 45, 45, 24)   2304        block_1_depthwise_relu[0][0]     \n",
            "__________________________________________________________________________________________________\n",
            "block_1_project_BN (BatchNormal (None, 45, 45, 24)   96          block_1_project[0][0]            \n",
            "__________________________________________________________________________________________________\n",
            "block_2_expand (Conv2D)         (None, 45, 45, 144)  3456        block_1_project_BN[0][0]         \n",
            "__________________________________________________________________________________________________\n",
            "block_2_expand_BN (BatchNormali (None, 45, 45, 144)  576         block_2_expand[0][0]             \n",
            "__________________________________________________________________________________________________\n",
            "block_2_expand_relu (ReLU)      (None, 45, 45, 144)  0           block_2_expand_BN[0][0]          \n",
            "__________________________________________________________________________________________________\n",
            "block_2_depthwise (DepthwiseCon (None, 45, 45, 144)  1296        block_2_expand_relu[0][0]        \n",
            "__________________________________________________________________________________________________\n",
            "block_2_depthwise_BN (BatchNorm (None, 45, 45, 144)  576         block_2_depthwise[0][0]          \n",
            "__________________________________________________________________________________________________\n",
            "block_2_depthwise_relu (ReLU)   (None, 45, 45, 144)  0           block_2_depthwise_BN[0][0]       \n",
            "__________________________________________________________________________________________________\n",
            "block_2_project (Conv2D)        (None, 45, 45, 24)   3456        block_2_depthwise_relu[0][0]     \n",
            "__________________________________________________________________________________________________\n",
            "block_2_project_BN (BatchNormal (None, 45, 45, 24)   96          block_2_project[0][0]            \n",
            "__________________________________________________________________________________________________\n",
            "block_2_add (Add)               (None, 45, 45, 24)   0           block_1_project_BN[0][0]         \n",
            "                                                                 block_2_project_BN[0][0]         \n",
            "__________________________________________________________________________________________________\n",
            "block_3_expand (Conv2D)         (None, 45, 45, 144)  3456        block_2_add[0][0]                \n",
            "__________________________________________________________________________________________________\n",
            "block_3_expand_BN (BatchNormali (None, 45, 45, 144)  576         block_3_expand[0][0]             \n",
            "__________________________________________________________________________________________________\n",
            "block_3_expand_relu (ReLU)      (None, 45, 45, 144)  0           block_3_expand_BN[0][0]          \n",
            "__________________________________________________________________________________________________\n",
            "block_3_pad (ZeroPadding2D)     (None, 47, 47, 144)  0           block_3_expand_relu[0][0]        \n",
            "__________________________________________________________________________________________________\n",
            "block_3_depthwise (DepthwiseCon (None, 23, 23, 144)  1296        block_3_pad[0][0]                \n",
            "__________________________________________________________________________________________________\n",
            "block_3_depthwise_BN (BatchNorm (None, 23, 23, 144)  576         block_3_depthwise[0][0]          \n",
            "__________________________________________________________________________________________________\n",
            "block_3_depthwise_relu (ReLU)   (None, 23, 23, 144)  0           block_3_depthwise_BN[0][0]       \n",
            "__________________________________________________________________________________________________\n",
            "block_3_project (Conv2D)        (None, 23, 23, 32)   4608        block_3_depthwise_relu[0][0]     \n",
            "__________________________________________________________________________________________________\n",
            "block_3_project_BN (BatchNormal (None, 23, 23, 32)   128         block_3_project[0][0]            \n",
            "__________________________________________________________________________________________________\n",
            "block_4_expand (Conv2D)         (None, 23, 23, 192)  6144        block_3_project_BN[0][0]         \n",
            "__________________________________________________________________________________________________\n",
            "block_4_expand_BN (BatchNormali (None, 23, 23, 192)  768         block_4_expand[0][0]             \n",
            "__________________________________________________________________________________________________\n",
            "block_4_expand_relu (ReLU)      (None, 23, 23, 192)  0           block_4_expand_BN[0][0]          \n",
            "__________________________________________________________________________________________________\n",
            "block_4_depthwise (DepthwiseCon (None, 23, 23, 192)  1728        block_4_expand_relu[0][0]        \n",
            "__________________________________________________________________________________________________\n",
            "block_4_depthwise_BN (BatchNorm (None, 23, 23, 192)  768         block_4_depthwise[0][0]          \n",
            "__________________________________________________________________________________________________\n",
            "block_4_depthwise_relu (ReLU)   (None, 23, 23, 192)  0           block_4_depthwise_BN[0][0]       \n",
            "__________________________________________________________________________________________________\n",
            "block_4_project (Conv2D)        (None, 23, 23, 32)   6144        block_4_depthwise_relu[0][0]     \n",
            "__________________________________________________________________________________________________\n",
            "block_4_project_BN (BatchNormal (None, 23, 23, 32)   128         block_4_project[0][0]            \n",
            "__________________________________________________________________________________________________\n",
            "block_4_add (Add)               (None, 23, 23, 32)   0           block_3_project_BN[0][0]         \n",
            "                                                                 block_4_project_BN[0][0]         \n",
            "__________________________________________________________________________________________________\n",
            "block_5_expand (Conv2D)         (None, 23, 23, 192)  6144        block_4_add[0][0]                \n",
            "__________________________________________________________________________________________________\n",
            "block_5_expand_BN (BatchNormali (None, 23, 23, 192)  768         block_5_expand[0][0]             \n",
            "__________________________________________________________________________________________________\n",
            "block_5_expand_relu (ReLU)      (None, 23, 23, 192)  0           block_5_expand_BN[0][0]          \n",
            "__________________________________________________________________________________________________\n",
            "block_5_depthwise (DepthwiseCon (None, 23, 23, 192)  1728        block_5_expand_relu[0][0]        \n",
            "__________________________________________________________________________________________________\n",
            "block_5_depthwise_BN (BatchNorm (None, 23, 23, 192)  768         block_5_depthwise[0][0]          \n",
            "__________________________________________________________________________________________________\n",
            "block_5_depthwise_relu (ReLU)   (None, 23, 23, 192)  0           block_5_depthwise_BN[0][0]       \n",
            "__________________________________________________________________________________________________\n",
            "block_5_project (Conv2D)        (None, 23, 23, 32)   6144        block_5_depthwise_relu[0][0]     \n",
            "__________________________________________________________________________________________________\n",
            "block_5_project_BN (BatchNormal (None, 23, 23, 32)   128         block_5_project[0][0]            \n",
            "__________________________________________________________________________________________________\n",
            "block_5_add (Add)               (None, 23, 23, 32)   0           block_4_add[0][0]                \n",
            "                                                                 block_5_project_BN[0][0]         \n",
            "__________________________________________________________________________________________________\n",
            "block_6_expand (Conv2D)         (None, 23, 23, 192)  6144        block_5_add[0][0]                \n",
            "__________________________________________________________________________________________________\n",
            "block_6_expand_BN (BatchNormali (None, 23, 23, 192)  768         block_6_expand[0][0]             \n",
            "__________________________________________________________________________________________________\n",
            "block_6_expand_relu (ReLU)      (None, 23, 23, 192)  0           block_6_expand_BN[0][0]          \n",
            "__________________________________________________________________________________________________\n",
            "block_6_pad (ZeroPadding2D)     (None, 25, 25, 192)  0           block_6_expand_relu[0][0]        \n",
            "__________________________________________________________________________________________________\n",
            "block_6_depthwise (DepthwiseCon (None, 12, 12, 192)  1728        block_6_pad[0][0]                \n",
            "__________________________________________________________________________________________________\n",
            "block_6_depthwise_BN (BatchNorm (None, 12, 12, 192)  768         block_6_depthwise[0][0]          \n",
            "__________________________________________________________________________________________________\n",
            "block_6_depthwise_relu (ReLU)   (None, 12, 12, 192)  0           block_6_depthwise_BN[0][0]       \n",
            "__________________________________________________________________________________________________\n",
            "block_6_project (Conv2D)        (None, 12, 12, 64)   12288       block_6_depthwise_relu[0][0]     \n",
            "__________________________________________________________________________________________________\n",
            "block_6_project_BN (BatchNormal (None, 12, 12, 64)   256         block_6_project[0][0]            \n",
            "__________________________________________________________________________________________________\n",
            "block_7_expand (Conv2D)         (None, 12, 12, 384)  24576       block_6_project_BN[0][0]         \n",
            "__________________________________________________________________________________________________\n",
            "block_7_expand_BN (BatchNormali (None, 12, 12, 384)  1536        block_7_expand[0][0]             \n",
            "__________________________________________________________________________________________________\n",
            "block_7_expand_relu (ReLU)      (None, 12, 12, 384)  0           block_7_expand_BN[0][0]          \n",
            "__________________________________________________________________________________________________\n",
            "block_7_depthwise (DepthwiseCon (None, 12, 12, 384)  3456        block_7_expand_relu[0][0]        \n",
            "__________________________________________________________________________________________________\n",
            "block_7_depthwise_BN (BatchNorm (None, 12, 12, 384)  1536        block_7_depthwise[0][0]          \n",
            "__________________________________________________________________________________________________\n",
            "block_7_depthwise_relu (ReLU)   (None, 12, 12, 384)  0           block_7_depthwise_BN[0][0]       \n",
            "__________________________________________________________________________________________________\n",
            "block_7_project (Conv2D)        (None, 12, 12, 64)   24576       block_7_depthwise_relu[0][0]     \n",
            "__________________________________________________________________________________________________\n",
            "block_7_project_BN (BatchNormal (None, 12, 12, 64)   256         block_7_project[0][0]            \n",
            "__________________________________________________________________________________________________\n",
            "block_7_add (Add)               (None, 12, 12, 64)   0           block_6_project_BN[0][0]         \n",
            "                                                                 block_7_project_BN[0][0]         \n",
            "__________________________________________________________________________________________________\n",
            "block_8_expand (Conv2D)         (None, 12, 12, 384)  24576       block_7_add[0][0]                \n",
            "__________________________________________________________________________________________________\n",
            "block_8_expand_BN (BatchNormali (None, 12, 12, 384)  1536        block_8_expand[0][0]             \n",
            "__________________________________________________________________________________________________\n",
            "block_8_expand_relu (ReLU)      (None, 12, 12, 384)  0           block_8_expand_BN[0][0]          \n",
            "__________________________________________________________________________________________________\n",
            "block_8_depthwise (DepthwiseCon (None, 12, 12, 384)  3456        block_8_expand_relu[0][0]        \n",
            "__________________________________________________________________________________________________\n",
            "block_8_depthwise_BN (BatchNorm (None, 12, 12, 384)  1536        block_8_depthwise[0][0]          \n",
            "__________________________________________________________________________________________________\n",
            "block_8_depthwise_relu (ReLU)   (None, 12, 12, 384)  0           block_8_depthwise_BN[0][0]       \n",
            "__________________________________________________________________________________________________\n",
            "block_8_project (Conv2D)        (None, 12, 12, 64)   24576       block_8_depthwise_relu[0][0]     \n",
            "__________________________________________________________________________________________________\n",
            "block_8_project_BN (BatchNormal (None, 12, 12, 64)   256         block_8_project[0][0]            \n",
            "__________________________________________________________________________________________________\n",
            "block_8_add (Add)               (None, 12, 12, 64)   0           block_7_add[0][0]                \n",
            "                                                                 block_8_project_BN[0][0]         \n",
            "__________________________________________________________________________________________________\n",
            "block_9_expand (Conv2D)         (None, 12, 12, 384)  24576       block_8_add[0][0]                \n",
            "__________________________________________________________________________________________________\n",
            "block_9_expand_BN (BatchNormali (None, 12, 12, 384)  1536        block_9_expand[0][0]             \n",
            "__________________________________________________________________________________________________\n",
            "block_9_expand_relu (ReLU)      (None, 12, 12, 384)  0           block_9_expand_BN[0][0]          \n",
            "__________________________________________________________________________________________________\n",
            "block_9_depthwise (DepthwiseCon (None, 12, 12, 384)  3456        block_9_expand_relu[0][0]        \n",
            "__________________________________________________________________________________________________\n",
            "block_9_depthwise_BN (BatchNorm (None, 12, 12, 384)  1536        block_9_depthwise[0][0]          \n",
            "__________________________________________________________________________________________________\n",
            "block_9_depthwise_relu (ReLU)   (None, 12, 12, 384)  0           block_9_depthwise_BN[0][0]       \n",
            "__________________________________________________________________________________________________\n",
            "block_9_project (Conv2D)        (None, 12, 12, 64)   24576       block_9_depthwise_relu[0][0]     \n",
            "__________________________________________________________________________________________________\n",
            "block_9_project_BN (BatchNormal (None, 12, 12, 64)   256         block_9_project[0][0]            \n",
            "__________________________________________________________________________________________________\n",
            "block_9_add (Add)               (None, 12, 12, 64)   0           block_8_add[0][0]                \n",
            "                                                                 block_9_project_BN[0][0]         \n",
            "__________________________________________________________________________________________________\n",
            "block_10_expand (Conv2D)        (None, 12, 12, 384)  24576       block_9_add[0][0]                \n",
            "__________________________________________________________________________________________________\n",
            "block_10_expand_BN (BatchNormal (None, 12, 12, 384)  1536        block_10_expand[0][0]            \n",
            "__________________________________________________________________________________________________\n",
            "block_10_expand_relu (ReLU)     (None, 12, 12, 384)  0           block_10_expand_BN[0][0]         \n",
            "__________________________________________________________________________________________________\n",
            "block_10_depthwise (DepthwiseCo (None, 12, 12, 384)  3456        block_10_expand_relu[0][0]       \n",
            "__________________________________________________________________________________________________\n",
            "block_10_depthwise_BN (BatchNor (None, 12, 12, 384)  1536        block_10_depthwise[0][0]         \n",
            "__________________________________________________________________________________________________\n",
            "block_10_depthwise_relu (ReLU)  (None, 12, 12, 384)  0           block_10_depthwise_BN[0][0]      \n",
            "__________________________________________________________________________________________________\n",
            "block_10_project (Conv2D)       (None, 12, 12, 96)   36864       block_10_depthwise_relu[0][0]    \n",
            "__________________________________________________________________________________________________\n",
            "block_10_project_BN (BatchNorma (None, 12, 12, 96)   384         block_10_project[0][0]           \n",
            "__________________________________________________________________________________________________\n",
            "block_11_expand (Conv2D)        (None, 12, 12, 576)  55296       block_10_project_BN[0][0]        \n",
            "__________________________________________________________________________________________________\n",
            "block_11_expand_BN (BatchNormal (None, 12, 12, 576)  2304        block_11_expand[0][0]            \n",
            "__________________________________________________________________________________________________\n",
            "block_11_expand_relu (ReLU)     (None, 12, 12, 576)  0           block_11_expand_BN[0][0]         \n",
            "__________________________________________________________________________________________________\n",
            "block_11_depthwise (DepthwiseCo (None, 12, 12, 576)  5184        block_11_expand_relu[0][0]       \n",
            "__________________________________________________________________________________________________\n",
            "block_11_depthwise_BN (BatchNor (None, 12, 12, 576)  2304        block_11_depthwise[0][0]         \n",
            "__________________________________________________________________________________________________\n",
            "block_11_depthwise_relu (ReLU)  (None, 12, 12, 576)  0           block_11_depthwise_BN[0][0]      \n",
            "__________________________________________________________________________________________________\n",
            "block_11_project (Conv2D)       (None, 12, 12, 96)   55296       block_11_depthwise_relu[0][0]    \n",
            "__________________________________________________________________________________________________\n",
            "block_11_project_BN (BatchNorma (None, 12, 12, 96)   384         block_11_project[0][0]           \n",
            "__________________________________________________________________________________________________\n",
            "block_11_add (Add)              (None, 12, 12, 96)   0           block_10_project_BN[0][0]        \n",
            "                                                                 block_11_project_BN[0][0]        \n",
            "__________________________________________________________________________________________________\n",
            "block_12_expand (Conv2D)        (None, 12, 12, 576)  55296       block_11_add[0][0]               \n",
            "__________________________________________________________________________________________________\n",
            "block_12_expand_BN (BatchNormal (None, 12, 12, 576)  2304        block_12_expand[0][0]            \n",
            "__________________________________________________________________________________________________\n",
            "block_12_expand_relu (ReLU)     (None, 12, 12, 576)  0           block_12_expand_BN[0][0]         \n",
            "__________________________________________________________________________________________________\n",
            "block_12_depthwise (DepthwiseCo (None, 12, 12, 576)  5184        block_12_expand_relu[0][0]       \n",
            "__________________________________________________________________________________________________\n",
            "block_12_depthwise_BN (BatchNor (None, 12, 12, 576)  2304        block_12_depthwise[0][0]         \n",
            "__________________________________________________________________________________________________\n",
            "block_12_depthwise_relu (ReLU)  (None, 12, 12, 576)  0           block_12_depthwise_BN[0][0]      \n",
            "__________________________________________________________________________________________________\n",
            "block_12_project (Conv2D)       (None, 12, 12, 96)   55296       block_12_depthwise_relu[0][0]    \n",
            "__________________________________________________________________________________________________\n",
            "block_12_project_BN (BatchNorma (None, 12, 12, 96)   384         block_12_project[0][0]           \n",
            "__________________________________________________________________________________________________\n",
            "block_12_add (Add)              (None, 12, 12, 96)   0           block_11_add[0][0]               \n",
            "                                                                 block_12_project_BN[0][0]        \n",
            "__________________________________________________________________________________________________\n",
            "block_13_expand (Conv2D)        (None, 12, 12, 576)  55296       block_12_add[0][0]               \n",
            "__________________________________________________________________________________________________\n",
            "block_13_expand_BN (BatchNormal (None, 12, 12, 576)  2304        block_13_expand[0][0]            \n",
            "__________________________________________________________________________________________________\n",
            "block_13_expand_relu (ReLU)     (None, 12, 12, 576)  0           block_13_expand_BN[0][0]         \n",
            "__________________________________________________________________________________________________\n",
            "block_13_pad (ZeroPadding2D)    (None, 13, 13, 576)  0           block_13_expand_relu[0][0]       \n",
            "__________________________________________________________________________________________________\n",
            "block_13_depthwise (DepthwiseCo (None, 6, 6, 576)    5184        block_13_pad[0][0]               \n",
            "__________________________________________________________________________________________________\n",
            "block_13_depthwise_BN (BatchNor (None, 6, 6, 576)    2304        block_13_depthwise[0][0]         \n",
            "__________________________________________________________________________________________________\n",
            "block_13_depthwise_relu (ReLU)  (None, 6, 6, 576)    0           block_13_depthwise_BN[0][0]      \n",
            "__________________________________________________________________________________________________\n",
            "block_13_project (Conv2D)       (None, 6, 6, 160)    92160       block_13_depthwise_relu[0][0]    \n",
            "__________________________________________________________________________________________________\n",
            "block_13_project_BN (BatchNorma (None, 6, 6, 160)    640         block_13_project[0][0]           \n",
            "__________________________________________________________________________________________________\n",
            "block_14_expand (Conv2D)        (None, 6, 6, 960)    153600      block_13_project_BN[0][0]        \n",
            "__________________________________________________________________________________________________\n",
            "block_14_expand_BN (BatchNormal (None, 6, 6, 960)    3840        block_14_expand[0][0]            \n",
            "__________________________________________________________________________________________________\n",
            "block_14_expand_relu (ReLU)     (None, 6, 6, 960)    0           block_14_expand_BN[0][0]         \n",
            "__________________________________________________________________________________________________\n",
            "block_14_depthwise (DepthwiseCo (None, 6, 6, 960)    8640        block_14_expand_relu[0][0]       \n",
            "__________________________________________________________________________________________________\n",
            "block_14_depthwise_BN (BatchNor (None, 6, 6, 960)    3840        block_14_depthwise[0][0]         \n",
            "__________________________________________________________________________________________________\n",
            "block_14_depthwise_relu (ReLU)  (None, 6, 6, 960)    0           block_14_depthwise_BN[0][0]      \n",
            "__________________________________________________________________________________________________\n",
            "block_14_project (Conv2D)       (None, 6, 6, 160)    153600      block_14_depthwise_relu[0][0]    \n",
            "__________________________________________________________________________________________________\n",
            "block_14_project_BN (BatchNorma (None, 6, 6, 160)    640         block_14_project[0][0]           \n",
            "__________________________________________________________________________________________________\n",
            "block_14_add (Add)              (None, 6, 6, 160)    0           block_13_project_BN[0][0]        \n",
            "                                                                 block_14_project_BN[0][0]        \n",
            "__________________________________________________________________________________________________\n",
            "block_15_expand (Conv2D)        (None, 6, 6, 960)    153600      block_14_add[0][0]               \n",
            "__________________________________________________________________________________________________\n",
            "block_15_expand_BN (BatchNormal (None, 6, 6, 960)    3840        block_15_expand[0][0]            \n",
            "__________________________________________________________________________________________________\n",
            "block_15_expand_relu (ReLU)     (None, 6, 6, 960)    0           block_15_expand_BN[0][0]         \n",
            "__________________________________________________________________________________________________\n",
            "block_15_depthwise (DepthwiseCo (None, 6, 6, 960)    8640        block_15_expand_relu[0][0]       \n",
            "__________________________________________________________________________________________________\n",
            "block_15_depthwise_BN (BatchNor (None, 6, 6, 960)    3840        block_15_depthwise[0][0]         \n",
            "__________________________________________________________________________________________________\n",
            "block_15_depthwise_relu (ReLU)  (None, 6, 6, 960)    0           block_15_depthwise_BN[0][0]      \n",
            "__________________________________________________________________________________________________\n",
            "block_15_project (Conv2D)       (None, 6, 6, 160)    153600      block_15_depthwise_relu[0][0]    \n",
            "__________________________________________________________________________________________________\n",
            "block_15_project_BN (BatchNorma (None, 6, 6, 160)    640         block_15_project[0][0]           \n",
            "__________________________________________________________________________________________________\n",
            "block_15_add (Add)              (None, 6, 6, 160)    0           block_14_add[0][0]               \n",
            "                                                                 block_15_project_BN[0][0]        \n",
            "__________________________________________________________________________________________________\n",
            "block_16_expand (Conv2D)        (None, 6, 6, 960)    153600      block_15_add[0][0]               \n",
            "__________________________________________________________________________________________________\n",
            "block_16_expand_BN (BatchNormal (None, 6, 6, 960)    3840        block_16_expand[0][0]            \n",
            "__________________________________________________________________________________________________\n",
            "block_16_expand_relu (ReLU)     (None, 6, 6, 960)    0           block_16_expand_BN[0][0]         \n",
            "__________________________________________________________________________________________________\n",
            "block_16_depthwise (DepthwiseCo (None, 6, 6, 960)    8640        block_16_expand_relu[0][0]       \n",
            "__________________________________________________________________________________________________\n",
            "block_16_depthwise_BN (BatchNor (None, 6, 6, 960)    3840        block_16_depthwise[0][0]         \n",
            "__________________________________________________________________________________________________\n",
            "block_16_depthwise_relu (ReLU)  (None, 6, 6, 960)    0           block_16_depthwise_BN[0][0]      \n",
            "__________________________________________________________________________________________________\n",
            "block_16_project (Conv2D)       (None, 6, 6, 320)    307200      block_16_depthwise_relu[0][0]    \n",
            "__________________________________________________________________________________________________\n",
            "block_16_project_BN (BatchNorma (None, 6, 6, 320)    1280        block_16_project[0][0]           \n",
            "__________________________________________________________________________________________________\n",
            "Conv_1 (Conv2D)                 (None, 6, 6, 1280)   409600      block_16_project_BN[0][0]        \n",
            "__________________________________________________________________________________________________\n",
            "Conv_1_bn (BatchNormalization)  (None, 6, 6, 1280)   5120        Conv_1[0][0]                     \n",
            "__________________________________________________________________________________________________\n",
            "out_relu (ReLU)                 (None, 6, 6, 1280)   0           Conv_1_bn[0][0]                  \n",
            "__________________________________________________________________________________________________\n",
            "flatten_7 (Flatten)             (None, 46080)        0           out_relu[0][0]                   \n",
            "__________________________________________________________________________________________________\n",
            "dense_15 (Dense)                (None, 512)          23593472    flatten_7[0][0]                  \n",
            "__________________________________________________________________________________________________\n",
            "dense_16 (Dense)                (None, 50)           25650       dense_15[0][0]                   \n",
            "__________________________________________________________________________________________________\n",
            "dense_17 (Dense)                (None, 14)           714         dense_16[0][0]                   \n",
            "==================================================================================================\n",
            "Total params: 25,877,820\n",
            "Trainable params: 23,619,836\n",
            "Non-trainable params: 2,257,984\n",
            "__________________________________________________________________________________________________\n"
          ]
        }
      ]
    },
    {
      "cell_type": "code",
      "metadata": {
        "collapsed": true,
        "id": "0df4e9f1",
        "outputId": "a46e4f24-3be7-4685-de49-56867f30d190"
      },
      "source": [
        "history_transfer_aug = model.fit(train_generator,\n",
        "                    steps_per_epoch=STEP_SIZE_TRAIN,\n",
        "                    validation_data=valid_generator,\n",
        "                    validation_steps=STEP_SIZE_VALID,\n",
        "                    epochs=epochs,\n",
        "                    callbacks = EarlyStopping(monitor='val_loss', \\\n",
        "                                              mode='min', verbose=1, patience = 8,\\\n",
        "                                             restore_best_weights=True)\n",
        ")"
      ],
      "id": "0df4e9f1",
      "execution_count": null,
      "outputs": [
        {
          "name": "stdout",
          "output_type": "stream",
          "text": [
            "Epoch 1/100\n",
            "77/77 [==============================] - 180s 2s/step - loss: 0.1842 - accuracy: 0.2645 - val_loss: 0.2474 - val_accuracy: 0.2125\n",
            "Epoch 2/100\n",
            "77/77 [==============================] - 167s 2s/step - loss: 0.1822 - accuracy: 0.2739 - val_loss: 0.2440 - val_accuracy: 0.1688\n",
            "Epoch 3/100\n",
            "77/77 [==============================] - 155s 2s/step - loss: 0.1741 - accuracy: 0.2702 - val_loss: 0.2521 - val_accuracy: 0.2525\n",
            "Epoch 4/100\n",
            "77/77 [==============================] - 154s 2s/step - loss: 0.1674 - accuracy: 0.2759 - val_loss: 0.2183 - val_accuracy: 0.2400\n",
            "Epoch 5/100\n",
            "77/77 [==============================] - 169s 2s/step - loss: 0.1582 - accuracy: 0.2845 - val_loss: 0.2332 - val_accuracy: 0.2450\n",
            "Epoch 6/100\n",
            "77/77 [==============================] - 169s 2s/step - loss: 0.1471 - accuracy: 0.3001 - val_loss: 0.2552 - val_accuracy: 0.2212\n",
            "Epoch 7/100\n",
            "77/77 [==============================] - 169s 2s/step - loss: 0.1676 - accuracy: 0.2854 - val_loss: 0.2283 - val_accuracy: 0.2275\n",
            "Epoch 8/100\n",
            "77/77 [==============================] - 167s 2s/step - loss: 0.1434 - accuracy: 0.3079 - val_loss: 0.2132 - val_accuracy: 0.2425\n",
            "Epoch 9/100\n",
            "77/77 [==============================] - 169s 2s/step - loss: 0.1382 - accuracy: 0.3067 - val_loss: 0.2046 - val_accuracy: 0.2438\n",
            "Epoch 10/100\n",
            "77/77 [==============================] - 180s 2s/step - loss: 0.1380 - accuracy: 0.3009 - val_loss: 0.2052 - val_accuracy: 0.2225\n",
            "Epoch 11/100\n",
            "77/77 [==============================] - 186s 2s/step - loss: 0.1351 - accuracy: 0.3137 - val_loss: 0.2011 - val_accuracy: 0.2438\n",
            "Epoch 12/100\n",
            "77/77 [==============================] - 177s 2s/step - loss: 0.1331 - accuracy: 0.3038 - val_loss: 0.2132 - val_accuracy: 0.2275\n",
            "Epoch 13/100\n",
            "77/77 [==============================] - 173s 2s/step - loss: 0.1306 - accuracy: 0.3214 - val_loss: 0.1943 - val_accuracy: 0.2288\n",
            "Epoch 14/100\n",
            "77/77 [==============================] - 173s 2s/step - loss: 0.1263 - accuracy: 0.3296 - val_loss: 0.2039 - val_accuracy: 0.2488\n",
            "Epoch 15/100\n",
            "77/77 [==============================] - 275s 4s/step - loss: 0.1256 - accuracy: 0.3329 - val_loss: 0.2007 - val_accuracy: 0.2062\n",
            "Epoch 16/100\n",
            "77/77 [==============================] - 203s 3s/step - loss: 0.1255 - accuracy: 0.3219 - val_loss: 0.1945 - val_accuracy: 0.2500\n",
            "Epoch 17/100\n",
            "77/77 [==============================] - 200s 3s/step - loss: 0.1225 - accuracy: 0.3403 - val_loss: 0.1933 - val_accuracy: 0.2475\n",
            "Epoch 18/100\n",
            "77/77 [==============================] - 189s 2s/step - loss: 0.1194 - accuracy: 0.3473 - val_loss: 0.1935 - val_accuracy: 0.2338\n",
            "Epoch 19/100\n",
            "77/77 [==============================] - 179s 2s/step - loss: 0.1154 - accuracy: 0.3452 - val_loss: 0.1967 - val_accuracy: 0.2450\n",
            "Epoch 20/100\n",
            "77/77 [==============================] - 165s 2s/step - loss: 0.1164 - accuracy: 0.3432 - val_loss: 0.1983 - val_accuracy: 0.2338\n",
            "Epoch 21/100\n",
            "77/77 [==============================] - 203s 3s/step - loss: 0.1144 - accuracy: 0.3481 - val_loss: 0.1908 - val_accuracy: 0.2463\n",
            "Epoch 22/100\n",
            "77/77 [==============================] - 222s 3s/step - loss: 0.1151 - accuracy: 0.3534 - val_loss: 0.1928 - val_accuracy: 0.2438\n",
            "Epoch 23/100\n",
            "77/77 [==============================] - 246s 3s/step - loss: 0.1114 - accuracy: 0.3501 - val_loss: 0.2006 - val_accuracy: 0.2375\n",
            "Epoch 24/100\n",
            "77/77 [==============================] - 194s 3s/step - loss: 0.1140 - accuracy: 0.3530 - val_loss: 0.2020 - val_accuracy: 0.2375\n",
            "Epoch 25/100\n",
            "77/77 [==============================] - 206s 3s/step - loss: 0.1141 - accuracy: 0.3514 - val_loss: 0.1969 - val_accuracy: 0.2387\n",
            "Epoch 26/100\n",
            "77/77 [==============================] - 151s 2s/step - loss: 0.1123 - accuracy: 0.3452 - val_loss: 0.2027 - val_accuracy: 0.2587\n",
            "Epoch 27/100\n",
            "77/77 [==============================] - 173s 2s/step - loss: 0.1093 - accuracy: 0.3637 - val_loss: 0.2044 - val_accuracy: 0.2475\n",
            "Epoch 28/100\n",
            "77/77 [==============================] - 189s 2s/step - loss: 0.1075 - accuracy: 0.3620 - val_loss: 0.1959 - val_accuracy: 0.2300\n",
            "Epoch 29/100\n",
            "77/77 [==============================] - 171s 2s/step - loss: 0.1089 - accuracy: 0.3534 - val_loss: 0.2063 - val_accuracy: 0.2188\n",
            "Restoring model weights from the end of the best epoch.\n",
            "Epoch 00029: early stopping\n"
          ]
        }
      ]
    },
    {
      "cell_type": "code",
      "metadata": {
        "id": "10ab7403",
        "outputId": "b05570d9-cda2-4506-8685-f3bf872617aa"
      },
      "source": [
        "number_of_epochs_it_ran = len(history_transfer_aug.history['loss'])\n",
        "\n",
        "acc = history_transfer_aug.history['accuracy']\n",
        "val_acc = history_transfer_aug.history['val_accuracy']\n",
        "\n",
        "loss = history_transfer_aug.history['loss']\n",
        "val_loss = history_transfer_aug.history['val_loss']\n",
        "\n",
        "epochs_range = range(number_of_epochs_it_ran)\n",
        "\n",
        "plt.figure(figsize=(8, 8))\n",
        "plt.subplot(1, 2, 1)\n",
        "plt.plot(epochs_range, acc, label='Training Accuracy')\n",
        "plt.plot(epochs_range, val_acc, label='Validation Accuracy')\n",
        "plt.legend(loc='lower right')\n",
        "plt.title('Training and Validation Accuracy')\n",
        "\n",
        "plt.subplot(1, 2, 2)\n",
        "plt.plot(epochs_range, loss, label='Training Loss')\n",
        "plt.plot(epochs_range, val_loss, label='Validation Loss')\n",
        "plt.legend(loc='upper right')\n",
        "plt.title('Training and Validation Loss')\n",
        "plt.show()"
      ],
      "id": "10ab7403",
      "execution_count": null,
      "outputs": [
        {
          "data": {
            "image/png": "[encoded data removed]",
            "text/plain": [
              "<Figure size 576x576 with 2 Axes>"
            ]
          },
          "metadata": {
            "needs_background": "light"
          },
          "output_type": "display_data"
        }
      ]
    },
    {
      "cell_type": "markdown",
      "metadata": {
        "id": "88ee709d"
      },
      "source": [
        "### 7. Transfer Learning + Data Augmentation + Less Complex with more Dropouts + Regularization"
      ],
      "id": "88ee709d"
    },
    {
      "cell_type": "markdown",
      "metadata": {
        "id": "1aa7c932"
      },
      "source": [
        "Make it less complex and try more dropouts. "
      ],
      "id": "1aa7c932"
    },
    {
      "cell_type": "code",
      "metadata": {
        "id": "cd5fd49c",
        "outputId": "3316f176-4de6-47ba-fe16-32aa703dd83c"
      },
      "source": [
        "datagen = ImageDataGenerator(\n",
        "        rotation_range=40,\n",
        "        width_shift_range=0.2,\n",
        "        height_shift_range=0.2,\n",
        "        rescale=1./255,\n",
        "        shear_range=0.2,\n",
        "        zoom_range=0.2,\n",
        "        horizontal_flip=True,\n",
        "        fill_mode='nearest')\n",
        "\n",
        "train_generator=datagen.flow_from_dataframe(\n",
        "                                        dataframe = df[:val_set_start],\n",
        "                                        x_col = \"path\",\n",
        "                                        y_col = \"emotion\",\n",
        "                                        batch_size = 32,\n",
        "                                        interpolation = 'bilinear',\n",
        "                                        seed = 42,\n",
        "                                        shuffle = True,\n",
        "                                        class_mode = \"categorical\",\n",
        "                                        target_size = (img_height, img_width))\n",
        "\n",
        "valid_generator=test_datagen.flow_from_dataframe(\n",
        "                                            dataframe = df[(val_set_start):(test_set_start)],\n",
        "                                            x_col = \"path\",\n",
        "                                            y_col = \"emotion\",\n",
        "                                            batch_size = 32,\n",
        "                                            interpolation = 'bilinear',\n",
        "                                            seed = 42,\n",
        "                                            shuffle = True,\n",
        "                                            class_mode = \"categorical\",\n",
        "                                            target_size = (img_height, img_width))\n",
        "\n",
        "test_generator=test_datagen.flow_from_dataframe(\n",
        "                                            dataframe = df[test_set_start:],\n",
        "                                            x_col = \"path\",\n",
        "                                            y_col = \"emotion\",\n",
        "                                            batch_size = 32,\n",
        "                                            interpolation = 'bilinear',\n",
        "                                            seed = 42,\n",
        "                                            shuffle = True,\n",
        "                                            class_mode = \"categorical\",\n",
        "                                            target_size = (img_height, img_width))"
      ],
      "id": "cd5fd49c",
      "execution_count": null,
      "outputs": [
        {
          "name": "stdout",
          "output_type": "stream",
          "text": [
            "Found 2471 validated image filenames.\n",
            "Found 824 validated image filenames.\n",
            "Found 810 validated image filenames.\n"
          ]
        }
      ]
    },
    {
      "cell_type": "code",
      "metadata": {
        "id": "c902bd91",
        "outputId": "cfe4627e-738a-4a69-d0b7-39d371bea7d4"
      },
      "source": [
        "base_model = mobilenet_v2.MobileNetV2\\\n",
        "                (weights='imagenet', include_top=False, input_shape=(224, 224,3)) \n",
        "\n",
        "for layer in base_model.layers:\n",
        "    layer.trainable = False   \n"
      ],
      "id": "c902bd91",
      "execution_count": null,
      "outputs": [
        {
          "name": "stdout",
          "output_type": "stream",
          "text": [
            "WARNING:tensorflow:`input_shape` is undefined or non-square, or `rows` is not in [96, 128, 160, 192, 224]. Weights for input shape (224, 224) will be loaded as the default.\n"
          ]
        }
      ]
    },
    {
      "cell_type": "code",
      "metadata": {
        "collapsed": true,
        "id": "4ab0684a",
        "outputId": "82fb9060-a48c-41ef-c93f-bc61c6165c99"
      },
      "source": [
        "L2 = 50\n",
        "DROP = 0.3\n",
        "\n",
        "x = base_model.output\n",
        "x = Flatten()(x) \n",
        "x = Dense(50, activation='relu', kernel_regularizer=keras.regularizers.l2(L2))(x) \n",
        "x = Dropout(DROP)(x)\n",
        "x = Dense(50, activation='relu', kernel_regularizer=keras.regularizers.l2(L2))(x)\n",
        "x = Dropout(DROP)(x)\n",
        "predictions = Dense(num_classes, activation='softmax')(x) \n",
        "\n",
        "\n",
        "model = Model(inputs=base_model.input, outputs=predictions)\n",
        "model.compile(optimizer='adam', loss='categorical_crossentropy', metrics=['accuracy'])\n",
        "model.summary()\n",
        "\n",
        "#NOT TRYING THIS OUT NOW BUT NEXT STEP WILL BE SETTING LR EVEN SMALLER\n",
        "#model.compile(keras.optimizers.Adam(lr=0.0001), loss='binary_crossentropy', metrics=['accuracy'])\n"
      ],
      "id": "4ab0684a",
      "execution_count": null,
      "outputs": [
        {
          "name": "stdout",
          "output_type": "stream",
          "text": [
            "Model: \"model_2\"\n",
            "__________________________________________________________________________________________________\n",
            "Layer (type)                    Output Shape         Param #     Connected to                     \n",
            "==================================================================================================\n",
            "input_5 (InputLayer)            [(None, 180, 180, 3) 0                                            \n",
            "__________________________________________________________________________________________________\n",
            "Conv1 (Conv2D)                  (None, 90, 90, 32)   864         input_5[0][0]                    \n",
            "__________________________________________________________________________________________________\n",
            "bn_Conv1 (BatchNormalization)   (None, 90, 90, 32)   128         Conv1[0][0]                      \n",
            "__________________________________________________________________________________________________\n",
            "Conv1_relu (ReLU)               (None, 90, 90, 32)   0           bn_Conv1[0][0]                   \n",
            "__________________________________________________________________________________________________\n",
            "expanded_conv_depthwise (Depthw (None, 90, 90, 32)   288         Conv1_relu[0][0]                 \n",
            "__________________________________________________________________________________________________\n",
            "expanded_conv_depthwise_BN (Bat (None, 90, 90, 32)   128         expanded_conv_depthwise[0][0]    \n",
            "__________________________________________________________________________________________________\n",
            "expanded_conv_depthwise_relu (R (None, 90, 90, 32)   0           expanded_conv_depthwise_BN[0][0] \n",
            "__________________________________________________________________________________________________\n",
            "expanded_conv_project (Conv2D)  (None, 90, 90, 16)   512         expanded_conv_depthwise_relu[0][0\n",
            "__________________________________________________________________________________________________\n",
            "expanded_conv_project_BN (Batch (None, 90, 90, 16)   64          expanded_conv_project[0][0]      \n",
            "__________________________________________________________________________________________________\n",
            "block_1_expand (Conv2D)         (None, 90, 90, 96)   1536        expanded_conv_project_BN[0][0]   \n",
            "__________________________________________________________________________________________________\n",
            "block_1_expand_BN (BatchNormali (None, 90, 90, 96)   384         block_1_expand[0][0]             \n",
            "__________________________________________________________________________________________________\n",
            "block_1_expand_relu (ReLU)      (None, 90, 90, 96)   0           block_1_expand_BN[0][0]          \n",
            "__________________________________________________________________________________________________\n",
            "block_1_pad (ZeroPadding2D)     (None, 91, 91, 96)   0           block_1_expand_relu[0][0]        \n",
            "__________________________________________________________________________________________________\n",
            "block_1_depthwise (DepthwiseCon (None, 45, 45, 96)   864         block_1_pad[0][0]                \n",
            "__________________________________________________________________________________________________\n",
            "block_1_depthwise_BN (BatchNorm (None, 45, 45, 96)   384         block_1_depthwise[0][0]          \n",
            "__________________________________________________________________________________________________\n",
            "block_1_depthwise_relu (ReLU)   (None, 45, 45, 96)   0           block_1_depthwise_BN[0][0]       \n",
            "__________________________________________________________________________________________________\n",
            "block_1_project (Conv2D)        (None, 45, 45, 24)   2304        block_1_depthwise_relu[0][0]     \n",
            "__________________________________________________________________________________________________\n",
            "block_1_project_BN (BatchNormal (None, 45, 45, 24)   96          block_1_project[0][0]            \n",
            "__________________________________________________________________________________________________\n",
            "block_2_expand (Conv2D)         (None, 45, 45, 144)  3456        block_1_project_BN[0][0]         \n",
            "__________________________________________________________________________________________________\n",
            "block_2_expand_BN (BatchNormali (None, 45, 45, 144)  576         block_2_expand[0][0]             \n",
            "__________________________________________________________________________________________________\n",
            "block_2_expand_relu (ReLU)      (None, 45, 45, 144)  0           block_2_expand_BN[0][0]          \n",
            "__________________________________________________________________________________________________\n",
            "block_2_depthwise (DepthwiseCon (None, 45, 45, 144)  1296        block_2_expand_relu[0][0]        \n",
            "__________________________________________________________________________________________________\n",
            "block_2_depthwise_BN (BatchNorm (None, 45, 45, 144)  576         block_2_depthwise[0][0]          \n",
            "__________________________________________________________________________________________________\n",
            "block_2_depthwise_relu (ReLU)   (None, 45, 45, 144)  0           block_2_depthwise_BN[0][0]       \n",
            "__________________________________________________________________________________________________\n",
            "block_2_project (Conv2D)        (None, 45, 45, 24)   3456        block_2_depthwise_relu[0][0]     \n",
            "__________________________________________________________________________________________________\n",
            "block_2_project_BN (BatchNormal (None, 45, 45, 24)   96          block_2_project[0][0]            \n",
            "__________________________________________________________________________________________________\n",
            "block_2_add (Add)               (None, 45, 45, 24)   0           block_1_project_BN[0][0]         \n",
            "                                                                 block_2_project_BN[0][0]         \n",
            "__________________________________________________________________________________________________\n",
            "block_3_expand (Conv2D)         (None, 45, 45, 144)  3456        block_2_add[0][0]                \n",
            "__________________________________________________________________________________________________\n",
            "block_3_expand_BN (BatchNormali (None, 45, 45, 144)  576         block_3_expand[0][0]             \n",
            "__________________________________________________________________________________________________\n",
            "block_3_expand_relu (ReLU)      (None, 45, 45, 144)  0           block_3_expand_BN[0][0]          \n",
            "__________________________________________________________________________________________________\n",
            "block_3_pad (ZeroPadding2D)     (None, 47, 47, 144)  0           block_3_expand_relu[0][0]        \n",
            "__________________________________________________________________________________________________\n",
            "block_3_depthwise (DepthwiseCon (None, 23, 23, 144)  1296        block_3_pad[0][0]                \n",
            "__________________________________________________________________________________________________\n",
            "block_3_depthwise_BN (BatchNorm (None, 23, 23, 144)  576         block_3_depthwise[0][0]          \n",
            "__________________________________________________________________________________________________\n",
            "block_3_depthwise_relu (ReLU)   (None, 23, 23, 144)  0           block_3_depthwise_BN[0][0]       \n",
            "__________________________________________________________________________________________________\n",
            "block_3_project (Conv2D)        (None, 23, 23, 32)   4608        block_3_depthwise_relu[0][0]     \n",
            "__________________________________________________________________________________________________\n",
            "block_3_project_BN (BatchNormal (None, 23, 23, 32)   128         block_3_project[0][0]            \n",
            "__________________________________________________________________________________________________\n",
            "block_4_expand (Conv2D)         (None, 23, 23, 192)  6144        block_3_project_BN[0][0]         \n",
            "__________________________________________________________________________________________________\n",
            "block_4_expand_BN (BatchNormali (None, 23, 23, 192)  768         block_4_expand[0][0]             \n",
            "__________________________________________________________________________________________________\n",
            "block_4_expand_relu (ReLU)      (None, 23, 23, 192)  0           block_4_expand_BN[0][0]          \n",
            "__________________________________________________________________________________________________\n",
            "block_4_depthwise (DepthwiseCon (None, 23, 23, 192)  1728        block_4_expand_relu[0][0]        \n",
            "__________________________________________________________________________________________________\n",
            "block_4_depthwise_BN (BatchNorm (None, 23, 23, 192)  768         block_4_depthwise[0][0]          \n",
            "__________________________________________________________________________________________________\n",
            "block_4_depthwise_relu (ReLU)   (None, 23, 23, 192)  0           block_4_depthwise_BN[0][0]       \n",
            "__________________________________________________________________________________________________\n",
            "block_4_project (Conv2D)        (None, 23, 23, 32)   6144        block_4_depthwise_relu[0][0]     \n",
            "__________________________________________________________________________________________________\n",
            "block_4_project_BN (BatchNormal (None, 23, 23, 32)   128         block_4_project[0][0]            \n",
            "__________________________________________________________________________________________________\n",
            "block_4_add (Add)               (None, 23, 23, 32)   0           block_3_project_BN[0][0]         \n",
            "                                                                 block_4_project_BN[0][0]         \n",
            "__________________________________________________________________________________________________\n",
            "block_5_expand (Conv2D)         (None, 23, 23, 192)  6144        block_4_add[0][0]                \n",
            "__________________________________________________________________________________________________\n",
            "block_5_expand_BN (BatchNormali (None, 23, 23, 192)  768         block_5_expand[0][0]             \n",
            "__________________________________________________________________________________________________\n",
            "block_5_expand_relu (ReLU)      (None, 23, 23, 192)  0           block_5_expand_BN[0][0]          \n",
            "__________________________________________________________________________________________________\n",
            "block_5_depthwise (DepthwiseCon (None, 23, 23, 192)  1728        block_5_expand_relu[0][0]        \n",
            "__________________________________________________________________________________________________\n",
            "block_5_depthwise_BN (BatchNorm (None, 23, 23, 192)  768         block_5_depthwise[0][0]          \n",
            "__________________________________________________________________________________________________\n",
            "block_5_depthwise_relu (ReLU)   (None, 23, 23, 192)  0           block_5_depthwise_BN[0][0]       \n",
            "__________________________________________________________________________________________________\n",
            "block_5_project (Conv2D)        (None, 23, 23, 32)   6144        block_5_depthwise_relu[0][0]     \n",
            "__________________________________________________________________________________________________\n",
            "block_5_project_BN (BatchNormal (None, 23, 23, 32)   128         block_5_project[0][0]            \n",
            "__________________________________________________________________________________________________\n",
            "block_5_add (Add)               (None, 23, 23, 32)   0           block_4_add[0][0]                \n",
            "                                                                 block_5_project_BN[0][0]         \n",
            "__________________________________________________________________________________________________\n",
            "block_6_expand (Conv2D)         (None, 23, 23, 192)  6144        block_5_add[0][0]                \n",
            "__________________________________________________________________________________________________\n",
            "block_6_expand_BN (BatchNormali (None, 23, 23, 192)  768         block_6_expand[0][0]             \n",
            "__________________________________________________________________________________________________\n",
            "block_6_expand_relu (ReLU)      (None, 23, 23, 192)  0           block_6_expand_BN[0][0]          \n",
            "__________________________________________________________________________________________________\n",
            "block_6_pad (ZeroPadding2D)     (None, 25, 25, 192)  0           block_6_expand_relu[0][0]        \n",
            "__________________________________________________________________________________________________\n",
            "block_6_depthwise (DepthwiseCon (None, 12, 12, 192)  1728        block_6_pad[0][0]                \n",
            "__________________________________________________________________________________________________\n",
            "block_6_depthwise_BN (BatchNorm (None, 12, 12, 192)  768         block_6_depthwise[0][0]          \n",
            "__________________________________________________________________________________________________\n",
            "block_6_depthwise_relu (ReLU)   (None, 12, 12, 192)  0           block_6_depthwise_BN[0][0]       \n",
            "__________________________________________________________________________________________________\n",
            "block_6_project (Conv2D)        (None, 12, 12, 64)   12288       block_6_depthwise_relu[0][0]     \n",
            "__________________________________________________________________________________________________\n",
            "block_6_project_BN (BatchNormal (None, 12, 12, 64)   256         block_6_project[0][0]            \n",
            "__________________________________________________________________________________________________\n",
            "block_7_expand (Conv2D)         (None, 12, 12, 384)  24576       block_6_project_BN[0][0]         \n",
            "__________________________________________________________________________________________________\n",
            "block_7_expand_BN (BatchNormali (None, 12, 12, 384)  1536        block_7_expand[0][0]             \n",
            "__________________________________________________________________________________________________\n",
            "block_7_expand_relu (ReLU)      (None, 12, 12, 384)  0           block_7_expand_BN[0][0]          \n",
            "__________________________________________________________________________________________________\n",
            "block_7_depthwise (DepthwiseCon (None, 12, 12, 384)  3456        block_7_expand_relu[0][0]        \n",
            "__________________________________________________________________________________________________\n",
            "block_7_depthwise_BN (BatchNorm (None, 12, 12, 384)  1536        block_7_depthwise[0][0]          \n",
            "__________________________________________________________________________________________________\n",
            "block_7_depthwise_relu (ReLU)   (None, 12, 12, 384)  0           block_7_depthwise_BN[0][0]       \n",
            "__________________________________________________________________________________________________\n",
            "block_7_project (Conv2D)        (None, 12, 12, 64)   24576       block_7_depthwise_relu[0][0]     \n",
            "__________________________________________________________________________________________________\n",
            "block_7_project_BN (BatchNormal (None, 12, 12, 64)   256         block_7_project[0][0]            \n",
            "__________________________________________________________________________________________________\n",
            "block_7_add (Add)               (None, 12, 12, 64)   0           block_6_project_BN[0][0]         \n",
            "                                                                 block_7_project_BN[0][0]         \n",
            "__________________________________________________________________________________________________\n",
            "block_8_expand (Conv2D)         (None, 12, 12, 384)  24576       block_7_add[0][0]                \n",
            "__________________________________________________________________________________________________\n",
            "block_8_expand_BN (BatchNormali (None, 12, 12, 384)  1536        block_8_expand[0][0]             \n",
            "__________________________________________________________________________________________________\n",
            "block_8_expand_relu (ReLU)      (None, 12, 12, 384)  0           block_8_expand_BN[0][0]          \n",
            "__________________________________________________________________________________________________\n",
            "block_8_depthwise (DepthwiseCon (None, 12, 12, 384)  3456        block_8_expand_relu[0][0]        \n",
            "__________________________________________________________________________________________________\n",
            "block_8_depthwise_BN (BatchNorm (None, 12, 12, 384)  1536        block_8_depthwise[0][0]          \n",
            "__________________________________________________________________________________________________\n",
            "block_8_depthwise_relu (ReLU)   (None, 12, 12, 384)  0           block_8_depthwise_BN[0][0]       \n",
            "__________________________________________________________________________________________________\n",
            "block_8_project (Conv2D)        (None, 12, 12, 64)   24576       block_8_depthwise_relu[0][0]     \n",
            "__________________________________________________________________________________________________\n",
            "block_8_project_BN (BatchNormal (None, 12, 12, 64)   256         block_8_project[0][0]            \n",
            "__________________________________________________________________________________________________\n",
            "block_8_add (Add)               (None, 12, 12, 64)   0           block_7_add[0][0]                \n",
            "                                                                 block_8_project_BN[0][0]         \n",
            "__________________________________________________________________________________________________\n",
            "block_9_expand (Conv2D)         (None, 12, 12, 384)  24576       block_8_add[0][0]                \n",
            "__________________________________________________________________________________________________\n",
            "block_9_expand_BN (BatchNormali (None, 12, 12, 384)  1536        block_9_expand[0][0]             \n",
            "__________________________________________________________________________________________________\n",
            "block_9_expand_relu (ReLU)      (None, 12, 12, 384)  0           block_9_expand_BN[0][0]          \n",
            "__________________________________________________________________________________________________\n",
            "block_9_depthwise (DepthwiseCon (None, 12, 12, 384)  3456        block_9_expand_relu[0][0]        \n",
            "__________________________________________________________________________________________________\n",
            "block_9_depthwise_BN (BatchNorm (None, 12, 12, 384)  1536        block_9_depthwise[0][0]          \n",
            "__________________________________________________________________________________________________\n",
            "block_9_depthwise_relu (ReLU)   (None, 12, 12, 384)  0           block_9_depthwise_BN[0][0]       \n",
            "__________________________________________________________________________________________________\n",
            "block_9_project (Conv2D)        (None, 12, 12, 64)   24576       block_9_depthwise_relu[0][0]     \n",
            "__________________________________________________________________________________________________\n",
            "block_9_project_BN (BatchNormal (None, 12, 12, 64)   256         block_9_project[0][0]            \n",
            "__________________________________________________________________________________________________\n",
            "block_9_add (Add)               (None, 12, 12, 64)   0           block_8_add[0][0]                \n",
            "                                                                 block_9_project_BN[0][0]         \n",
            "__________________________________________________________________________________________________\n",
            "block_10_expand (Conv2D)        (None, 12, 12, 384)  24576       block_9_add[0][0]                \n",
            "__________________________________________________________________________________________________\n",
            "block_10_expand_BN (BatchNormal (None, 12, 12, 384)  1536        block_10_expand[0][0]            \n",
            "__________________________________________________________________________________________________\n",
            "block_10_expand_relu (ReLU)     (None, 12, 12, 384)  0           block_10_expand_BN[0][0]         \n",
            "__________________________________________________________________________________________________\n",
            "block_10_depthwise (DepthwiseCo (None, 12, 12, 384)  3456        block_10_expand_relu[0][0]       \n",
            "__________________________________________________________________________________________________\n",
            "block_10_depthwise_BN (BatchNor (None, 12, 12, 384)  1536        block_10_depthwise[0][0]         \n",
            "__________________________________________________________________________________________________\n",
            "block_10_depthwise_relu (ReLU)  (None, 12, 12, 384)  0           block_10_depthwise_BN[0][0]      \n",
            "__________________________________________________________________________________________________\n",
            "block_10_project (Conv2D)       (None, 12, 12, 96)   36864       block_10_depthwise_relu[0][0]    \n",
            "__________________________________________________________________________________________________\n",
            "block_10_project_BN (BatchNorma (None, 12, 12, 96)   384         block_10_project[0][0]           \n",
            "__________________________________________________________________________________________________\n",
            "block_11_expand (Conv2D)        (None, 12, 12, 576)  55296       block_10_project_BN[0][0]        \n",
            "__________________________________________________________________________________________________\n",
            "block_11_expand_BN (BatchNormal (None, 12, 12, 576)  2304        block_11_expand[0][0]            \n",
            "__________________________________________________________________________________________________\n",
            "block_11_expand_relu (ReLU)     (None, 12, 12, 576)  0           block_11_expand_BN[0][0]         \n",
            "__________________________________________________________________________________________________\n",
            "block_11_depthwise (DepthwiseCo (None, 12, 12, 576)  5184        block_11_expand_relu[0][0]       \n",
            "__________________________________________________________________________________________________\n",
            "block_11_depthwise_BN (BatchNor (None, 12, 12, 576)  2304        block_11_depthwise[0][0]         \n",
            "__________________________________________________________________________________________________\n",
            "block_11_depthwise_relu (ReLU)  (None, 12, 12, 576)  0           block_11_depthwise_BN[0][0]      \n",
            "__________________________________________________________________________________________________\n",
            "block_11_project (Conv2D)       (None, 12, 12, 96)   55296       block_11_depthwise_relu[0][0]    \n",
            "__________________________________________________________________________________________________\n",
            "block_11_project_BN (BatchNorma (None, 12, 12, 96)   384         block_11_project[0][0]           \n",
            "__________________________________________________________________________________________________\n",
            "block_11_add (Add)              (None, 12, 12, 96)   0           block_10_project_BN[0][0]        \n",
            "                                                                 block_11_project_BN[0][0]        \n",
            "__________________________________________________________________________________________________\n",
            "block_12_expand (Conv2D)        (None, 12, 12, 576)  55296       block_11_add[0][0]               \n",
            "__________________________________________________________________________________________________\n",
            "block_12_expand_BN (BatchNormal (None, 12, 12, 576)  2304        block_12_expand[0][0]            \n",
            "__________________________________________________________________________________________________\n",
            "block_12_expand_relu (ReLU)     (None, 12, 12, 576)  0           block_12_expand_BN[0][0]         \n",
            "__________________________________________________________________________________________________\n",
            "block_12_depthwise (DepthwiseCo (None, 12, 12, 576)  5184        block_12_expand_relu[0][0]       \n",
            "__________________________________________________________________________________________________\n",
            "block_12_depthwise_BN (BatchNor (None, 12, 12, 576)  2304        block_12_depthwise[0][0]         \n",
            "__________________________________________________________________________________________________\n",
            "block_12_depthwise_relu (ReLU)  (None, 12, 12, 576)  0           block_12_depthwise_BN[0][0]      \n",
            "__________________________________________________________________________________________________\n",
            "block_12_project (Conv2D)       (None, 12, 12, 96)   55296       block_12_depthwise_relu[0][0]    \n",
            "__________________________________________________________________________________________________\n",
            "block_12_project_BN (BatchNorma (None, 12, 12, 96)   384         block_12_project[0][0]           \n",
            "__________________________________________________________________________________________________\n",
            "block_12_add (Add)              (None, 12, 12, 96)   0           block_11_add[0][0]               \n",
            "                                                                 block_12_project_BN[0][0]        \n",
            "__________________________________________________________________________________________________\n",
            "block_13_expand (Conv2D)        (None, 12, 12, 576)  55296       block_12_add[0][0]               \n",
            "__________________________________________________________________________________________________\n",
            "block_13_expand_BN (BatchNormal (None, 12, 12, 576)  2304        block_13_expand[0][0]            \n",
            "__________________________________________________________________________________________________\n",
            "block_13_expand_relu (ReLU)     (None, 12, 12, 576)  0           block_13_expand_BN[0][0]         \n",
            "__________________________________________________________________________________________________\n",
            "block_13_pad (ZeroPadding2D)    (None, 13, 13, 576)  0           block_13_expand_relu[0][0]       \n",
            "__________________________________________________________________________________________________\n",
            "block_13_depthwise (DepthwiseCo (None, 6, 6, 576)    5184        block_13_pad[0][0]               \n",
            "__________________________________________________________________________________________________\n",
            "block_13_depthwise_BN (BatchNor (None, 6, 6, 576)    2304        block_13_depthwise[0][0]         \n",
            "__________________________________________________________________________________________________\n",
            "block_13_depthwise_relu (ReLU)  (None, 6, 6, 576)    0           block_13_depthwise_BN[0][0]      \n",
            "__________________________________________________________________________________________________\n",
            "block_13_project (Conv2D)       (None, 6, 6, 160)    92160       block_13_depthwise_relu[0][0]    \n",
            "__________________________________________________________________________________________________\n",
            "block_13_project_BN (BatchNorma (None, 6, 6, 160)    640         block_13_project[0][0]           \n",
            "__________________________________________________________________________________________________\n",
            "block_14_expand (Conv2D)        (None, 6, 6, 960)    153600      block_13_project_BN[0][0]        \n",
            "__________________________________________________________________________________________________\n",
            "block_14_expand_BN (BatchNormal (None, 6, 6, 960)    3840        block_14_expand[0][0]            \n",
            "__________________________________________________________________________________________________\n",
            "block_14_expand_relu (ReLU)     (None, 6, 6, 960)    0           block_14_expand_BN[0][0]         \n",
            "__________________________________________________________________________________________________\n",
            "block_14_depthwise (DepthwiseCo (None, 6, 6, 960)    8640        block_14_expand_relu[0][0]       \n",
            "__________________________________________________________________________________________________\n",
            "block_14_depthwise_BN (BatchNor (None, 6, 6, 960)    3840        block_14_depthwise[0][0]         \n",
            "__________________________________________________________________________________________________\n",
            "block_14_depthwise_relu (ReLU)  (None, 6, 6, 960)    0           block_14_depthwise_BN[0][0]      \n",
            "__________________________________________________________________________________________________\n",
            "block_14_project (Conv2D)       (None, 6, 6, 160)    153600      block_14_depthwise_relu[0][0]    \n",
            "__________________________________________________________________________________________________\n",
            "block_14_project_BN (BatchNorma (None, 6, 6, 160)    640         block_14_project[0][0]           \n",
            "__________________________________________________________________________________________________\n",
            "block_14_add (Add)              (None, 6, 6, 160)    0           block_13_project_BN[0][0]        \n",
            "                                                                 block_14_project_BN[0][0]        \n",
            "__________________________________________________________________________________________________\n",
            "block_15_expand (Conv2D)        (None, 6, 6, 960)    153600      block_14_add[0][0]               \n",
            "__________________________________________________________________________________________________\n",
            "block_15_expand_BN (BatchNormal (None, 6, 6, 960)    3840        block_15_expand[0][0]            \n",
            "__________________________________________________________________________________________________\n",
            "block_15_expand_relu (ReLU)     (None, 6, 6, 960)    0           block_15_expand_BN[0][0]         \n",
            "__________________________________________________________________________________________________\n",
            "block_15_depthwise (DepthwiseCo (None, 6, 6, 960)    8640        block_15_expand_relu[0][0]       \n",
            "__________________________________________________________________________________________________\n",
            "block_15_depthwise_BN (BatchNor (None, 6, 6, 960)    3840        block_15_depthwise[0][0]         \n",
            "__________________________________________________________________________________________________\n",
            "block_15_depthwise_relu (ReLU)  (None, 6, 6, 960)    0           block_15_depthwise_BN[0][0]      \n",
            "__________________________________________________________________________________________________\n",
            "block_15_project (Conv2D)       (None, 6, 6, 160)    153600      block_15_depthwise_relu[0][0]    \n",
            "__________________________________________________________________________________________________\n",
            "block_15_project_BN (BatchNorma (None, 6, 6, 160)    640         block_15_project[0][0]           \n",
            "__________________________________________________________________________________________________\n",
            "block_15_add (Add)              (None, 6, 6, 160)    0           block_14_add[0][0]               \n",
            "                                                                 block_15_project_BN[0][0]        \n",
            "__________________________________________________________________________________________________\n",
            "block_16_expand (Conv2D)        (None, 6, 6, 960)    153600      block_15_add[0][0]               \n",
            "__________________________________________________________________________________________________\n",
            "block_16_expand_BN (BatchNormal (None, 6, 6, 960)    3840        block_16_expand[0][0]            \n",
            "__________________________________________________________________________________________________\n",
            "block_16_expand_relu (ReLU)     (None, 6, 6, 960)    0           block_16_expand_BN[0][0]         \n",
            "__________________________________________________________________________________________________\n",
            "block_16_depthwise (DepthwiseCo (None, 6, 6, 960)    8640        block_16_expand_relu[0][0]       \n",
            "__________________________________________________________________________________________________\n",
            "block_16_depthwise_BN (BatchNor (None, 6, 6, 960)    3840        block_16_depthwise[0][0]         \n",
            "__________________________________________________________________________________________________\n",
            "block_16_depthwise_relu (ReLU)  (None, 6, 6, 960)    0           block_16_depthwise_BN[0][0]      \n",
            "__________________________________________________________________________________________________\n",
            "block_16_project (Conv2D)       (None, 6, 6, 320)    307200      block_16_depthwise_relu[0][0]    \n",
            "__________________________________________________________________________________________________\n",
            "block_16_project_BN (BatchNorma (None, 6, 6, 320)    1280        block_16_project[0][0]           \n",
            "__________________________________________________________________________________________________\n",
            "Conv_1 (Conv2D)                 (None, 6, 6, 1280)   409600      block_16_project_BN[0][0]        \n",
            "__________________________________________________________________________________________________\n",
            "Conv_1_bn (BatchNormalization)  (None, 6, 6, 1280)   5120        Conv_1[0][0]                     \n",
            "__________________________________________________________________________________________________\n",
            "out_relu (ReLU)                 (None, 6, 6, 1280)   0           Conv_1_bn[0][0]                  \n",
            "__________________________________________________________________________________________________\n",
            "flatten_8 (Flatten)             (None, 46080)        0           out_relu[0][0]                   \n",
            "__________________________________________________________________________________________________\n",
            "dense_18 (Dense)                (None, 50)           2304050     flatten_8[0][0]                  \n",
            "__________________________________________________________________________________________________\n",
            "dropout_12 (Dropout)            (None, 50)           0           dense_18[0][0]                   \n",
            "__________________________________________________________________________________________________\n",
            "dense_19 (Dense)                (None, 50)           2550        dropout_12[0][0]                 \n",
            "__________________________________________________________________________________________________\n",
            "dropout_13 (Dropout)            (None, 50)           0           dense_19[0][0]                   \n",
            "__________________________________________________________________________________________________\n",
            "dense_20 (Dense)                (None, 14)           714         dropout_13[0][0]                 \n",
            "==================================================================================================\n",
            "Total params: 4,565,298\n",
            "Trainable params: 2,307,314\n",
            "Non-trainable params: 2,257,984\n",
            "__________________________________________________________________________________________________\n"
          ]
        }
      ]
    },
    {
      "cell_type": "code",
      "metadata": {
        "collapsed": true,
        "id": "eba37996",
        "outputId": "88175fba-5bcf-4efa-c078-80c60a4a3184"
      },
      "source": [
        "lr = (ReduceLROnPlateau(factor=.5, patience=3, verbose=1))\n",
        "es = (EarlyStopping(verbose=1, patience = 8, restore_best_weights=True))\n",
        "\n",
        "history_transfer_aug_drop = model.fit(train_generator,\n",
        "                    steps_per_epoch=STEP_SIZE_TRAIN,\n",
        "                    validation_data=valid_generator,\n",
        "                    validation_steps=STEP_SIZE_VALID,\n",
        "                    epochs=epochs,\n",
        "                    callbacks = [es, lr]\n",
        ")\n",
        "\n",
        "\n",
        "# TAKING OUT THE FOLLOWING FROM LAST MODEL IN EARLYSTOPPING: \n",
        "# monitor='val_loss', mode='min', "
      ],
      "id": "eba37996",
      "execution_count": null,
      "outputs": [
        {
          "name": "stdout",
          "output_type": "stream",
          "text": [
            "Epoch 1/100\n",
            "77/77 [==============================] - 189s 2s/step - loss: 1842.3829 - accuracy: 0.0631 - val_loss: 904.1088 - val_accuracy: 0.0800\n",
            "Epoch 2/100\n",
            "77/77 [==============================] - 238s 3s/step - loss: 546.9948 - accuracy: 0.0759 - val_loss: 290.3292 - val_accuracy: 0.0712\n",
            "Epoch 3/100\n",
            "77/77 [==============================] - 161s 2s/step - loss: 167.3066 - accuracy: 0.1160 - val_loss: 81.5354 - val_accuracy: 0.2113\n",
            "Epoch 4/100\n",
            "77/77 [==============================] - 161s 2s/step - loss: 44.5606 - accuracy: 0.1492 - val_loss: 19.7640 - val_accuracy: 0.2087\n",
            "Epoch 5/100\n",
            "77/77 [==============================] - 151s 2s/step - loss: 10.2692 - accuracy: 0.1849 - val_loss: 4.1903 - val_accuracy: 0.2075\n",
            "Epoch 6/100\n",
            "77/77 [==============================] - 147s 2s/step - loss: 2.1027 - accuracy: 0.1956 - val_loss: 0.8807 - val_accuracy: 0.2150\n",
            "Epoch 7/100\n",
            "77/77 [==============================] - 147s 2s/step - loss: 0.4938 - accuracy: 0.2071 - val_loss: 0.2888 - val_accuracy: 0.2075\n",
            "Epoch 8/100\n",
            "77/77 [==============================] - 138s 2s/step - loss: 0.2212 - accuracy: 0.2001 - val_loss: 0.1988 - val_accuracy: 0.2113\n",
            "Epoch 9/100\n",
            "77/77 [==============================] - 140s 2s/step - loss: 0.1827 - accuracy: 0.2017 - val_loss: 0.1888 - val_accuracy: 0.2150\n",
            "Epoch 10/100\n",
            "77/77 [==============================] - 144s 2s/step - loss: 0.1770 - accuracy: 0.2087 - val_loss: 0.1878 - val_accuracy: 0.2138\n",
            "Epoch 11/100\n",
            "77/77 [==============================] - 184s 2s/step - loss: 0.1759 - accuracy: 0.2001 - val_loss: 0.1856 - val_accuracy: 0.2062\n",
            "Epoch 12/100\n",
            "77/77 [==============================] - 173s 2s/step - loss: 0.1756 - accuracy: 0.2034 - val_loss: 0.1862 - val_accuracy: 0.2100\n",
            "Epoch 13/100\n",
            "77/77 [==============================] - 184s 2s/step - loss: 0.1748 - accuracy: 0.2025 - val_loss: 0.1853 - val_accuracy: 0.2113\n",
            "Epoch 14/100\n",
            "77/77 [==============================] - 178s 2s/step - loss: 0.1757 - accuracy: 0.2025 - val_loss: 0.1855 - val_accuracy: 0.2087\n",
            "Epoch 15/100\n",
            "77/77 [==============================] - 154s 2s/step - loss: 0.1754 - accuracy: 0.2042 - val_loss: 0.1872 - val_accuracy: 0.2100\n",
            "Epoch 16/100\n",
            "77/77 [==============================] - 175s 2s/step - loss: 0.1763 - accuracy: 0.1984 - val_loss: 0.1862 - val_accuracy: 0.2087\n",
            "\n",
            "Epoch 00016: ReduceLROnPlateau reducing learning rate to 0.0005000000237487257.\n",
            "Epoch 17/100\n",
            "77/77 [==============================] - 183s 2s/step - loss: 0.1754 - accuracy: 0.2042 - val_loss: 0.1850 - val_accuracy: 0.2100\n",
            "Epoch 18/100\n",
            "77/77 [==============================] - 158s 2s/step - loss: 0.1744 - accuracy: 0.2075 - val_loss: 0.1854 - val_accuracy: 0.2100\n",
            "Epoch 19/100\n",
            "77/77 [==============================] - 150s 2s/step - loss: 0.1751 - accuracy: 0.2017 - val_loss: 0.1859 - val_accuracy: 0.2100\n",
            "Epoch 20/100\n",
            "77/77 [==============================] - 164s 2s/step - loss: 0.1735 - accuracy: 0.2058 - val_loss: 0.1862 - val_accuracy: 0.2138\n",
            "\n",
            "Epoch 00020: ReduceLROnPlateau reducing learning rate to 0.0002500000118743628.\n",
            "Epoch 21/100\n",
            "77/77 [==============================] - 200s 3s/step - loss: 0.1749 - accuracy: 0.2050 - val_loss: 0.1861 - val_accuracy: 0.2100\n",
            "Epoch 22/100\n",
            "77/77 [==============================] - 167s 2s/step - loss: 0.1746 - accuracy: 0.2058 - val_loss: 0.1870 - val_accuracy: 0.2138\n",
            "Epoch 23/100\n",
            "77/77 [==============================] - 166s 2s/step - loss: 0.1745 - accuracy: 0.2050 - val_loss: 0.1834 - val_accuracy: 0.2100\n",
            "Epoch 24/100\n",
            "77/77 [==============================] - 162s 2s/step - loss: 0.1740 - accuracy: 0.2062 - val_loss: 0.1855 - val_accuracy: 0.2138\n",
            "Epoch 25/100\n",
            "77/77 [==============================] - 163s 2s/step - loss: 0.1738 - accuracy: 0.2025 - val_loss: 0.1864 - val_accuracy: 0.2113\n",
            "Epoch 26/100\n",
            "77/77 [==============================] - 161s 2s/step - loss: 0.1754 - accuracy: 0.2017 - val_loss: 0.1854 - val_accuracy: 0.2100\n",
            "\n",
            "Epoch 00026: ReduceLROnPlateau reducing learning rate to 0.0001250000059371814.\n",
            "Epoch 27/100\n",
            "77/77 [==============================] - 161s 2s/step - loss: 0.1748 - accuracy: 0.2058 - val_loss: 0.1854 - val_accuracy: 0.2125\n",
            "Epoch 28/100\n",
            "77/77 [==============================] - 165s 2s/step - loss: 0.1732 - accuracy: 0.2099 - val_loss: 0.1874 - val_accuracy: 0.2150\n",
            "Epoch 29/100\n",
            "77/77 [==============================] - 156s 2s/step - loss: 0.1741 - accuracy: 0.2038 - val_loss: 0.1854 - val_accuracy: 0.2075\n",
            "\n",
            "Epoch 00029: ReduceLROnPlateau reducing learning rate to 6.25000029685907e-05.\n",
            "Epoch 30/100\n",
            "77/77 [==============================] - 162s 2s/step - loss: 0.1738 - accuracy: 0.2046 - val_loss: 0.1868 - val_accuracy: 0.2138\n",
            "Epoch 31/100\n",
            "77/77 [==============================] - 148s 2s/step - loss: 0.1745 - accuracy: 0.2038 - val_loss: 0.1870 - val_accuracy: 0.2163\n",
            "Restoring model weights from the end of the best epoch.\n",
            "Epoch 00031: early stopping\n"
          ]
        }
      ]
    },
    {
      "cell_type": "code",
      "metadata": {
        "id": "e1e49718",
        "outputId": "1ef59558-8898-481c-eed0-b717333295a1"
      },
      "source": [
        "number_of_epochs_it_ran = len(history_transfer_aug_drop.history['loss'])\n",
        "\n",
        "acc = history_transfer_aug_drop.history['accuracy']\n",
        "val_acc = history_transfer_aug_drop.history['val_accuracy']\n",
        "\n",
        "loss = history_transfer_aug_drop.history['loss']\n",
        "val_loss = history_transfer_aug_drop.history['val_loss']\n",
        "\n",
        "epochs_range = range(number_of_epochs_it_ran)\n",
        "\n",
        "plt.figure(figsize=(8, 8))\n",
        "plt.subplot(1, 2, 1)\n",
        "plt.plot(epochs_range, acc, label='Training Accuracy')\n",
        "plt.plot(epochs_range, val_acc, label='Validation Accuracy')\n",
        "plt.legend(loc='lower right')\n",
        "plt.title('Training and Validation Accuracy')\n",
        "\n",
        "plt.subplot(1, 2, 2)\n",
        "plt.plot(epochs_range, loss, label='Training Loss')\n",
        "plt.plot(epochs_range, val_loss, label='Validation Loss')\n",
        "plt.legend(loc='upper right')\n",
        "plt.title('Training and Validation Loss')\n",
        "plt.show()"
      ],
      "id": "e1e49718",
      "execution_count": null,
      "outputs": [
        {
          "data": {
            "image/png": "[encoded data removed]",
            "text/plain": [
              "<Figure size 576x576 with 2 Axes>"
            ]
          },
          "metadata": {
            "needs_background": "light"
          },
          "output_type": "display_data"
        }
      ]
    },
    {
      "cell_type": "markdown",
      "metadata": {
        "id": "4da92868"
      },
      "source": [
        "### 8. Transfer Learning + Data Augmentation + Less Complex with more Dropouts + Regularization\n"
      ],
      "id": "4da92868"
    },
    {
      "cell_type": "markdown",
      "metadata": {
        "id": "1eb972c1"
      },
      "source": [
        "Make it less complex and try more dropouts. "
      ],
      "id": "1eb972c1"
    },
    {
      "cell_type": "code",
      "metadata": {
        "colab": {
          "base_uri": "https://localhost:8080/"
        },
        "id": "13c2043e",
        "outputId": "c9632faf-3531-4f37-af37-4d6f0d374324"
      },
      "source": [
        "datagen = ImageDataGenerator(\n",
        "        rotation_range=40,\n",
        "        width_shift_range=0.2,\n",
        "        height_shift_range=0.2,\n",
        "        rescale=1./255,\n",
        "        shear_range=0.2,\n",
        "        zoom_range=0.2,\n",
        "        horizontal_flip=True,\n",
        "        fill_mode='nearest')\n",
        "\n",
        "train_generator=datagen.flow_from_dataframe(\n",
        "                                        dataframe = df[:val_set_start],\n",
        "                                        x_col = \"path\",\n",
        "                                        y_col = \"emotion\",\n",
        "                                        batch_size = 32,\n",
        "                                        interpolation = 'bilinear',\n",
        "                                        seed = 42,\n",
        "                                        shuffle = True,\n",
        "                                        class_mode = \"categorical\",\n",
        "                                        target_size = (img_height, img_width))\n",
        "\n",
        "valid_generator=test_datagen.flow_from_dataframe(\n",
        "                                            dataframe = df[(val_set_start):(test_set_start)],\n",
        "                                            x_col = \"path\",\n",
        "                                            y_col = \"emotion\",\n",
        "                                            batch_size = 32,\n",
        "                                            interpolation = 'bilinear',\n",
        "                                            seed = 42,\n",
        "                                            shuffle = True,\n",
        "                                            class_mode = \"categorical\",\n",
        "                                            target_size = (img_height, img_width))\n",
        "\n",
        "test_generator=test_datagen.flow_from_dataframe(\n",
        "                                            dataframe = df[test_set_start:],\n",
        "                                            x_col = \"path\",\n",
        "                                            y_col = \"emotion\",\n",
        "                                            batch_size = 32,\n",
        "                                            interpolation = 'bilinear',\n",
        "                                            seed = 42,\n",
        "                                            shuffle = True,\n",
        "                                            class_mode = \"categorical\",\n",
        "                                            target_size = (img_height, img_width))"
      ],
      "id": "13c2043e",
      "execution_count": null,
      "outputs": [
        {
          "output_type": "stream",
          "name": "stdout",
          "text": [
            "Found 0 validated image filenames.\n",
            "Found 0 validated image filenames.\n",
            "Found 0 validated image filenames.\n"
          ]
        },
        {
          "output_type": "stream",
          "name": "stderr",
          "text": [
            "/usr/local/lib/python3.7/dist-packages/keras_preprocessing/image/dataframe_iterator.py:282: UserWarning: Found 2471 invalid image filename(s) in x_col=\"path\". These filename(s) will be ignored.\n",
            "  .format(n_invalid, x_col)\n",
            "/usr/local/lib/python3.7/dist-packages/keras_preprocessing/image/dataframe_iterator.py:282: UserWarning: Found 824 invalid image filename(s) in x_col=\"path\". These filename(s) will be ignored.\n",
            "  .format(n_invalid, x_col)\n",
            "/usr/local/lib/python3.7/dist-packages/keras_preprocessing/image/dataframe_iterator.py:282: UserWarning: Found 810 invalid image filename(s) in x_col=\"path\". These filename(s) will be ignored.\n",
            "  .format(n_invalid, x_col)\n"
          ]
        }
      ]
    },
    {
      "cell_type": "code",
      "metadata": {
        "colab": {
          "base_uri": "https://localhost:8080/"
        },
        "id": "548e09a9",
        "outputId": "242cbe57-e418-4568-bb81-c2aa4925bedc"
      },
      "source": [
        "base_model = mobilenet_v2.MobileNetV2\\\n",
        "                (weights='imagenet', include_top=False, input_shape=(224, 224,3)) \n",
        "\n",
        "for layer in base_model.layers:\n",
        "    layer.trainable = False   "
      ],
      "id": "548e09a9",
      "execution_count": null,
      "outputs": [
        {
          "output_type": "stream",
          "name": "stdout",
          "text": [
            "Downloading data from https://storage.googleapis.com/tensorflow/keras-applications/mobilenet_v2/mobilenet_v2_weights_tf_dim_ordering_tf_kernels_1.0_224_no_top.h5\n",
            "9412608/9406464 [==============================] - 0s 0us/step\n",
            "9420800/9406464 [==============================] - 0s 0us/step\n"
          ]
        }
      ]
    },
    {
      "cell_type": "code",
      "metadata": {
        "collapsed": true,
        "colab": {
          "base_uri": "https://localhost:8080/"
        },
        "id": "68feedc0",
        "outputId": "32350564-974b-405d-e214-99fc18b9a048"
      },
      "source": [
        "L2 = 50\n",
        "DROP = 0.3\n",
        "\n",
        "x = base_model.output\n",
        "x = Flatten()(x) \n",
        "x = Dense(50, activation='relu', kernel_regularizer=keras.regularizers.l2(L2))(x) \n",
        "x = Dropout(DROP)(x)\n",
        "x = Dense(200, activation='relu', kernel_regularizer=keras.regularizers.l2(L2))(x)\n",
        "x = Dropout(DROP)(x)\n",
        "x = Dense(300, activation='relu', kernel_regularizer=keras.regularizers.l2(L2))(x)\n",
        "x = Dropout(DROP)(x)\n",
        "x = Dense(50, activation='relu', kernel_regularizer=keras.regularizers.l2(L2))(x)\n",
        "x = Dropout(DROP)(x)\n",
        "x = Dense(50, activation='relu', kernel_regularizer=keras.regularizers.l2(L2))(x) \n",
        "x = Dropout(DROP)(x)\n",
        "predictions = Dense(num_classes, activation='softmax')(x) \n",
        "\n",
        "\n",
        "model = Model(inputs=base_model.input, outputs=predictions)\n",
        "model.compile(optimizer='adam', loss='categorical_crossentropy', metrics=['accuracy'])\n",
        "model.summary()\n"
      ],
      "id": "68feedc0",
      "execution_count": null,
      "outputs": [
        {
          "output_type": "stream",
          "name": "stdout",
          "text": [
            "Model: \"model\"\n",
            "__________________________________________________________________________________________________\n",
            " Layer (type)                   Output Shape         Param #     Connected to                     \n",
            "==================================================================================================\n",
            " input_3 (InputLayer)           [(None, 224, 224, 3  0           []                               \n",
            "                                )]                                                                \n",
            "                                                                                                  \n",
            " Conv1 (Conv2D)                 (None, 112, 112, 32  864         ['input_3[0][0]']                \n",
            "                                )                                                                 \n",
            "                                                                                                  \n",
            " bn_Conv1 (BatchNormalization)  (None, 112, 112, 32  128         ['Conv1[0][0]']                  \n",
            "                                )                                                                 \n",
            "                                                                                                  \n",
            " Conv1_relu (ReLU)              (None, 112, 112, 32  0           ['bn_Conv1[0][0]']               \n",
            "                                )                                                                 \n",
            "                                                                                                  \n",
            " expanded_conv_depthwise (Depth  (None, 112, 112, 32  288        ['Conv1_relu[0][0]']             \n",
            " wiseConv2D)                    )                                                                 \n",
            "                                                                                                  \n",
            " expanded_conv_depthwise_BN (Ba  (None, 112, 112, 32  128        ['expanded_conv_depthwise[0][0]']\n",
            " tchNormalization)              )                                                                 \n",
            "                                                                                                  \n",
            " expanded_conv_depthwise_relu (  (None, 112, 112, 32  0          ['expanded_conv_depthwise_BN[0][0\n",
            " ReLU)                          )                                ]']                              \n",
            "                                                                                                  \n",
            " expanded_conv_project (Conv2D)  (None, 112, 112, 16  512        ['expanded_conv_depthwise_relu[0]\n",
            "                                )                                [0]']                            \n",
            "                                                                                                  \n",
            " expanded_conv_project_BN (Batc  (None, 112, 112, 16  64         ['expanded_conv_project[0][0]']  \n",
            " hNormalization)                )                                                                 \n",
            "                                                                                                  \n",
            " block_1_expand (Conv2D)        (None, 112, 112, 96  1536        ['expanded_conv_project_BN[0][0]'\n",
            "                                )                                ]                                \n",
            "                                                                                                  \n",
            " block_1_expand_BN (BatchNormal  (None, 112, 112, 96  384        ['block_1_expand[0][0]']         \n",
            " ization)                       )                                                                 \n",
            "                                                                                                  \n",
            " block_1_expand_relu (ReLU)     (None, 112, 112, 96  0           ['block_1_expand_BN[0][0]']      \n",
            "                                )                                                                 \n",
            "                                                                                                  \n",
            " block_1_pad (ZeroPadding2D)    (None, 113, 113, 96  0           ['block_1_expand_relu[0][0]']    \n",
            "                                )                                                                 \n",
            "                                                                                                  \n",
            " block_1_depthwise (DepthwiseCo  (None, 56, 56, 96)  864         ['block_1_pad[0][0]']            \n",
            " nv2D)                                                                                            \n",
            "                                                                                                  \n",
            " block_1_depthwise_BN (BatchNor  (None, 56, 56, 96)  384         ['block_1_depthwise[0][0]']      \n",
            " malization)                                                                                      \n",
            "                                                                                                  \n",
            " block_1_depthwise_relu (ReLU)  (None, 56, 56, 96)   0           ['block_1_depthwise_BN[0][0]']   \n",
            "                                                                                                  \n",
            " block_1_project (Conv2D)       (None, 56, 56, 24)   2304        ['block_1_depthwise_relu[0][0]'] \n",
            "                                                                                                  \n",
            " block_1_project_BN (BatchNorma  (None, 56, 56, 24)  96          ['block_1_project[0][0]']        \n",
            " lization)                                                                                        \n",
            "                                                                                                  \n",
            " block_2_expand (Conv2D)        (None, 56, 56, 144)  3456        ['block_1_project_BN[0][0]']     \n",
            "                                                                                                  \n",
            " block_2_expand_BN (BatchNormal  (None, 56, 56, 144)  576        ['block_2_expand[0][0]']         \n",
            " ization)                                                                                         \n",
            "                                                                                                  \n",
            " block_2_expand_relu (ReLU)     (None, 56, 56, 144)  0           ['block_2_expand_BN[0][0]']      \n",
            "                                                                                                  \n",
            " block_2_depthwise (DepthwiseCo  (None, 56, 56, 144)  1296       ['block_2_expand_relu[0][0]']    \n",
            " nv2D)                                                                                            \n",
            "                                                                                                  \n",
            " block_2_depthwise_BN (BatchNor  (None, 56, 56, 144)  576        ['block_2_depthwise[0][0]']      \n",
            " malization)                                                                                      \n",
            "                                                                                                  \n",
            " block_2_depthwise_relu (ReLU)  (None, 56, 56, 144)  0           ['block_2_depthwise_BN[0][0]']   \n",
            "                                                                                                  \n",
            " block_2_project (Conv2D)       (None, 56, 56, 24)   3456        ['block_2_depthwise_relu[0][0]'] \n",
            "                                                                                                  \n",
            " block_2_project_BN (BatchNorma  (None, 56, 56, 24)  96          ['block_2_project[0][0]']        \n",
            " lization)                                                                                        \n",
            "                                                                                                  \n",
            " block_2_add (Add)              (None, 56, 56, 24)   0           ['block_1_project_BN[0][0]',     \n",
            "                                                                  'block_2_project_BN[0][0]']     \n",
            "                                                                                                  \n",
            " block_3_expand (Conv2D)        (None, 56, 56, 144)  3456        ['block_2_add[0][0]']            \n",
            "                                                                                                  \n",
            " block_3_expand_BN (BatchNormal  (None, 56, 56, 144)  576        ['block_3_expand[0][0]']         \n",
            " ization)                                                                                         \n",
            "                                                                                                  \n",
            " block_3_expand_relu (ReLU)     (None, 56, 56, 144)  0           ['block_3_expand_BN[0][0]']      \n",
            "                                                                                                  \n",
            " block_3_pad (ZeroPadding2D)    (None, 57, 57, 144)  0           ['block_3_expand_relu[0][0]']    \n",
            "                                                                                                  \n",
            " block_3_depthwise (DepthwiseCo  (None, 28, 28, 144)  1296       ['block_3_pad[0][0]']            \n",
            " nv2D)                                                                                            \n",
            "                                                                                                  \n",
            " block_3_depthwise_BN (BatchNor  (None, 28, 28, 144)  576        ['block_3_depthwise[0][0]']      \n",
            " malization)                                                                                      \n",
            "                                                                                                  \n",
            " block_3_depthwise_relu (ReLU)  (None, 28, 28, 144)  0           ['block_3_depthwise_BN[0][0]']   \n",
            "                                                                                                  \n",
            " block_3_project (Conv2D)       (None, 28, 28, 32)   4608        ['block_3_depthwise_relu[0][0]'] \n",
            "                                                                                                  \n",
            " block_3_project_BN (BatchNorma  (None, 28, 28, 32)  128         ['block_3_project[0][0]']        \n",
            " lization)                                                                                        \n",
            "                                                                                                  \n",
            " block_4_expand (Conv2D)        (None, 28, 28, 192)  6144        ['block_3_project_BN[0][0]']     \n",
            "                                                                                                  \n",
            " block_4_expand_BN (BatchNormal  (None, 28, 28, 192)  768        ['block_4_expand[0][0]']         \n",
            " ization)                                                                                         \n",
            "                                                                                                  \n",
            " block_4_expand_relu (ReLU)     (None, 28, 28, 192)  0           ['block_4_expand_BN[0][0]']      \n",
            "                                                                                                  \n",
            " block_4_depthwise (DepthwiseCo  (None, 28, 28, 192)  1728       ['block_4_expand_relu[0][0]']    \n",
            " nv2D)                                                                                            \n",
            "                                                                                                  \n",
            " block_4_depthwise_BN (BatchNor  (None, 28, 28, 192)  768        ['block_4_depthwise[0][0]']      \n",
            " malization)                                                                                      \n",
            "                                                                                                  \n",
            " block_4_depthwise_relu (ReLU)  (None, 28, 28, 192)  0           ['block_4_depthwise_BN[0][0]']   \n",
            "                                                                                                  \n",
            " block_4_project (Conv2D)       (None, 28, 28, 32)   6144        ['block_4_depthwise_relu[0][0]'] \n",
            "                                                                                                  \n",
            " block_4_project_BN (BatchNorma  (None, 28, 28, 32)  128         ['block_4_project[0][0]']        \n",
            " lization)                                                                                        \n",
            "                                                                                                  \n",
            " block_4_add (Add)              (None, 28, 28, 32)   0           ['block_3_project_BN[0][0]',     \n",
            "                                                                  'block_4_project_BN[0][0]']     \n",
            "                                                                                                  \n",
            " block_5_expand (Conv2D)        (None, 28, 28, 192)  6144        ['block_4_add[0][0]']            \n",
            "                                                                                                  \n",
            " block_5_expand_BN (BatchNormal  (None, 28, 28, 192)  768        ['block_5_expand[0][0]']         \n",
            " ization)                                                                                         \n",
            "                                                                                                  \n",
            " block_5_expand_relu (ReLU)     (None, 28, 28, 192)  0           ['block_5_expand_BN[0][0]']      \n",
            "                                                                                                  \n",
            " block_5_depthwise (DepthwiseCo  (None, 28, 28, 192)  1728       ['block_5_expand_relu[0][0]']    \n",
            " nv2D)                                                                                            \n",
            "                                                                                                  \n",
            " block_5_depthwise_BN (BatchNor  (None, 28, 28, 192)  768        ['block_5_depthwise[0][0]']      \n",
            " malization)                                                                                      \n",
            "                                                                                                  \n",
            " block_5_depthwise_relu (ReLU)  (None, 28, 28, 192)  0           ['block_5_depthwise_BN[0][0]']   \n",
            "                                                                                                  \n",
            " block_5_project (Conv2D)       (None, 28, 28, 32)   6144        ['block_5_depthwise_relu[0][0]'] \n",
            "                                                                                                  \n",
            " block_5_project_BN (BatchNorma  (None, 28, 28, 32)  128         ['block_5_project[0][0]']        \n",
            " lization)                                                                                        \n",
            "                                                                                                  \n",
            " block_5_add (Add)              (None, 28, 28, 32)   0           ['block_4_add[0][0]',            \n",
            "                                                                  'block_5_project_BN[0][0]']     \n",
            "                                                                                                  \n",
            " block_6_expand (Conv2D)        (None, 28, 28, 192)  6144        ['block_5_add[0][0]']            \n",
            "                                                                                                  \n",
            " block_6_expand_BN (BatchNormal  (None, 28, 28, 192)  768        ['block_6_expand[0][0]']         \n",
            " ization)                                                                                         \n",
            "                                                                                                  \n",
            " block_6_expand_relu (ReLU)     (None, 28, 28, 192)  0           ['block_6_expand_BN[0][0]']      \n",
            "                                                                                                  \n",
            " block_6_pad (ZeroPadding2D)    (None, 29, 29, 192)  0           ['block_6_expand_relu[0][0]']    \n",
            "                                                                                                  \n",
            " block_6_depthwise (DepthwiseCo  (None, 14, 14, 192)  1728       ['block_6_pad[0][0]']            \n",
            " nv2D)                                                                                            \n",
            "                                                                                                  \n",
            " block_6_depthwise_BN (BatchNor  (None, 14, 14, 192)  768        ['block_6_depthwise[0][0]']      \n",
            " malization)                                                                                      \n",
            "                                                                                                  \n",
            " block_6_depthwise_relu (ReLU)  (None, 14, 14, 192)  0           ['block_6_depthwise_BN[0][0]']   \n",
            "                                                                                                  \n",
            " block_6_project (Conv2D)       (None, 14, 14, 64)   12288       ['block_6_depthwise_relu[0][0]'] \n",
            "                                                                                                  \n",
            " block_6_project_BN (BatchNorma  (None, 14, 14, 64)  256         ['block_6_project[0][0]']        \n",
            " lization)                                                                                        \n",
            "                                                                                                  \n",
            " block_7_expand (Conv2D)        (None, 14, 14, 384)  24576       ['block_6_project_BN[0][0]']     \n",
            "                                                                                                  \n",
            " block_7_expand_BN (BatchNormal  (None, 14, 14, 384)  1536       ['block_7_expand[0][0]']         \n",
            " ization)                                                                                         \n",
            "                                                                                                  \n",
            " block_7_expand_relu (ReLU)     (None, 14, 14, 384)  0           ['block_7_expand_BN[0][0]']      \n",
            "                                                                                                  \n",
            " block_7_depthwise (DepthwiseCo  (None, 14, 14, 384)  3456       ['block_7_expand_relu[0][0]']    \n",
            " nv2D)                                                                                            \n",
            "                                                                                                  \n",
            " block_7_depthwise_BN (BatchNor  (None, 14, 14, 384)  1536       ['block_7_depthwise[0][0]']      \n",
            " malization)                                                                                      \n",
            "                                                                                                  \n",
            " block_7_depthwise_relu (ReLU)  (None, 14, 14, 384)  0           ['block_7_depthwise_BN[0][0]']   \n",
            "                                                                                                  \n",
            " block_7_project (Conv2D)       (None, 14, 14, 64)   24576       ['block_7_depthwise_relu[0][0]'] \n",
            "                                                                                                  \n",
            " block_7_project_BN (BatchNorma  (None, 14, 14, 64)  256         ['block_7_project[0][0]']        \n",
            " lization)                                                                                        \n",
            "                                                                                                  \n",
            " block_7_add (Add)              (None, 14, 14, 64)   0           ['block_6_project_BN[0][0]',     \n",
            "                                                                  'block_7_project_BN[0][0]']     \n",
            "                                                                                                  \n",
            " block_8_expand (Conv2D)        (None, 14, 14, 384)  24576       ['block_7_add[0][0]']            \n",
            "                                                                                                  \n",
            " block_8_expand_BN (BatchNormal  (None, 14, 14, 384)  1536       ['block_8_expand[0][0]']         \n",
            " ization)                                                                                         \n",
            "                                                                                                  \n",
            " block_8_expand_relu (ReLU)     (None, 14, 14, 384)  0           ['block_8_expand_BN[0][0]']      \n",
            "                                                                                                  \n",
            " block_8_depthwise (DepthwiseCo  (None, 14, 14, 384)  3456       ['block_8_expand_relu[0][0]']    \n",
            " nv2D)                                                                                            \n",
            "                                                                                                  \n",
            " block_8_depthwise_BN (BatchNor  (None, 14, 14, 384)  1536       ['block_8_depthwise[0][0]']      \n",
            " malization)                                                                                      \n",
            "                                                                                                  \n",
            " block_8_depthwise_relu (ReLU)  (None, 14, 14, 384)  0           ['block_8_depthwise_BN[0][0]']   \n",
            "                                                                                                  \n",
            " block_8_project (Conv2D)       (None, 14, 14, 64)   24576       ['block_8_depthwise_relu[0][0]'] \n",
            "                                                                                                  \n",
            " block_8_project_BN (BatchNorma  (None, 14, 14, 64)  256         ['block_8_project[0][0]']        \n",
            " lization)                                                                                        \n",
            "                                                                                                  \n",
            " block_8_add (Add)              (None, 14, 14, 64)   0           ['block_7_add[0][0]',            \n",
            "                                                                  'block_8_project_BN[0][0]']     \n",
            "                                                                                                  \n",
            " block_9_expand (Conv2D)        (None, 14, 14, 384)  24576       ['block_8_add[0][0]']            \n",
            "                                                                                                  \n",
            " block_9_expand_BN (BatchNormal  (None, 14, 14, 384)  1536       ['block_9_expand[0][0]']         \n",
            " ization)                                                                                         \n",
            "                                                                                                  \n",
            " block_9_expand_relu (ReLU)     (None, 14, 14, 384)  0           ['block_9_expand_BN[0][0]']      \n",
            "                                                                                                  \n",
            " block_9_depthwise (DepthwiseCo  (None, 14, 14, 384)  3456       ['block_9_expand_relu[0][0]']    \n",
            " nv2D)                                                                                            \n",
            "                                                                                                  \n",
            " block_9_depthwise_BN (BatchNor  (None, 14, 14, 384)  1536       ['block_9_depthwise[0][0]']      \n",
            " malization)                                                                                      \n",
            "                                                                                                  \n",
            " block_9_depthwise_relu (ReLU)  (None, 14, 14, 384)  0           ['block_9_depthwise_BN[0][0]']   \n",
            "                                                                                                  \n",
            " block_9_project (Conv2D)       (None, 14, 14, 64)   24576       ['block_9_depthwise_relu[0][0]'] \n",
            "                                                                                                  \n",
            " block_9_project_BN (BatchNorma  (None, 14, 14, 64)  256         ['block_9_project[0][0]']        \n",
            " lization)                                                                                        \n",
            "                                                                                                  \n",
            " block_9_add (Add)              (None, 14, 14, 64)   0           ['block_8_add[0][0]',            \n",
            "                                                                  'block_9_project_BN[0][0]']     \n",
            "                                                                                                  \n",
            " block_10_expand (Conv2D)       (None, 14, 14, 384)  24576       ['block_9_add[0][0]']            \n",
            "                                                                                                  \n",
            " block_10_expand_BN (BatchNorma  (None, 14, 14, 384)  1536       ['block_10_expand[0][0]']        \n",
            " lization)                                                                                        \n",
            "                                                                                                  \n",
            " block_10_expand_relu (ReLU)    (None, 14, 14, 384)  0           ['block_10_expand_BN[0][0]']     \n",
            "                                                                                                  \n",
            " block_10_depthwise (DepthwiseC  (None, 14, 14, 384)  3456       ['block_10_expand_relu[0][0]']   \n",
            " onv2D)                                                                                           \n",
            "                                                                                                  \n",
            " block_10_depthwise_BN (BatchNo  (None, 14, 14, 384)  1536       ['block_10_depthwise[0][0]']     \n",
            " rmalization)                                                                                     \n",
            "                                                                                                  \n",
            " block_10_depthwise_relu (ReLU)  (None, 14, 14, 384)  0          ['block_10_depthwise_BN[0][0]']  \n",
            "                                                                                                  \n",
            " block_10_project (Conv2D)      (None, 14, 14, 96)   36864       ['block_10_depthwise_relu[0][0]']\n",
            "                                                                                                  \n",
            " block_10_project_BN (BatchNorm  (None, 14, 14, 96)  384         ['block_10_project[0][0]']       \n",
            " alization)                                                                                       \n",
            "                                                                                                  \n",
            " block_11_expand (Conv2D)       (None, 14, 14, 576)  55296       ['block_10_project_BN[0][0]']    \n",
            "                                                                                                  \n",
            " block_11_expand_BN (BatchNorma  (None, 14, 14, 576)  2304       ['block_11_expand[0][0]']        \n",
            " lization)                                                                                        \n",
            "                                                                                                  \n",
            " block_11_expand_relu (ReLU)    (None, 14, 14, 576)  0           ['block_11_expand_BN[0][0]']     \n",
            "                                                                                                  \n",
            " block_11_depthwise (DepthwiseC  (None, 14, 14, 576)  5184       ['block_11_expand_relu[0][0]']   \n",
            " onv2D)                                                                                           \n",
            "                                                                                                  \n",
            " block_11_depthwise_BN (BatchNo  (None, 14, 14, 576)  2304       ['block_11_depthwise[0][0]']     \n",
            " rmalization)                                                                                     \n",
            "                                                                                                  \n",
            " block_11_depthwise_relu (ReLU)  (None, 14, 14, 576)  0          ['block_11_depthwise_BN[0][0]']  \n",
            "                                                                                                  \n",
            " block_11_project (Conv2D)      (None, 14, 14, 96)   55296       ['block_11_depthwise_relu[0][0]']\n",
            "                                                                                                  \n",
            " block_11_project_BN (BatchNorm  (None, 14, 14, 96)  384         ['block_11_project[0][0]']       \n",
            " alization)                                                                                       \n",
            "                                                                                                  \n",
            " block_11_add (Add)             (None, 14, 14, 96)   0           ['block_10_project_BN[0][0]',    \n",
            "                                                                  'block_11_project_BN[0][0]']    \n",
            "                                                                                                  \n",
            " block_12_expand (Conv2D)       (None, 14, 14, 576)  55296       ['block_11_add[0][0]']           \n",
            "                                                                                                  \n",
            " block_12_expand_BN (BatchNorma  (None, 14, 14, 576)  2304       ['block_12_expand[0][0]']        \n",
            " lization)                                                                                        \n",
            "                                                                                                  \n",
            " block_12_expand_relu (ReLU)    (None, 14, 14, 576)  0           ['block_12_expand_BN[0][0]']     \n",
            "                                                                                                  \n",
            " block_12_depthwise (DepthwiseC  (None, 14, 14, 576)  5184       ['block_12_expand_relu[0][0]']   \n",
            " onv2D)                                                                                           \n",
            "                                                                                                  \n",
            " block_12_depthwise_BN (BatchNo  (None, 14, 14, 576)  2304       ['block_12_depthwise[0][0]']     \n",
            " rmalization)                                                                                     \n",
            "                                                                                                  \n",
            " block_12_depthwise_relu (ReLU)  (None, 14, 14, 576)  0          ['block_12_depthwise_BN[0][0]']  \n",
            "                                                                                                  \n",
            " block_12_project (Conv2D)      (None, 14, 14, 96)   55296       ['block_12_depthwise_relu[0][0]']\n",
            "                                                                                                  \n",
            " block_12_project_BN (BatchNorm  (None, 14, 14, 96)  384         ['block_12_project[0][0]']       \n",
            " alization)                                                                                       \n",
            "                                                                                                  \n",
            " block_12_add (Add)             (None, 14, 14, 96)   0           ['block_11_add[0][0]',           \n",
            "                                                                  'block_12_project_BN[0][0]']    \n",
            "                                                                                                  \n",
            " block_13_expand (Conv2D)       (None, 14, 14, 576)  55296       ['block_12_add[0][0]']           \n",
            "                                                                                                  \n",
            " block_13_expand_BN (BatchNorma  (None, 14, 14, 576)  2304       ['block_13_expand[0][0]']        \n",
            " lization)                                                                                        \n",
            "                                                                                                  \n",
            " block_13_expand_relu (ReLU)    (None, 14, 14, 576)  0           ['block_13_expand_BN[0][0]']     \n",
            "                                                                                                  \n",
            " block_13_pad (ZeroPadding2D)   (None, 15, 15, 576)  0           ['block_13_expand_relu[0][0]']   \n",
            "                                                                                                  \n",
            " block_13_depthwise (DepthwiseC  (None, 7, 7, 576)   5184        ['block_13_pad[0][0]']           \n",
            " onv2D)                                                                                           \n",
            "                                                                                                  \n",
            " block_13_depthwise_BN (BatchNo  (None, 7, 7, 576)   2304        ['block_13_depthwise[0][0]']     \n",
            " rmalization)                                                                                     \n",
            "                                                                                                  \n",
            " block_13_depthwise_relu (ReLU)  (None, 7, 7, 576)   0           ['block_13_depthwise_BN[0][0]']  \n",
            "                                                                                                  \n",
            " block_13_project (Conv2D)      (None, 7, 7, 160)    92160       ['block_13_depthwise_relu[0][0]']\n",
            "                                                                                                  \n",
            " block_13_project_BN (BatchNorm  (None, 7, 7, 160)   640         ['block_13_project[0][0]']       \n",
            " alization)                                                                                       \n",
            "                                                                                                  \n",
            " block_14_expand (Conv2D)       (None, 7, 7, 960)    153600      ['block_13_project_BN[0][0]']    \n",
            "                                                                                                  \n",
            " block_14_expand_BN (BatchNorma  (None, 7, 7, 960)   3840        ['block_14_expand[0][0]']        \n",
            " lization)                                                                                        \n",
            "                                                                                                  \n",
            " block_14_expand_relu (ReLU)    (None, 7, 7, 960)    0           ['block_14_expand_BN[0][0]']     \n",
            "                                                                                                  \n",
            " block_14_depthwise (DepthwiseC  (None, 7, 7, 960)   8640        ['block_14_expand_relu[0][0]']   \n",
            " onv2D)                                                                                           \n",
            "                                                                                                  \n",
            " block_14_depthwise_BN (BatchNo  (None, 7, 7, 960)   3840        ['block_14_depthwise[0][0]']     \n",
            " rmalization)                                                                                     \n",
            "                                                                                                  \n",
            " block_14_depthwise_relu (ReLU)  (None, 7, 7, 960)   0           ['block_14_depthwise_BN[0][0]']  \n",
            "                                                                                                  \n",
            " block_14_project (Conv2D)      (None, 7, 7, 160)    153600      ['block_14_depthwise_relu[0][0]']\n",
            "                                                                                                  \n",
            " block_14_project_BN (BatchNorm  (None, 7, 7, 160)   640         ['block_14_project[0][0]']       \n",
            " alization)                                                                                       \n",
            "                                                                                                  \n",
            " block_14_add (Add)             (None, 7, 7, 160)    0           ['block_13_project_BN[0][0]',    \n",
            "                                                                  'block_14_project_BN[0][0]']    \n",
            "                                                                                                  \n",
            " block_15_expand (Conv2D)       (None, 7, 7, 960)    153600      ['block_14_add[0][0]']           \n",
            "                                                                                                  \n",
            " block_15_expand_BN (BatchNorma  (None, 7, 7, 960)   3840        ['block_15_expand[0][0]']        \n",
            " lization)                                                                                        \n",
            "                                                                                                  \n",
            " block_15_expand_relu (ReLU)    (None, 7, 7, 960)    0           ['block_15_expand_BN[0][0]']     \n",
            "                                                                                                  \n",
            " block_15_depthwise (DepthwiseC  (None, 7, 7, 960)   8640        ['block_15_expand_relu[0][0]']   \n",
            " onv2D)                                                                                           \n",
            "                                                                                                  \n",
            " block_15_depthwise_BN (BatchNo  (None, 7, 7, 960)   3840        ['block_15_depthwise[0][0]']     \n",
            " rmalization)                                                                                     \n",
            "                                                                                                  \n",
            " block_15_depthwise_relu (ReLU)  (None, 7, 7, 960)   0           ['block_15_depthwise_BN[0][0]']  \n",
            "                                                                                                  \n",
            " block_15_project (Conv2D)      (None, 7, 7, 160)    153600      ['block_15_depthwise_relu[0][0]']\n",
            "                                                                                                  \n",
            " block_15_project_BN (BatchNorm  (None, 7, 7, 160)   640         ['block_15_project[0][0]']       \n",
            " alization)                                                                                       \n",
            "                                                                                                  \n",
            " block_15_add (Add)             (None, 7, 7, 160)    0           ['block_14_add[0][0]',           \n",
            "                                                                  'block_15_project_BN[0][0]']    \n",
            "                                                                                                  \n",
            " block_16_expand (Conv2D)       (None, 7, 7, 960)    153600      ['block_15_add[0][0]']           \n",
            "                                                                                                  \n",
            " block_16_expand_BN (BatchNorma  (None, 7, 7, 960)   3840        ['block_16_expand[0][0]']        \n",
            " lization)                                                                                        \n",
            "                                                                                                  \n",
            " block_16_expand_relu (ReLU)    (None, 7, 7, 960)    0           ['block_16_expand_BN[0][0]']     \n",
            "                                                                                                  \n",
            " block_16_depthwise (DepthwiseC  (None, 7, 7, 960)   8640        ['block_16_expand_relu[0][0]']   \n",
            " onv2D)                                                                                           \n",
            "                                                                                                  \n",
            " block_16_depthwise_BN (BatchNo  (None, 7, 7, 960)   3840        ['block_16_depthwise[0][0]']     \n",
            " rmalization)                                                                                     \n",
            "                                                                                                  \n",
            " block_16_depthwise_relu (ReLU)  (None, 7, 7, 960)   0           ['block_16_depthwise_BN[0][0]']  \n",
            "                                                                                                  \n",
            " block_16_project (Conv2D)      (None, 7, 7, 320)    307200      ['block_16_depthwise_relu[0][0]']\n",
            "                                                                                                  \n",
            " block_16_project_BN (BatchNorm  (None, 7, 7, 320)   1280        ['block_16_project[0][0]']       \n",
            " alization)                                                                                       \n",
            "                                                                                                  \n",
            " Conv_1 (Conv2D)                (None, 7, 7, 1280)   409600      ['block_16_project_BN[0][0]']    \n",
            "                                                                                                  \n",
            " Conv_1_bn (BatchNormalization)  (None, 7, 7, 1280)  5120        ['Conv_1[0][0]']                 \n",
            "                                                                                                  \n",
            " out_relu (ReLU)                (None, 7, 7, 1280)   0           ['Conv_1_bn[0][0]']              \n",
            "                                                                                                  \n",
            " flatten_1 (Flatten)            (None, 62720)        0           ['out_relu[0][0]']               \n",
            "                                                                                                  \n",
            " dense_3 (Dense)                (None, 50)           3136050     ['flatten_1[0][0]']              \n",
            "                                                                                                  \n",
            " dropout_2 (Dropout)            (None, 50)           0           ['dense_3[0][0]']                \n",
            "                                                                                                  \n",
            " dense_4 (Dense)                (None, 200)          10200       ['dropout_2[0][0]']              \n",
            "                                                                                                  \n",
            " dropout_3 (Dropout)            (None, 200)          0           ['dense_4[0][0]']                \n",
            "                                                                                                  \n",
            " dense_5 (Dense)                (None, 300)          60300       ['dropout_3[0][0]']              \n",
            "                                                                                                  \n",
            " dropout_4 (Dropout)            (None, 300)          0           ['dense_5[0][0]']                \n",
            "                                                                                                  \n",
            " dense_6 (Dense)                (None, 50)           15050       ['dropout_4[0][0]']              \n",
            "                                                                                                  \n",
            " dropout_5 (Dropout)            (None, 50)           0           ['dense_6[0][0]']                \n",
            "                                                                                                  \n",
            " dense_7 (Dense)                (None, 50)           2550        ['dropout_5[0][0]']              \n",
            "                                                                                                  \n",
            " dropout_6 (Dropout)            (None, 50)           0           ['dense_7[0][0]']                \n",
            "                                                                                                  \n",
            " dense_8 (Dense)                (None, 20)           1020        ['dropout_6[0][0]']              \n",
            "                                                                                                  \n",
            "==================================================================================================\n",
            "Total params: 5,483,154\n",
            "Trainable params: 3,225,170\n",
            "Non-trainable params: 2,257,984\n",
            "__________________________________________________________________________________________________\n"
          ]
        }
      ]
    },
    {
      "cell_type": "code",
      "metadata": {
        "collapsed": true,
        "colab": {
          "base_uri": "https://localhost:8080/"
        },
        "id": "267c070e",
        "outputId": "0e26ae77-a84b-4b20-e11f-71b37f9cb712"
      },
      "source": [
        "lr = (ReduceLROnPlateau(factor=.5, patience=3, verbose=1))\n",
        "es = (EarlyStopping(verbose=1, patience = 8, restore_best_weights=True))\n",
        "\n",
        "history_transfer_aug_drop = model.fit(train_generator,\n",
        "                    steps_per_epoch=STEP_SIZE_TRAIN,\n",
        "                    validation_data=valid_generator,\n",
        "                    validation_steps=STEP_SIZE_VALID,\n",
        "                    epochs=epochs,\n",
        "                    callbacks = [es, lr]\n",
        ")\n",
        "\n",
        "\n",
        "# TAKING OUT THE FOLLOWING FROM LAST MODEL IN EARLYSTOPPING: \n",
        "# monitor='val_loss', mode='min', "
      ],
      "id": "267c070e",
      "execution_count": null,
      "outputs": [
        {
          "output_type": "error",
          "ename": "ValueError",
          "evalue": "ignored",
          "traceback": [
            "\u001b[0;31m---------------------------------------------------------------------------\u001b[0m",
            "\u001b[0;31mValueError\u001b[0m                                Traceback (most recent call last)",
            "\u001b[0;32m<ipython-input-34-23d81f5acdad>\u001b[0m in \u001b[0;36m<module>\u001b[0;34m()\u001b[0m\n\u001b[1;32m      7\u001b[0m                     \u001b[0mvalidation_steps\u001b[0m\u001b[0;34m=\u001b[0m\u001b[0mSTEP_SIZE_VALID\u001b[0m\u001b[0;34m,\u001b[0m\u001b[0;34m\u001b[0m\u001b[0;34m\u001b[0m\u001b[0m\n\u001b[1;32m      8\u001b[0m                     \u001b[0mepochs\u001b[0m\u001b[0;34m=\u001b[0m\u001b[0mepochs\u001b[0m\u001b[0;34m,\u001b[0m\u001b[0;34m\u001b[0m\u001b[0;34m\u001b[0m\u001b[0m\n\u001b[0;32m----> 9\u001b[0;31m                     \u001b[0mcallbacks\u001b[0m \u001b[0;34m=\u001b[0m \u001b[0;34m[\u001b[0m\u001b[0mes\u001b[0m\u001b[0;34m,\u001b[0m \u001b[0mlr\u001b[0m\u001b[0;34m]\u001b[0m\u001b[0;34m\u001b[0m\u001b[0;34m\u001b[0m\u001b[0m\n\u001b[0m\u001b[1;32m     10\u001b[0m )\n\u001b[1;32m     11\u001b[0m \u001b[0;34m\u001b[0m\u001b[0m\n",
            "\u001b[0;32m/usr/local/lib/python3.7/dist-packages/keras/utils/traceback_utils.py\u001b[0m in \u001b[0;36merror_handler\u001b[0;34m(*args, **kwargs)\u001b[0m\n\u001b[1;32m     65\u001b[0m     \u001b[0;32mexcept\u001b[0m \u001b[0mException\u001b[0m \u001b[0;32mas\u001b[0m \u001b[0me\u001b[0m\u001b[0;34m:\u001b[0m  \u001b[0;31m# pylint: disable=broad-except\u001b[0m\u001b[0;34m\u001b[0m\u001b[0;34m\u001b[0m\u001b[0m\n\u001b[1;32m     66\u001b[0m       \u001b[0mfiltered_tb\u001b[0m \u001b[0;34m=\u001b[0m \u001b[0m_process_traceback_frames\u001b[0m\u001b[0;34m(\u001b[0m\u001b[0me\u001b[0m\u001b[0;34m.\u001b[0m\u001b[0m__traceback__\u001b[0m\u001b[0;34m)\u001b[0m\u001b[0;34m\u001b[0m\u001b[0;34m\u001b[0m\u001b[0m\n\u001b[0;32m---> 67\u001b[0;31m       \u001b[0;32mraise\u001b[0m \u001b[0me\u001b[0m\u001b[0;34m.\u001b[0m\u001b[0mwith_traceback\u001b[0m\u001b[0;34m(\u001b[0m\u001b[0mfiltered_tb\u001b[0m\u001b[0;34m)\u001b[0m \u001b[0;32mfrom\u001b[0m \u001b[0;32mNone\u001b[0m\u001b[0;34m\u001b[0m\u001b[0;34m\u001b[0m\u001b[0m\n\u001b[0m\u001b[1;32m     68\u001b[0m     \u001b[0;32mfinally\u001b[0m\u001b[0;34m:\u001b[0m\u001b[0;34m\u001b[0m\u001b[0;34m\u001b[0m\u001b[0m\n\u001b[1;32m     69\u001b[0m       \u001b[0;32mdel\u001b[0m \u001b[0mfiltered_tb\u001b[0m\u001b[0;34m\u001b[0m\u001b[0;34m\u001b[0m\u001b[0m\n",
            "\u001b[0;32m/usr/local/lib/python3.7/dist-packages/keras_preprocessing/image/iterator.py\u001b[0m in \u001b[0;36m__getitem__\u001b[0;34m(self, idx)\u001b[0m\n\u001b[1;32m     55\u001b[0m                              \u001b[0;34m'but the Sequence '\u001b[0m\u001b[0;34m\u001b[0m\u001b[0;34m\u001b[0m\u001b[0m\n\u001b[1;32m     56\u001b[0m                              'has length {length}'.format(idx=idx,\n\u001b[0;32m---> 57\u001b[0;31m                                                           length=len(self)))\n\u001b[0m\u001b[1;32m     58\u001b[0m         \u001b[0;32mif\u001b[0m \u001b[0mself\u001b[0m\u001b[0;34m.\u001b[0m\u001b[0mseed\u001b[0m \u001b[0;32mis\u001b[0m \u001b[0;32mnot\u001b[0m \u001b[0;32mNone\u001b[0m\u001b[0;34m:\u001b[0m\u001b[0;34m\u001b[0m\u001b[0;34m\u001b[0m\u001b[0m\n\u001b[1;32m     59\u001b[0m             \u001b[0mnp\u001b[0m\u001b[0;34m.\u001b[0m\u001b[0mrandom\u001b[0m\u001b[0;34m.\u001b[0m\u001b[0mseed\u001b[0m\u001b[0;34m(\u001b[0m\u001b[0mself\u001b[0m\u001b[0;34m.\u001b[0m\u001b[0mseed\u001b[0m \u001b[0;34m+\u001b[0m \u001b[0mself\u001b[0m\u001b[0;34m.\u001b[0m\u001b[0mtotal_batches_seen\u001b[0m\u001b[0;34m)\u001b[0m\u001b[0;34m\u001b[0m\u001b[0;34m\u001b[0m\u001b[0m\n",
            "\u001b[0;31mValueError\u001b[0m: Asked to retrieve element 0, but the Sequence has length 0"
          ]
        }
      ]
    },
    {
      "cell_type": "code",
      "metadata": {
        "id": "6a652b36",
        "outputId": "bbde5365-2407-43ef-c051-717d54b5c364"
      },
      "source": [
        "number_of_epochs_it_ran = len(history_transfer_aug_drop.history['loss'])\n",
        "\n",
        "acc = history_transfer_aug_drop.history['accuracy']\n",
        "val_acc = history_transfer_aug_drop.history['val_accuracy']\n",
        "\n",
        "loss = history_transfer_aug_drop.history['loss']\n",
        "val_loss = history_transfer_aug_drop.history['val_loss']\n",
        "\n",
        "epochs_range = range(number_of_epochs_it_ran)\n",
        "\n",
        "plt.figure(figsize=(8, 8))\n",
        "plt.subplot(1, 2, 1)\n",
        "plt.plot(epochs_range, acc, label='Training Accuracy')\n",
        "plt.plot(epochs_range, val_acc, label='Validation Accuracy')\n",
        "plt.legend(loc='lower right')\n",
        "plt.title('Training and Validation Accuracy')\n",
        "\n",
        "plt.subplot(1, 2, 2)\n",
        "plt.plot(epochs_range, loss, label='Training Loss')\n",
        "plt.plot(epochs_range, val_loss, label='Validation Loss')\n",
        "plt.legend(loc='upper right')\n",
        "plt.title('Training and Validation Loss')\n",
        "plt.show()"
      ],
      "id": "6a652b36",
      "execution_count": null,
      "outputs": [
        {
          "data": {
            "image/png": "[encoded data removed]",
            "text/plain": [
              "<Figure size 576x576 with 2 Axes>"
            ]
          },
          "metadata": {
            "needs_background": "light"
          },
          "output_type": "display_data"
        }
      ]
    },
    {
      "cell_type": "markdown",
      "metadata": {
        "id": "afd18b05"
      },
      "source": [
        "### 9. Try VGG16  "
      ],
      "id": "afd18b05"
    },
    {
      "cell_type": "code",
      "metadata": {
        "id": "19f656d9"
      },
      "source": [
        "L2 = 50\n",
        "DROP = 0.3"
      ],
      "id": "19f656d9",
      "execution_count": null,
      "outputs": []
    },
    {
      "cell_type": "code",
      "metadata": {
        "colab": {
          "base_uri": "https://localhost:8080/"
        },
        "id": "7441af71",
        "outputId": "b543c066-e547-4e50-e359-2d45d4d27337"
      },
      "source": [
        "datagen = ImageDataGenerator(\n",
        "        rotation_range=40,\n",
        "        width_shift_range=0.2,\n",
        "        height_shift_range=0.2,\n",
        "        rescale=1./255,\n",
        "        shear_range=0.2,\n",
        "        zoom_range=0.2,\n",
        "        horizontal_flip=True,\n",
        "        fill_mode='nearest')\n",
        "\n",
        "train_generator=datagen.flow_from_dataframe(\n",
        "                                        dataframe = df[:val_set_start],\n",
        "                                        x_col = \"path\",\n",
        "                                        y_col = \"emotion\",\n",
        "                                        batch_size = 32,\n",
        "                                        interpolation = 'bilinear',\n",
        "                                        seed = 42,\n",
        "                                        shuffle = True,\n",
        "                                        class_mode = \"categorical\",\n",
        "                                        target_size = (img_height, img_width))\n",
        "\n",
        "valid_generator=test_datagen.flow_from_dataframe(\n",
        "                                            dataframe = df[(val_set_start):(test_set_start)],\n",
        "                                            x_col = \"path\",\n",
        "                                            y_col = \"emotion\",\n",
        "                                            batch_size = 32,\n",
        "                                            interpolation = 'bilinear',\n",
        "                                            seed = 42,\n",
        "                                            shuffle = True,\n",
        "                                            class_mode = \"categorical\",\n",
        "                                            target_size = (img_height, img_width))\n",
        "\n",
        "test_generator=test_datagen.flow_from_dataframe(\n",
        "                                            dataframe = df[test_set_start:],\n",
        "                                            x_col = \"path\",\n",
        "                                            y_col = \"emotion\",\n",
        "                                            batch_size = 32,\n",
        "                                            interpolation = 'bilinear',\n",
        "                                            seed = 42,\n",
        "                                            shuffle = True,\n",
        "                                            class_mode = \"categorical\",\n",
        "                                            target_size = (img_height, img_width))"
      ],
      "id": "7441af71",
      "execution_count": null,
      "outputs": [
        {
          "output_type": "stream",
          "name": "stdout",
          "text": [
            "Found 3089 validated image filenames belonging to 10 classes.\n",
            "Found 618 validated image filenames belonging to 10 classes.\n",
            "Found 260 validated image filenames belonging to 10 classes.\n"
          ]
        }
      ]
    },
    {
      "cell_type": "code",
      "metadata": {
        "scrolled": true,
        "id": "94b5b51e"
      },
      "source": [
        "base_model = VGG16(weights='imagenet', include_top=False, input_shape=(img_height, img_width,3)) \n",
        "\n",
        "for layer in base_model.layers:\n",
        "    layer.trainable = False   "
      ],
      "id": "94b5b51e",
      "execution_count": null,
      "outputs": []
    },
    {
      "cell_type": "code",
      "metadata": {
        "id": "8e7a3d1c"
      },
      "source": [
        "model = Sequential(\n",
        "                [InputLayer(input_shape= (img_height, img_width, 3)),\n",
        "                 base_model,\n",
        "                 Flatten(),\n",
        "                 Dense(100, activation='relu', kernel_regularizer=keras.regularizers.l2(L2)),\n",
        "                 Dropout(DROP), \n",
        "                 Dense(100, activation='relu', kernel_regularizer=keras.regularizers.l2(L2)),\n",
        "                 Dropout(DROP), \n",
        "                 Dense(num_classes, activation='softmax')]\n",
        "               )\n",
        "\n",
        "model.compile(optimizer='adam', loss='categorical_crossentropy', metrics=['accuracy'], run_eagerly=True)"
      ],
      "id": "8e7a3d1c",
      "execution_count": null,
      "outputs": []
    },
    {
      "cell_type": "code",
      "metadata": {
        "scrolled": false,
        "id": "78f53b03"
      },
      "source": [
        "lr = (ReduceLROnPlateau(factor=.5, patience=3, verbose=1))\n",
        "es = (EarlyStopping(verbose=1, patience = 8, restore_best_weights=True, monitor='val_loss'))"
      ],
      "id": "78f53b03",
      "execution_count": null,
      "outputs": []
    },
    {
      "cell_type": "code",
      "metadata": {
        "colab": {
          "base_uri": "https://localhost:8080/"
        },
        "id": "syWJLFIoya8x",
        "outputId": "17d8d64b-125e-4073-90f8-50eda377232e"
      },
      "source": [
        "history_vgg_model = model.fit(train_generator,\n",
        "                      steps_per_epoch=STEP_SIZE_TRAIN,\n",
        "                      validation_data=valid_generator,\n",
        "                      validation_steps=STEP_SIZE_VALID,\n",
        "                      epochs=epochs,\n",
        "                      callbacks = [es, lr])"
      ],
      "id": "syWJLFIoya8x",
      "execution_count": null,
      "outputs": [
        {
          "output_type": "stream",
          "name": "stdout",
          "text": [
            "Epoch 1/100\n",
            "96/96 [==============================] - 133s 1s/step - loss: 2998.9644 - accuracy: 0.2421 - val_loss: 728.6398 - val_accuracy: 0.2747 - lr: 0.0010\n",
            "Epoch 2/100\n",
            "96/96 [==============================] - 125s 1s/step - loss: 295.0083 - accuracy: 0.2758 - val_loss: 70.6592 - val_accuracy: 0.2714 - lr: 0.0010\n",
            "Epoch 3/100\n",
            "96/96 [==============================] - 126s 1s/step - loss: 25.7334 - accuracy: 0.2787 - val_loss: 5.8879 - val_accuracy: 0.2697 - lr: 0.0010\n",
            "Epoch 4/100\n",
            "96/96 [==============================] - 125s 1s/step - loss: 3.1496 - accuracy: 0.2820 - val_loss: 2.1181 - val_accuracy: 0.2730 - lr: 0.0010\n",
            "Epoch 5/100\n",
            "96/96 [==============================] - 125s 1s/step - loss: 2.0330 - accuracy: 0.2748 - val_loss: 1.9897 - val_accuracy: 0.2697 - lr: 0.0010\n",
            "Epoch 6/100\n",
            "96/96 [==============================] - 125s 1s/step - loss: 1.9908 - accuracy: 0.2774 - val_loss: 1.9914 - val_accuracy: 0.2730 - lr: 0.0010\n",
            "Epoch 7/100\n",
            "96/96 [==============================] - 126s 1s/step - loss: 1.9949 - accuracy: 0.2794 - val_loss: 1.9934 - val_accuracy: 0.2714 - lr: 0.0010\n",
            "Epoch 8/100\n",
            "96/96 [==============================] - 126s 1s/step - loss: 1.9948 - accuracy: 0.2774 - val_loss: 1.9841 - val_accuracy: 0.2714 - lr: 0.0010\n",
            "Epoch 9/100\n",
            "96/96 [==============================] - 126s 1s/step - loss: 1.9932 - accuracy: 0.2781 - val_loss: 1.9895 - val_accuracy: 0.2714 - lr: 0.0010\n",
            "Epoch 10/100\n",
            "96/96 [==============================] - 127s 1s/step - loss: 1.9927 - accuracy: 0.2781 - val_loss: 1.9921 - val_accuracy: 0.2714 - lr: 0.0010\n",
            "Epoch 11/100\n",
            "96/96 [==============================] - ETA: 0s - loss: 1.9922 - accuracy: 0.2797\n",
            "Epoch 00011: ReduceLROnPlateau reducing learning rate to 0.0005000000237487257.\n",
            "96/96 [==============================] - 126s 1s/step - loss: 1.9922 - accuracy: 0.2797 - val_loss: 1.9898 - val_accuracy: 0.2697 - lr: 0.0010\n",
            "Epoch 12/100\n",
            "96/96 [==============================] - 125s 1s/step - loss: 1.9955 - accuracy: 0.2774 - val_loss: 1.9874 - val_accuracy: 0.2714 - lr: 5.0000e-04\n",
            "Epoch 13/100\n",
            "96/96 [==============================] - 127s 1s/step - loss: 1.9916 - accuracy: 0.2800 - val_loss: 1.9932 - val_accuracy: 0.2714 - lr: 5.0000e-04\n",
            "Epoch 14/100\n",
            "96/96 [==============================] - ETA: 0s - loss: 1.9932 - accuracy: 0.2790\n",
            "Epoch 00014: ReduceLROnPlateau reducing learning rate to 0.0002500000118743628.\n",
            "96/96 [==============================] - 127s 1s/step - loss: 1.9932 - accuracy: 0.2790 - val_loss: 1.9887 - val_accuracy: 0.2714 - lr: 5.0000e-04\n",
            "Epoch 15/100\n",
            "96/96 [==============================] - 127s 1s/step - loss: 1.9930 - accuracy: 0.2774 - val_loss: 1.9861 - val_accuracy: 0.2714 - lr: 2.5000e-04\n",
            "Epoch 16/100\n",
            "96/96 [==============================] - 126s 1s/step - loss: 1.9898 - accuracy: 0.2800 - val_loss: 1.9825 - val_accuracy: 0.2747 - lr: 2.5000e-04\n",
            "Epoch 17/100\n",
            "96/96 [==============================] - 126s 1s/step - loss: 1.9895 - accuracy: 0.2774 - val_loss: 1.9930 - val_accuracy: 0.2681 - lr: 2.5000e-04\n",
            "Epoch 18/100\n",
            "96/96 [==============================] - 126s 1s/step - loss: 1.9917 - accuracy: 0.2764 - val_loss: 1.9922 - val_accuracy: 0.2714 - lr: 2.5000e-04\n",
            "Epoch 19/100\n",
            "96/96 [==============================] - ETA: 0s - loss: 1.9868 - accuracy: 0.2781\n",
            "Epoch 00019: ReduceLROnPlateau reducing learning rate to 0.0001250000059371814.\n",
            "96/96 [==============================] - 126s 1s/step - loss: 1.9868 - accuracy: 0.2781 - val_loss: 1.9909 - val_accuracy: 0.2681 - lr: 2.5000e-04\n",
            "Epoch 20/100\n",
            "96/96 [==============================] - 126s 1s/step - loss: 1.9910 - accuracy: 0.2781 - val_loss: 1.9888 - val_accuracy: 0.2747 - lr: 1.2500e-04\n",
            "Epoch 21/100\n",
            "96/96 [==============================] - 125s 1s/step - loss: 1.9903 - accuracy: 0.2800 - val_loss: 1.9933 - val_accuracy: 0.2697 - lr: 1.2500e-04\n",
            "Epoch 22/100\n",
            "96/96 [==============================] - ETA: 0s - loss: 1.9874 - accuracy: 0.2764\n",
            "Epoch 00022: ReduceLROnPlateau reducing learning rate to 6.25000029685907e-05.\n",
            "96/96 [==============================] - 126s 1s/step - loss: 1.9874 - accuracy: 0.2764 - val_loss: 1.9879 - val_accuracy: 0.2714 - lr: 1.2500e-04\n",
            "Epoch 23/100\n",
            "96/96 [==============================] - 127s 1s/step - loss: 1.9922 - accuracy: 0.2787 - val_loss: 1.9857 - val_accuracy: 0.2747 - lr: 6.2500e-05\n",
            "Epoch 24/100\n",
            "96/96 [==============================] - ETA: 0s - loss: 1.9903 - accuracy: 0.2807Restoring model weights from the end of the best epoch: 16.\n",
            "96/96 [==============================] - 126s 1s/step - loss: 1.9903 - accuracy: 0.2807 - val_loss: 1.9924 - val_accuracy: 0.2697 - lr: 6.2500e-05\n",
            "Epoch 00024: early stopping\n"
          ]
        }
      ]
    },
    {
      "cell_type": "code",
      "metadata": {
        "id": "abnt1hS5jl2S"
      },
      "source": [
        "model.save('vgg16_model_single_label.h5')"
      ],
      "id": "abnt1hS5jl2S",
      "execution_count": null,
      "outputs": []
    },
    {
      "cell_type": "code",
      "metadata": {
        "colab": {
          "base_uri": "https://localhost:8080/",
          "height": 499
        },
        "id": "1f85f1b0",
        "outputId": "554e2a15-829c-422d-b51e-89c39941aaa1"
      },
      "source": [
        "number_of_epochs_it_ran = len(history_vgg_model.history['loss'])\n",
        "\n",
        "acc = history_vgg_model.history['accuracy']\n",
        "val_acc = history_vgg_model.history['val_accuracy']\n",
        "\n",
        "loss = history_vgg_model.history['loss']\n",
        "val_loss = history_vgg_model.history['val_loss']\n",
        "\n",
        "epochs_range = range(number_of_epochs_it_ran)\n",
        "\n",
        "plt.figure(figsize=(8, 8))\n",
        "plt.subplot(1, 2, 1)\n",
        "plt.plot(epochs_range, acc, label='Training Accuracy')\n",
        "plt.plot(epochs_range, val_acc, label='Validation Accuracy')\n",
        "plt.legend(loc='lower right')\n",
        "plt.title('Training and Validation Accuracy')\n",
        "\n",
        "plt.subplot(1, 2, 2)\n",
        "plt.plot(epochs_range, loss, label='Training Loss')\n",
        "plt.plot(epochs_range, val_loss, label='Validation Loss')\n",
        "plt.legend(loc='upper right')\n",
        "plt.title('Training and Validation Loss')\n",
        "plt.show()"
      ],
      "id": "1f85f1b0",
      "execution_count": null,
      "outputs": [
        {
          "output_type": "display_data",
          "data": {
            "image/png": "[encoded data removed]",
            "text/plain": [
              "<Figure size 576x576 with 2 Axes>"
            ]
          },
          "metadata": {
            "needs_background": "light"
          }
        }
      ]
    },
    {
      "cell_type": "markdown",
      "metadata": {
        "id": "ymemgsNf3KPS"
      },
      "source": [
        "### 10. VGG16 + CNN's"
      ],
      "id": "ymemgsNf3KPS"
    },
    {
      "cell_type": "code",
      "metadata": {
        "colab": {
          "base_uri": "https://localhost:8080/"
        },
        "id": "AFrqnk8e3CSF",
        "outputId": "9bfd98b4-c9df-4744-d83c-436f32384dc7"
      },
      "source": [
        "datagen = ImageDataGenerator(\n",
        "        rotation_range=40,\n",
        "        width_shift_range=0.2,\n",
        "        height_shift_range=0.2,\n",
        "        rescale=1./255,\n",
        "        shear_range=0.2,\n",
        "        zoom_range=0.2,\n",
        "        horizontal_flip=True,\n",
        "        fill_mode='nearest')\n",
        "\n",
        "train_generator=datagen.flow_from_dataframe(\n",
        "                                        dataframe = df[:val_set_start],\n",
        "                                        x_col = \"path\",\n",
        "                                        y_col = \"emotion\",\n",
        "                                        batch_size = 32,\n",
        "                                        interpolation = 'bilinear',\n",
        "                                        seed = 42,\n",
        "                                        shuffle = True,\n",
        "                                        class_mode = \"categorical\",\n",
        "                                        target_size = (img_height, img_width))\n",
        "\n",
        "valid_generator=test_datagen.flow_from_dataframe(\n",
        "                                            dataframe = df[(val_set_start):(test_set_start)],\n",
        "                                            x_col = \"path\",\n",
        "                                            y_col = \"emotion\",\n",
        "                                            batch_size = 32,\n",
        "                                            interpolation = 'bilinear',\n",
        "                                            seed = 42,\n",
        "                                            shuffle = True,\n",
        "                                            class_mode = \"categorical\",\n",
        "                                            target_size = (img_height, img_width))\n",
        "\n",
        "test_generator=test_datagen.flow_from_dataframe(\n",
        "                                            dataframe = df[test_set_start:],\n",
        "                                            x_col = \"path\",\n",
        "                                            y_col = \"emotion\",\n",
        "                                            batch_size = 32,\n",
        "                                            interpolation = 'bilinear',\n",
        "                                            seed = 42,\n",
        "                                            shuffle = True,\n",
        "                                            class_mode = \"categorical\",\n",
        "                                            target_size = (img_height, img_width))"
      ],
      "id": "AFrqnk8e3CSF",
      "execution_count": null,
      "outputs": [
        {
          "output_type": "stream",
          "name": "stdout",
          "text": [
            "Found 3089 validated image filenames belonging to 10 classes.\n",
            "Found 618 validated image filenames belonging to 10 classes.\n",
            "Found 260 validated image filenames belonging to 10 classes.\n"
          ]
        }
      ]
    },
    {
      "cell_type": "code",
      "metadata": {
        "id": "MTeobt9_3BcQ"
      },
      "source": [
        "base_model = VGG16(weights='imagenet', include_top=False, input_shape=(img_height, img_width,3)) \n",
        "\n",
        "for layer in base_model.layers:\n",
        "    layer.trainable = False   "
      ],
      "id": "MTeobt9_3BcQ",
      "execution_count": null,
      "outputs": []
    },
    {
      "cell_type": "code",
      "metadata": {
        "id": "QNXYkQF-3fYn"
      },
      "source": [
        "x = base_model.output\n",
        "x = Flatten()(x) \n",
        "x = Dense(50, activation='relu', kernel_regularizer=keras.regularizers.l2(L2))(x) \n",
        "x = Dropout(DROP)(x)\n",
        "x = Dense(200, activation='relu', kernel_regularizer=keras.regularizers.l2(L2))(x)\n",
        "x = Dropout(DROP)(x)\n",
        "x = Dense(300, activation='relu', kernel_regularizer=keras.regularizers.l2(L2))(x)\n",
        "x = Dropout(DROP)(x)\n",
        "x = Dense(300, activation='relu', kernel_regularizer=keras.regularizers.l2(L2))(x)\n",
        "x = Dropout(DROP)(x)\n",
        "x = Dense(50, activation='relu', kernel_regularizer=keras.regularizers.l2(L2))(x)\n",
        "x = Dropout(DROP)(x)\n",
        "x = Dense(50, activation='relu', kernel_regularizer=keras.regularizers.l2(L2))(x) \n",
        "x = Dropout(DROP)(x)\n",
        "predictions = Dense(num_classes, activation='softmax')(x) \n",
        "\n",
        "model = Model(inputs=base_model.input, outputs=predictions)\n",
        "model.compile(optimizer='adam', loss='categorical_crossentropy', metrics=['accuracy'])"
      ],
      "id": "QNXYkQF-3fYn",
      "execution_count": null,
      "outputs": []
    },
    {
      "cell_type": "code",
      "metadata": {
        "colab": {
          "base_uri": "https://localhost:8080/"
        },
        "id": "KQEAULme3d_2",
        "outputId": "71252487-509a-4308-ce92-c0106311d8a7"
      },
      "source": [
        "lr = (ReduceLROnPlateau(factor=.5, patience=3, verbose=1))\n",
        "es = (EarlyStopping(verbose=1, patience = 8, restore_best_weights=True, monitor='val_loss'))\n",
        "history_vgg_cnn_model = model.fit(train_generator,\n",
        "                      steps_per_epoch=STEP_SIZE_TRAIN,\n",
        "                      validation_data=valid_generator,\n",
        "                      validation_steps=STEP_SIZE_VALID,\n",
        "                      epochs=epochs,\n",
        "                      callbacks = [es, lr])"
      ],
      "id": "KQEAULme3d_2",
      "execution_count": null,
      "outputs": [
        {
          "output_type": "stream",
          "name": "stdout",
          "text": [
            "Epoch 1/100\n",
            "96/96 [==============================] - 123s 1s/step - loss: 13422.2715 - accuracy: 0.2650 - val_loss: 2162.1309 - val_accuracy: 0.2747 - lr: 0.0010\n",
            "Epoch 2/100\n",
            "96/96 [==============================] - 119s 1s/step - loss: 784.7031 - accuracy: 0.2800 - val_loss: 203.8680 - val_accuracy: 0.2714 - lr: 0.0010\n",
            "Epoch 3/100\n",
            "96/96 [==============================] - 119s 1s/step - loss: 93.4028 - accuracy: 0.2784 - val_loss: 32.6886 - val_accuracy: 0.2714 - lr: 0.0010\n",
            "Epoch 4/100\n",
            "96/96 [==============================] - 121s 1s/step - loss: 15.7504 - accuracy: 0.2790 - val_loss: 6.2491 - val_accuracy: 0.2730 - lr: 0.0010\n",
            "Epoch 5/100\n",
            "96/96 [==============================] - 120s 1s/step - loss: 3.7625 - accuracy: 0.2787 - val_loss: 2.4492 - val_accuracy: 0.2714 - lr: 0.0010\n",
            "Epoch 6/100\n",
            "96/96 [==============================] - 119s 1s/step - loss: 2.1737 - accuracy: 0.2777 - val_loss: 2.0263 - val_accuracy: 0.2747 - lr: 0.0010\n",
            "Epoch 7/100\n",
            "96/96 [==============================] - 119s 1s/step - loss: 2.0039 - accuracy: 0.2751 - val_loss: 1.9893 - val_accuracy: 0.2730 - lr: 0.0010\n",
            "Epoch 8/100\n",
            "96/96 [==============================] - 118s 1s/step - loss: 1.9934 - accuracy: 0.2787 - val_loss: 1.9847 - val_accuracy: 0.2730 - lr: 0.0010\n",
            "Epoch 9/100\n",
            "96/96 [==============================] - 118s 1s/step - loss: 1.9896 - accuracy: 0.2784 - val_loss: 1.9919 - val_accuracy: 0.2697 - lr: 0.0010\n",
            "Epoch 10/100\n",
            "96/96 [==============================] - 119s 1s/step - loss: 1.9928 - accuracy: 0.2777 - val_loss: 1.9905 - val_accuracy: 0.2714 - lr: 0.0010\n",
            "Epoch 11/100\n",
            "96/96 [==============================] - ETA: 0s - loss: 1.9925 - accuracy: 0.2774\n",
            "Epoch 00011: ReduceLROnPlateau reducing learning rate to 0.0005000000237487257.\n",
            "96/96 [==============================] - 119s 1s/step - loss: 1.9925 - accuracy: 0.2774 - val_loss: 1.9895 - val_accuracy: 0.2697 - lr: 0.0010\n",
            "Epoch 12/100\n",
            "96/96 [==============================] - 120s 1s/step - loss: 1.9918 - accuracy: 0.2790 - val_loss: 1.9871 - val_accuracy: 0.2714 - lr: 5.0000e-04\n",
            "Epoch 13/100\n",
            "96/96 [==============================] - 119s 1s/step - loss: 1.9928 - accuracy: 0.2787 - val_loss: 1.9958 - val_accuracy: 0.2681 - lr: 5.0000e-04\n",
            "Epoch 14/100\n",
            "96/96 [==============================] - ETA: 0s - loss: 1.9917 - accuracy: 0.2787\n",
            "Epoch 00014: ReduceLROnPlateau reducing learning rate to 0.0002500000118743628.\n",
            "96/96 [==============================] - 120s 1s/step - loss: 1.9917 - accuracy: 0.2787 - val_loss: 1.9870 - val_accuracy: 0.2730 - lr: 5.0000e-04\n",
            "Epoch 15/100\n",
            "96/96 [==============================] - 119s 1s/step - loss: 1.9959 - accuracy: 0.2774 - val_loss: 1.9856 - val_accuracy: 0.2714 - lr: 2.5000e-04\n",
            "Epoch 16/100\n",
            "96/96 [==============================] - ETA: 0s - loss: 1.9960 - accuracy: 0.2787Restoring model weights from the end of the best epoch: 8.\n",
            "96/96 [==============================] - 120s 1s/step - loss: 1.9960 - accuracy: 0.2787 - val_loss: 1.9869 - val_accuracy: 0.2763 - lr: 2.5000e-04\n",
            "Epoch 00016: early stopping\n"
          ]
        }
      ]
    },
    {
      "cell_type": "code",
      "metadata": {
        "id": "Oun6X8cI38JH"
      },
      "source": [
        "model.save('vgg16_cnn_model_single_label.h5')"
      ],
      "id": "Oun6X8cI38JH",
      "execution_count": null,
      "outputs": []
    },
    {
      "cell_type": "code",
      "metadata": {
        "colab": {
          "base_uri": "https://localhost:8080/",
          "height": 499
        },
        "id": "LEBDn8oF37aR",
        "outputId": "46a26c8d-6823-4b87-dde2-b7e3f4652477"
      },
      "source": [
        "number_of_epochs_it_ran = len(history_vgg_cnn_model.history['loss'])\n",
        "\n",
        "acc = history_vgg_cnn_model.history['accuracy']\n",
        "val_acc = history_vgg_cnn_model.history['val_accuracy']\n",
        "\n",
        "loss = history_vgg_cnn_model.history['loss']\n",
        "val_loss = history_vgg_cnn_model.history['val_loss']\n",
        "\n",
        "epochs_range = range(number_of_epochs_it_ran)\n",
        "\n",
        "plt.figure(figsize=(8, 8))\n",
        "plt.subplot(1, 2, 1)\n",
        "plt.plot(epochs_range, acc, label='Training Accuracy')\n",
        "plt.plot(epochs_range, val_acc, label='Validation Accuracy')\n",
        "plt.legend(loc='lower right')\n",
        "plt.title('Training and Validation Accuracy')\n",
        "\n",
        "plt.subplot(1, 2, 2)\n",
        "plt.plot(epochs_range, loss, label='Training Loss')\n",
        "plt.plot(epochs_range, val_loss, label='Validation Loss')\n",
        "plt.legend(loc='upper right')\n",
        "plt.title('Training and Validation Loss')\n",
        "plt.show()"
      ],
      "id": "LEBDn8oF37aR",
      "execution_count": null,
      "outputs": [
        {
          "output_type": "display_data",
          "data": {
            "image/png": "[encoded data removed]",
            "text/plain": [
              "<Figure size 576x576 with 2 Axes>"
            ]
          },
          "metadata": {
            "needs_background": "light"
          }
        }
      ]
    },
    {
      "cell_type": "code",
      "metadata": {
        "id": "qZUOF7a136Qm"
      },
      "source": [
        ""
      ],
      "id": "qZUOF7a136Qm",
      "execution_count": null,
      "outputs": []
    },
    {
      "cell_type": "code",
      "metadata": {
        "id": "gqwYrg5T3Z8z"
      },
      "source": [
        ""
      ],
      "id": "gqwYrg5T3Z8z",
      "execution_count": null,
      "outputs": []
    },
    {
      "cell_type": "code",
      "metadata": {
        "id": "u-Ma6ADU3Xy4"
      },
      "source": [
        ""
      ],
      "id": "u-Ma6ADU3Xy4",
      "execution_count": null,
      "outputs": []
    },
    {
      "cell_type": "code",
      "metadata": {
        "id": "2210a3c4"
      },
      "source": [
        ""
      ],
      "id": "2210a3c4",
      "execution_count": null,
      "outputs": []
    }
  ]
}